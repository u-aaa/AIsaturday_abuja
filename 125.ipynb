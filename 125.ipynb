{
  "nbformat": 4,
  "nbformat_minor": 0,
  "metadata": {
    "kernelspec": {
      "display_name": "Python 3",
      "language": "python",
      "name": "python3"
    },
    "language_info": {
      "codemirror_mode": {
        "name": "ipython",
        "version": 3
      },
      "file_extension": ".py",
      "mimetype": "text/x-python",
      "name": "python",
      "nbconvert_exporter": "python",
      "pygments_lexer": "ipython3",
      "version": "3.7.6"
    },
    "colab": {
      "name": "125.ipynb",
      "provenance": [],
      "toc_visible": true
    }
  },
  "cells": [
    {
      "cell_type": "markdown",
      "metadata": {
        "id": "KO8x1JOkv_nJ"
      },
      "source": [
        "# Module 1: Data Science Fundamentals"
      ]
    },
    {
      "cell_type": "markdown",
      "metadata": {
        "id": "zwkAs6Ezv_oD"
      },
      "source": [
        "## Sprint 2: Statistical Tests and Experiments"
      ]
    },
    {
      "cell_type": "markdown",
      "metadata": {
        "id": "xoupaa1Wv_oG"
      },
      "source": [
        "## Let's analyse Udacity A/B test!"
      ]
    },
    {
      "cell_type": "markdown",
      "metadata": {
        "id": "_sOKyYLhv_oI"
      },
      "source": [
        "<div><img style=\"height: 350px;\" src=\"https://upload.wikimedia.org/wikipedia/commons/3/3b/Udacity_logo.png\" /></div>"
      ]
    },
    {
      "cell_type": "markdown",
      "metadata": {
        "id": "d1ez2WuZv_oJ"
      },
      "source": [
        "## Background"
      ]
    },
    {
      "cell_type": "markdown",
      "metadata": {
        "id": "1mAt9CvXv_oL"
      },
      "source": [
        "For the last day of this sprint, we are analyzing once run, online Udacity A/B test results! The dataset is part of the Udacity Google's A/B testing course, which we have watched a couple of lessons from in Subproject 2 of this sprint."
      ]
    },
    {
      "cell_type": "markdown",
      "metadata": {
        "id": "fbAc2Y5Ev_oM"
      },
      "source": [
        "Data is available at https://docs.google.com/spreadsheets/d/1Mu5u9GrybDdska-ljPXyBjTpdZIUev_6i7t4LRDfXM8/edit#gid=0"
      ]
    },
    {
      "cell_type": "markdown",
      "metadata": {
        "id": "-H6f2OXvv_oN"
      },
      "source": [
        "---------"
      ]
    },
    {
      "cell_type": "markdown",
      "metadata": {
        "id": "BKKd4dTgv_oO"
      },
      "source": [
        "## How to start?"
      ]
    },
    {
      "cell_type": "markdown",
      "metadata": {
        "id": "98bzX3BKv_oO"
      },
      "source": [
        "The data consists of two sheets, each for different group of the test. Download the sheets as CSVs and union them to form 1 dataset."
      ]
    },
    {
      "cell_type": "markdown",
      "metadata": {
        "id": "OBxlQbeuv_oP"
      },
      "source": [
        "## Concepts to explore"
      ]
    },
    {
      "cell_type": "markdown",
      "metadata": {
        "id": "UZ7zUAF-v_oQ"
      },
      "source": [
        "You will mostly focus on statistical hypothesis testing in this project on real-life data."
      ]
    },
    {
      "cell_type": "markdown",
      "metadata": {
        "id": "WJesulD9v_oQ"
      },
      "source": [
        "## Requirements"
      ]
    },
    {
      "cell_type": "markdown",
      "metadata": {
        "id": "mBQQeDzqv_oR"
      },
      "source": [
        "* Visualize 95% confidence interval between control and experiment groups on [click-through rate](https://en.wikipedia.org/wiki/Click-through_rate) metric. Explain what the confidence interval means, what's the relationship with the population of a group.\n",
        "* Verify that the difference in each of the metrics between control and experiment groups is statistically significant using z-test, 95% confidence level.\n",
        "* Verify that the difference in each of the metrics between control and experiment groups is statistically significant using t-test, 95% confidence level.\n",
        "* Compare both test method results. Explain why they differ / do not differ that much and why.\n",
        "* Choose 1 method (either z or t) and explore statistical significance of any metric under different confidence levels - 60%, 90%, 95%, 99%. If conclusions about significance differ under different confidence levels, explain why.\n",
        "* Calculate p-values."
      ]
    },
    {
      "cell_type": "markdown",
      "metadata": {
        "id": "S2N5MwDNv_oS"
      },
      "source": [
        "## Evaluation Criteria"
      ]
    },
    {
      "cell_type": "markdown",
      "metadata": {
        "id": "gdXsvObwv_oT"
      },
      "source": [
        "- Correctness of used test methods.\n",
        "- Soundness of explanations given.\n",
        "- Adherence to the requirements."
      ]
    },
    {
      "cell_type": "markdown",
      "metadata": {
        "id": "pCUqX4V6v_oT"
      },
      "source": [
        "\n",
        "## Sample correction questions\n",
        "\n",
        "During a correction, you may get asked questions that test your understanding of covered topics.\n",
        "\n",
        "- Why collect data from sample rather than data from a population?\n",
        "- What is the Central Limit Theorem and why is it important?\n",
        "- Explain confidence intervals and significance in statistics\n",
        "- Explain what p-value is"
      ]
    },
    {
      "cell_type": "code",
      "metadata": {
        "id": "M9tVj1bx09vO",
        "colab": {
          "base_uri": "https://localhost:8080/"
        },
        "outputId": "e8107a61-0555-416c-c6d5-e0de3f458dae"
      },
      "source": [
        "import numpy as np\n",
        "import pandas as pd\n",
        "from matplotlib import pyplot as plt\n",
        "import seaborn as sns\n",
        "from scipy.stats import binom\n",
        "from scipy.stats import norm\n",
        "import math\n",
        "from statsmodels.stats.proportion import proportions_ztest\n",
        "from scipy.stats import ttest_ind"
      ],
      "execution_count": 1,
      "outputs": [
        {
          "output_type": "stream",
          "text": [
            "/usr/local/lib/python3.7/dist-packages/statsmodels/tools/_testing.py:19: FutureWarning: pandas.util.testing is deprecated. Use the functions in the public API at pandas.testing instead.\n",
            "  import pandas.util.testing as tm\n"
          ],
          "name": "stderr"
        }
      ]
    },
    {
      "cell_type": "markdown",
      "metadata": {
        "id": "lco6lewOTXfc"
      },
      "source": [
        "Importing the data"
      ]
    },
    {
      "cell_type": "code",
      "metadata": {
        "id": "hqzFfNB-1fea",
        "colab": {
          "base_uri": "https://localhost:8080/",
          "height": 197
        },
        "outputId": "4d2dff87-3112-4252-a161-79a06df84a27"
      },
      "source": [
        "gsheetkey = '1Mu5u9GrybDdska-ljPXyBjTpdZIUev_6i7t4LRDfXM8'\n",
        "data_url = f'https://docs.google.com/spreadsheet/ccc?key={gsheetkey}&output=xlsx'\n",
        "control_df = pd.read_excel(data_url, sheet_name='Control')\n",
        "control_df.head()"
      ],
      "execution_count": 2,
      "outputs": [
        {
          "output_type": "execute_result",
          "data": {
            "text/html": [
              "<div>\n",
              "<style scoped>\n",
              "    .dataframe tbody tr th:only-of-type {\n",
              "        vertical-align: middle;\n",
              "    }\n",
              "\n",
              "    .dataframe tbody tr th {\n",
              "        vertical-align: top;\n",
              "    }\n",
              "\n",
              "    .dataframe thead th {\n",
              "        text-align: right;\n",
              "    }\n",
              "</style>\n",
              "<table border=\"1\" class=\"dataframe\">\n",
              "  <thead>\n",
              "    <tr style=\"text-align: right;\">\n",
              "      <th></th>\n",
              "      <th>Date</th>\n",
              "      <th>Pageviews</th>\n",
              "      <th>Clicks</th>\n",
              "      <th>Enrollments</th>\n",
              "      <th>Payments</th>\n",
              "    </tr>\n",
              "  </thead>\n",
              "  <tbody>\n",
              "    <tr>\n",
              "      <th>0</th>\n",
              "      <td>Sat, Oct 11</td>\n",
              "      <td>7723</td>\n",
              "      <td>687</td>\n",
              "      <td>134.0</td>\n",
              "      <td>70.0</td>\n",
              "    </tr>\n",
              "    <tr>\n",
              "      <th>1</th>\n",
              "      <td>Sun, Oct 12</td>\n",
              "      <td>9102</td>\n",
              "      <td>779</td>\n",
              "      <td>147.0</td>\n",
              "      <td>70.0</td>\n",
              "    </tr>\n",
              "    <tr>\n",
              "      <th>2</th>\n",
              "      <td>Mon, Oct 13</td>\n",
              "      <td>10511</td>\n",
              "      <td>909</td>\n",
              "      <td>167.0</td>\n",
              "      <td>95.0</td>\n",
              "    </tr>\n",
              "    <tr>\n",
              "      <th>3</th>\n",
              "      <td>Tue, Oct 14</td>\n",
              "      <td>9871</td>\n",
              "      <td>836</td>\n",
              "      <td>156.0</td>\n",
              "      <td>105.0</td>\n",
              "    </tr>\n",
              "    <tr>\n",
              "      <th>4</th>\n",
              "      <td>Wed, Oct 15</td>\n",
              "      <td>10014</td>\n",
              "      <td>837</td>\n",
              "      <td>163.0</td>\n",
              "      <td>64.0</td>\n",
              "    </tr>\n",
              "  </tbody>\n",
              "</table>\n",
              "</div>"
            ],
            "text/plain": [
              "          Date  Pageviews  Clicks  Enrollments  Payments\n",
              "0  Sat, Oct 11       7723     687        134.0      70.0\n",
              "1  Sun, Oct 12       9102     779        147.0      70.0\n",
              "2  Mon, Oct 13      10511     909        167.0      95.0\n",
              "3  Tue, Oct 14       9871     836        156.0     105.0\n",
              "4  Wed, Oct 15      10014     837        163.0      64.0"
            ]
          },
          "metadata": {
            "tags": []
          },
          "execution_count": 2
        }
      ]
    },
    {
      "cell_type": "code",
      "metadata": {
        "colab": {
          "base_uri": "https://localhost:8080/",
          "height": 197
        },
        "id": "L5H9BbbtHpEv",
        "outputId": "15556ce0-2bfa-4239-e74f-c75264106177"
      },
      "source": [
        "control_df['group'] = 'Control'\n",
        "control_df.head()"
      ],
      "execution_count": 3,
      "outputs": [
        {
          "output_type": "execute_result",
          "data": {
            "text/html": [
              "<div>\n",
              "<style scoped>\n",
              "    .dataframe tbody tr th:only-of-type {\n",
              "        vertical-align: middle;\n",
              "    }\n",
              "\n",
              "    .dataframe tbody tr th {\n",
              "        vertical-align: top;\n",
              "    }\n",
              "\n",
              "    .dataframe thead th {\n",
              "        text-align: right;\n",
              "    }\n",
              "</style>\n",
              "<table border=\"1\" class=\"dataframe\">\n",
              "  <thead>\n",
              "    <tr style=\"text-align: right;\">\n",
              "      <th></th>\n",
              "      <th>Date</th>\n",
              "      <th>Pageviews</th>\n",
              "      <th>Clicks</th>\n",
              "      <th>Enrollments</th>\n",
              "      <th>Payments</th>\n",
              "      <th>group</th>\n",
              "    </tr>\n",
              "  </thead>\n",
              "  <tbody>\n",
              "    <tr>\n",
              "      <th>0</th>\n",
              "      <td>Sat, Oct 11</td>\n",
              "      <td>7723</td>\n",
              "      <td>687</td>\n",
              "      <td>134.0</td>\n",
              "      <td>70.0</td>\n",
              "      <td>Control</td>\n",
              "    </tr>\n",
              "    <tr>\n",
              "      <th>1</th>\n",
              "      <td>Sun, Oct 12</td>\n",
              "      <td>9102</td>\n",
              "      <td>779</td>\n",
              "      <td>147.0</td>\n",
              "      <td>70.0</td>\n",
              "      <td>Control</td>\n",
              "    </tr>\n",
              "    <tr>\n",
              "      <th>2</th>\n",
              "      <td>Mon, Oct 13</td>\n",
              "      <td>10511</td>\n",
              "      <td>909</td>\n",
              "      <td>167.0</td>\n",
              "      <td>95.0</td>\n",
              "      <td>Control</td>\n",
              "    </tr>\n",
              "    <tr>\n",
              "      <th>3</th>\n",
              "      <td>Tue, Oct 14</td>\n",
              "      <td>9871</td>\n",
              "      <td>836</td>\n",
              "      <td>156.0</td>\n",
              "      <td>105.0</td>\n",
              "      <td>Control</td>\n",
              "    </tr>\n",
              "    <tr>\n",
              "      <th>4</th>\n",
              "      <td>Wed, Oct 15</td>\n",
              "      <td>10014</td>\n",
              "      <td>837</td>\n",
              "      <td>163.0</td>\n",
              "      <td>64.0</td>\n",
              "      <td>Control</td>\n",
              "    </tr>\n",
              "  </tbody>\n",
              "</table>\n",
              "</div>"
            ],
            "text/plain": [
              "          Date  Pageviews  Clicks  Enrollments  Payments    group\n",
              "0  Sat, Oct 11       7723     687        134.0      70.0  Control\n",
              "1  Sun, Oct 12       9102     779        147.0      70.0  Control\n",
              "2  Mon, Oct 13      10511     909        167.0      95.0  Control\n",
              "3  Tue, Oct 14       9871     836        156.0     105.0  Control\n",
              "4  Wed, Oct 15      10014     837        163.0      64.0  Control"
            ]
          },
          "metadata": {
            "tags": []
          },
          "execution_count": 3
        }
      ]
    },
    {
      "cell_type": "code",
      "metadata": {
        "id": "-xW_68us7k0M",
        "colab": {
          "base_uri": "https://localhost:8080/",
          "height": 197
        },
        "outputId": "369715d4-6813-43e4-fe7d-fa0805aa0dd0"
      },
      "source": [
        "experiment_df = pd.read_excel(data_url, sheet_name='Experiment')\n",
        "experiment_df.head()"
      ],
      "execution_count": 4,
      "outputs": [
        {
          "output_type": "execute_result",
          "data": {
            "text/html": [
              "<div>\n",
              "<style scoped>\n",
              "    .dataframe tbody tr th:only-of-type {\n",
              "        vertical-align: middle;\n",
              "    }\n",
              "\n",
              "    .dataframe tbody tr th {\n",
              "        vertical-align: top;\n",
              "    }\n",
              "\n",
              "    .dataframe thead th {\n",
              "        text-align: right;\n",
              "    }\n",
              "</style>\n",
              "<table border=\"1\" class=\"dataframe\">\n",
              "  <thead>\n",
              "    <tr style=\"text-align: right;\">\n",
              "      <th></th>\n",
              "      <th>Date</th>\n",
              "      <th>Pageviews</th>\n",
              "      <th>Clicks</th>\n",
              "      <th>Enrollments</th>\n",
              "      <th>Payments</th>\n",
              "    </tr>\n",
              "  </thead>\n",
              "  <tbody>\n",
              "    <tr>\n",
              "      <th>0</th>\n",
              "      <td>Sat, Oct 11</td>\n",
              "      <td>7716</td>\n",
              "      <td>686</td>\n",
              "      <td>105.0</td>\n",
              "      <td>34.0</td>\n",
              "    </tr>\n",
              "    <tr>\n",
              "      <th>1</th>\n",
              "      <td>Sun, Oct 12</td>\n",
              "      <td>9288</td>\n",
              "      <td>785</td>\n",
              "      <td>116.0</td>\n",
              "      <td>91.0</td>\n",
              "    </tr>\n",
              "    <tr>\n",
              "      <th>2</th>\n",
              "      <td>Mon, Oct 13</td>\n",
              "      <td>10480</td>\n",
              "      <td>884</td>\n",
              "      <td>145.0</td>\n",
              "      <td>79.0</td>\n",
              "    </tr>\n",
              "    <tr>\n",
              "      <th>3</th>\n",
              "      <td>Tue, Oct 14</td>\n",
              "      <td>9867</td>\n",
              "      <td>827</td>\n",
              "      <td>138.0</td>\n",
              "      <td>92.0</td>\n",
              "    </tr>\n",
              "    <tr>\n",
              "      <th>4</th>\n",
              "      <td>Wed, Oct 15</td>\n",
              "      <td>9793</td>\n",
              "      <td>832</td>\n",
              "      <td>140.0</td>\n",
              "      <td>94.0</td>\n",
              "    </tr>\n",
              "  </tbody>\n",
              "</table>\n",
              "</div>"
            ],
            "text/plain": [
              "          Date  Pageviews  Clicks  Enrollments  Payments\n",
              "0  Sat, Oct 11       7716     686        105.0      34.0\n",
              "1  Sun, Oct 12       9288     785        116.0      91.0\n",
              "2  Mon, Oct 13      10480     884        145.0      79.0\n",
              "3  Tue, Oct 14       9867     827        138.0      92.0\n",
              "4  Wed, Oct 15       9793     832        140.0      94.0"
            ]
          },
          "metadata": {
            "tags": []
          },
          "execution_count": 4
        }
      ]
    },
    {
      "cell_type": "code",
      "metadata": {
        "colab": {
          "base_uri": "https://localhost:8080/",
          "height": 197
        },
        "id": "FLBw4c1uIS9o",
        "outputId": "0567f4b3-dacf-4747-b54c-9ff5ad0cbf2a"
      },
      "source": [
        "experiment_df['group'] = 'Experiment'\n",
        "experiment_df.head()"
      ],
      "execution_count": 5,
      "outputs": [
        {
          "output_type": "execute_result",
          "data": {
            "text/html": [
              "<div>\n",
              "<style scoped>\n",
              "    .dataframe tbody tr th:only-of-type {\n",
              "        vertical-align: middle;\n",
              "    }\n",
              "\n",
              "    .dataframe tbody tr th {\n",
              "        vertical-align: top;\n",
              "    }\n",
              "\n",
              "    .dataframe thead th {\n",
              "        text-align: right;\n",
              "    }\n",
              "</style>\n",
              "<table border=\"1\" class=\"dataframe\">\n",
              "  <thead>\n",
              "    <tr style=\"text-align: right;\">\n",
              "      <th></th>\n",
              "      <th>Date</th>\n",
              "      <th>Pageviews</th>\n",
              "      <th>Clicks</th>\n",
              "      <th>Enrollments</th>\n",
              "      <th>Payments</th>\n",
              "      <th>group</th>\n",
              "    </tr>\n",
              "  </thead>\n",
              "  <tbody>\n",
              "    <tr>\n",
              "      <th>0</th>\n",
              "      <td>Sat, Oct 11</td>\n",
              "      <td>7716</td>\n",
              "      <td>686</td>\n",
              "      <td>105.0</td>\n",
              "      <td>34.0</td>\n",
              "      <td>Experiment</td>\n",
              "    </tr>\n",
              "    <tr>\n",
              "      <th>1</th>\n",
              "      <td>Sun, Oct 12</td>\n",
              "      <td>9288</td>\n",
              "      <td>785</td>\n",
              "      <td>116.0</td>\n",
              "      <td>91.0</td>\n",
              "      <td>Experiment</td>\n",
              "    </tr>\n",
              "    <tr>\n",
              "      <th>2</th>\n",
              "      <td>Mon, Oct 13</td>\n",
              "      <td>10480</td>\n",
              "      <td>884</td>\n",
              "      <td>145.0</td>\n",
              "      <td>79.0</td>\n",
              "      <td>Experiment</td>\n",
              "    </tr>\n",
              "    <tr>\n",
              "      <th>3</th>\n",
              "      <td>Tue, Oct 14</td>\n",
              "      <td>9867</td>\n",
              "      <td>827</td>\n",
              "      <td>138.0</td>\n",
              "      <td>92.0</td>\n",
              "      <td>Experiment</td>\n",
              "    </tr>\n",
              "    <tr>\n",
              "      <th>4</th>\n",
              "      <td>Wed, Oct 15</td>\n",
              "      <td>9793</td>\n",
              "      <td>832</td>\n",
              "      <td>140.0</td>\n",
              "      <td>94.0</td>\n",
              "      <td>Experiment</td>\n",
              "    </tr>\n",
              "  </tbody>\n",
              "</table>\n",
              "</div>"
            ],
            "text/plain": [
              "          Date  Pageviews  Clicks  Enrollments  Payments       group\n",
              "0  Sat, Oct 11       7716     686        105.0      34.0  Experiment\n",
              "1  Sun, Oct 12       9288     785        116.0      91.0  Experiment\n",
              "2  Mon, Oct 13      10480     884        145.0      79.0  Experiment\n",
              "3  Tue, Oct 14       9867     827        138.0      92.0  Experiment\n",
              "4  Wed, Oct 15       9793     832        140.0      94.0  Experiment"
            ]
          },
          "metadata": {
            "tags": []
          },
          "execution_count": 5
        }
      ]
    },
    {
      "cell_type": "markdown",
      "metadata": {
        "id": "HcAw6ZFPTcS6"
      },
      "source": [
        "Concatenated the two datasets"
      ]
    },
    {
      "cell_type": "code",
      "metadata": {
        "colab": {
          "base_uri": "https://localhost:8080/",
          "height": 405
        },
        "id": "Q_vKj5MlIgu1",
        "outputId": "f655f19e-3989-482f-d2ce-47c46a78c453"
      },
      "source": [
        "total_data = pd.concat([control_df, experiment_df])\n",
        "total_data"
      ],
      "execution_count": 6,
      "outputs": [
        {
          "output_type": "execute_result",
          "data": {
            "text/html": [
              "<div>\n",
              "<style scoped>\n",
              "    .dataframe tbody tr th:only-of-type {\n",
              "        vertical-align: middle;\n",
              "    }\n",
              "\n",
              "    .dataframe tbody tr th {\n",
              "        vertical-align: top;\n",
              "    }\n",
              "\n",
              "    .dataframe thead th {\n",
              "        text-align: right;\n",
              "    }\n",
              "</style>\n",
              "<table border=\"1\" class=\"dataframe\">\n",
              "  <thead>\n",
              "    <tr style=\"text-align: right;\">\n",
              "      <th></th>\n",
              "      <th>Date</th>\n",
              "      <th>Pageviews</th>\n",
              "      <th>Clicks</th>\n",
              "      <th>Enrollments</th>\n",
              "      <th>Payments</th>\n",
              "      <th>group</th>\n",
              "    </tr>\n",
              "  </thead>\n",
              "  <tbody>\n",
              "    <tr>\n",
              "      <th>0</th>\n",
              "      <td>Sat, Oct 11</td>\n",
              "      <td>7723</td>\n",
              "      <td>687</td>\n",
              "      <td>134.0</td>\n",
              "      <td>70.0</td>\n",
              "      <td>Control</td>\n",
              "    </tr>\n",
              "    <tr>\n",
              "      <th>1</th>\n",
              "      <td>Sun, Oct 12</td>\n",
              "      <td>9102</td>\n",
              "      <td>779</td>\n",
              "      <td>147.0</td>\n",
              "      <td>70.0</td>\n",
              "      <td>Control</td>\n",
              "    </tr>\n",
              "    <tr>\n",
              "      <th>2</th>\n",
              "      <td>Mon, Oct 13</td>\n",
              "      <td>10511</td>\n",
              "      <td>909</td>\n",
              "      <td>167.0</td>\n",
              "      <td>95.0</td>\n",
              "      <td>Control</td>\n",
              "    </tr>\n",
              "    <tr>\n",
              "      <th>3</th>\n",
              "      <td>Tue, Oct 14</td>\n",
              "      <td>9871</td>\n",
              "      <td>836</td>\n",
              "      <td>156.0</td>\n",
              "      <td>105.0</td>\n",
              "      <td>Control</td>\n",
              "    </tr>\n",
              "    <tr>\n",
              "      <th>4</th>\n",
              "      <td>Wed, Oct 15</td>\n",
              "      <td>10014</td>\n",
              "      <td>837</td>\n",
              "      <td>163.0</td>\n",
              "      <td>64.0</td>\n",
              "      <td>Control</td>\n",
              "    </tr>\n",
              "    <tr>\n",
              "      <th>...</th>\n",
              "      <td>...</td>\n",
              "      <td>...</td>\n",
              "      <td>...</td>\n",
              "      <td>...</td>\n",
              "      <td>...</td>\n",
              "      <td>...</td>\n",
              "    </tr>\n",
              "    <tr>\n",
              "      <th>32</th>\n",
              "      <td>Wed, Nov 12</td>\n",
              "      <td>10042</td>\n",
              "      <td>802</td>\n",
              "      <td>NaN</td>\n",
              "      <td>NaN</td>\n",
              "      <td>Experiment</td>\n",
              "    </tr>\n",
              "    <tr>\n",
              "      <th>33</th>\n",
              "      <td>Thu, Nov 13</td>\n",
              "      <td>9721</td>\n",
              "      <td>829</td>\n",
              "      <td>NaN</td>\n",
              "      <td>NaN</td>\n",
              "      <td>Experiment</td>\n",
              "    </tr>\n",
              "    <tr>\n",
              "      <th>34</th>\n",
              "      <td>Fri, Nov 14</td>\n",
              "      <td>9304</td>\n",
              "      <td>770</td>\n",
              "      <td>NaN</td>\n",
              "      <td>NaN</td>\n",
              "      <td>Experiment</td>\n",
              "    </tr>\n",
              "    <tr>\n",
              "      <th>35</th>\n",
              "      <td>Sat, Nov 15</td>\n",
              "      <td>8668</td>\n",
              "      <td>724</td>\n",
              "      <td>NaN</td>\n",
              "      <td>NaN</td>\n",
              "      <td>Experiment</td>\n",
              "    </tr>\n",
              "    <tr>\n",
              "      <th>36</th>\n",
              "      <td>Sun, Nov 16</td>\n",
              "      <td>8988</td>\n",
              "      <td>710</td>\n",
              "      <td>NaN</td>\n",
              "      <td>NaN</td>\n",
              "      <td>Experiment</td>\n",
              "    </tr>\n",
              "  </tbody>\n",
              "</table>\n",
              "<p>74 rows × 6 columns</p>\n",
              "</div>"
            ],
            "text/plain": [
              "           Date  Pageviews  Clicks  Enrollments  Payments       group\n",
              "0   Sat, Oct 11       7723     687        134.0      70.0     Control\n",
              "1   Sun, Oct 12       9102     779        147.0      70.0     Control\n",
              "2   Mon, Oct 13      10511     909        167.0      95.0     Control\n",
              "3   Tue, Oct 14       9871     836        156.0     105.0     Control\n",
              "4   Wed, Oct 15      10014     837        163.0      64.0     Control\n",
              "..          ...        ...     ...          ...       ...         ...\n",
              "32  Wed, Nov 12      10042     802          NaN       NaN  Experiment\n",
              "33  Thu, Nov 13       9721     829          NaN       NaN  Experiment\n",
              "34  Fri, Nov 14       9304     770          NaN       NaN  Experiment\n",
              "35  Sat, Nov 15       8668     724          NaN       NaN  Experiment\n",
              "36  Sun, Nov 16       8988     710          NaN       NaN  Experiment\n",
              "\n",
              "[74 rows x 6 columns]"
            ]
          },
          "metadata": {
            "tags": []
          },
          "execution_count": 6
        }
      ]
    },
    {
      "cell_type": "code",
      "metadata": {
        "colab": {
          "base_uri": "https://localhost:8080/",
          "height": 107
        },
        "id": "-_RxNPsWchqI",
        "outputId": "a6f40979-61ef-4ed7-d9ed-808bb8be1472"
      },
      "source": [
        "total_grouped = total_data.groupby('group', as_index=False).sum()\n",
        "total_grouped"
      ],
      "execution_count": 7,
      "outputs": [
        {
          "output_type": "execute_result",
          "data": {
            "text/html": [
              "<div>\n",
              "<style scoped>\n",
              "    .dataframe tbody tr th:only-of-type {\n",
              "        vertical-align: middle;\n",
              "    }\n",
              "\n",
              "    .dataframe tbody tr th {\n",
              "        vertical-align: top;\n",
              "    }\n",
              "\n",
              "    .dataframe thead th {\n",
              "        text-align: right;\n",
              "    }\n",
              "</style>\n",
              "<table border=\"1\" class=\"dataframe\">\n",
              "  <thead>\n",
              "    <tr style=\"text-align: right;\">\n",
              "      <th></th>\n",
              "      <th>group</th>\n",
              "      <th>Pageviews</th>\n",
              "      <th>Clicks</th>\n",
              "      <th>Enrollments</th>\n",
              "      <th>Payments</th>\n",
              "    </tr>\n",
              "  </thead>\n",
              "  <tbody>\n",
              "    <tr>\n",
              "      <th>0</th>\n",
              "      <td>Control</td>\n",
              "      <td>345543</td>\n",
              "      <td>28378</td>\n",
              "      <td>3785.0</td>\n",
              "      <td>2033.0</td>\n",
              "    </tr>\n",
              "    <tr>\n",
              "      <th>1</th>\n",
              "      <td>Experiment</td>\n",
              "      <td>344660</td>\n",
              "      <td>28325</td>\n",
              "      <td>3423.0</td>\n",
              "      <td>1945.0</td>\n",
              "    </tr>\n",
              "  </tbody>\n",
              "</table>\n",
              "</div>"
            ],
            "text/plain": [
              "        group  Pageviews  Clicks  Enrollments  Payments\n",
              "0     Control     345543   28378       3785.0    2033.0\n",
              "1  Experiment     344660   28325       3423.0    1945.0"
            ]
          },
          "metadata": {
            "tags": []
          },
          "execution_count": 7
        }
      ]
    },
    {
      "cell_type": "markdown",
      "metadata": {
        "id": "VwI470ehTld7"
      },
      "source": [
        "Calculated the CTR"
      ]
    },
    {
      "cell_type": "code",
      "metadata": {
        "colab": {
          "base_uri": "https://localhost:8080/",
          "height": 107
        },
        "id": "GlWBT33zStAg",
        "outputId": "9b5a3ba9-0538-44c2-edfd-72554245b31a"
      },
      "source": [
        "total_grouped['ctr'] = total_grouped['Clicks']/total_grouped['Pageviews']\n",
        "total_grouped"
      ],
      "execution_count": 8,
      "outputs": [
        {
          "output_type": "execute_result",
          "data": {
            "text/html": [
              "<div>\n",
              "<style scoped>\n",
              "    .dataframe tbody tr th:only-of-type {\n",
              "        vertical-align: middle;\n",
              "    }\n",
              "\n",
              "    .dataframe tbody tr th {\n",
              "        vertical-align: top;\n",
              "    }\n",
              "\n",
              "    .dataframe thead th {\n",
              "        text-align: right;\n",
              "    }\n",
              "</style>\n",
              "<table border=\"1\" class=\"dataframe\">\n",
              "  <thead>\n",
              "    <tr style=\"text-align: right;\">\n",
              "      <th></th>\n",
              "      <th>group</th>\n",
              "      <th>Pageviews</th>\n",
              "      <th>Clicks</th>\n",
              "      <th>Enrollments</th>\n",
              "      <th>Payments</th>\n",
              "      <th>ctr</th>\n",
              "    </tr>\n",
              "  </thead>\n",
              "  <tbody>\n",
              "    <tr>\n",
              "      <th>0</th>\n",
              "      <td>Control</td>\n",
              "      <td>345543</td>\n",
              "      <td>28378</td>\n",
              "      <td>3785.0</td>\n",
              "      <td>2033.0</td>\n",
              "      <td>0.082126</td>\n",
              "    </tr>\n",
              "    <tr>\n",
              "      <th>1</th>\n",
              "      <td>Experiment</td>\n",
              "      <td>344660</td>\n",
              "      <td>28325</td>\n",
              "      <td>3423.0</td>\n",
              "      <td>1945.0</td>\n",
              "      <td>0.082182</td>\n",
              "    </tr>\n",
              "  </tbody>\n",
              "</table>\n",
              "</div>"
            ],
            "text/plain": [
              "        group  Pageviews  Clicks  Enrollments  Payments       ctr\n",
              "0     Control     345543   28378       3785.0    2033.0  0.082126\n",
              "1  Experiment     344660   28325       3423.0    1945.0  0.082182"
            ]
          },
          "metadata": {
            "tags": []
          },
          "execution_count": 8
        }
      ]
    },
    {
      "cell_type": "markdown",
      "metadata": {
        "id": "u2HnIM8F1mGR"
      },
      "source": [
        "# Sanity Check"
      ]
    },
    {
      "cell_type": "code",
      "metadata": {
        "id": "pleXx5UW7cEu"
      },
      "source": [
        "def get_z_score(confidence = 95):\n",
        "  sig = 1 - ((100 - confidence)/200)\n",
        "  (1-(1-0.95)/2)\n",
        "  z_score = norm.ppf(sig)\n",
        "  return round(z_score, 4)"
      ],
      "execution_count": 10,
      "outputs": []
    },
    {
      "cell_type": "code",
      "metadata": {
        "colab": {
          "base_uri": "https://localhost:8080/"
        },
        "id": "zJNyK3YhHBgy",
        "outputId": "fd17a070-42c3-4de8-ef66-433484f4d633"
      },
      "source": [
        "z_score = get_z_score(confidence= 95)\n",
        "print(z_score)"
      ],
      "execution_count": 11,
      "outputs": [
        {
          "output_type": "stream",
          "text": [
            "1.96\n"
          ],
          "name": "stdout"
        }
      ]
    },
    {
      "cell_type": "code",
      "metadata": {
        "id": "9Q3K2kK71lIr",
        "outputId": "d19505a9-2afd-45a9-8ee4-a21bb8e5eea4",
        "colab": {
          "base_uri": "https://localhost:8080/"
        }
      },
      "source": [
        "m_e = z_score * math.sqrt((0.5*0.5)/(total_grouped['Pageviews'][0] + total_grouped['Pageviews'][1]))\n",
        "m_e"
      ],
      "execution_count": 12,
      "outputs": [
        {
          "output_type": "execute_result",
          "data": {
            "text/plain": [
              "0.0011796078509768765"
            ]
          },
          "metadata": {
            "tags": []
          },
          "execution_count": 12
        }
      ]
    },
    {
      "cell_type": "code",
      "metadata": {
        "id": "2TRYTWTl7UQA",
        "outputId": "27c2f39f-6d34-4f50-fa60-ecd9647afc86",
        "colab": {
          "base_uri": "https://localhost:8080/"
        }
      },
      "source": [
        "confidence_range = [0.5 - m_e , 0.5 + m_e]\n",
        "confidence_range"
      ],
      "execution_count": 13,
      "outputs": [
        {
          "output_type": "execute_result",
          "data": {
            "text/plain": [
              "[0.49882039214902313, 0.5011796078509769]"
            ]
          },
          "metadata": {
            "tags": []
          },
          "execution_count": 13
        }
      ]
    },
    {
      "cell_type": "markdown",
      "metadata": {
        "id": "7DzoEBXLMV_w"
      },
      "source": [
        "# Calculating the Confidence Interval\n",
        "\n"
      ]
    },
    {
      "cell_type": "code",
      "metadata": {
        "id": "zR6EKTTpfIvA",
        "colab": {
          "base_uri": "https://localhost:8080/",
          "height": 107
        },
        "outputId": "b49ab805-b879-49d5-8f06-e690677d6956"
      },
      "source": [
        "total_grouped['margin_error'] = total_grouped[['ctr', 'Pageviews']].apply(lambda x: z_score * math.sqrt((x[0] * (1 - x[0]))/ x[1]), axis = 1)\n",
        "total_grouped"
      ],
      "execution_count": null,
      "outputs": [
        {
          "output_type": "execute_result",
          "data": {
            "text/html": [
              "<div>\n",
              "<style scoped>\n",
              "    .dataframe tbody tr th:only-of-type {\n",
              "        vertical-align: middle;\n",
              "    }\n",
              "\n",
              "    .dataframe tbody tr th {\n",
              "        vertical-align: top;\n",
              "    }\n",
              "\n",
              "    .dataframe thead th {\n",
              "        text-align: right;\n",
              "    }\n",
              "</style>\n",
              "<table border=\"1\" class=\"dataframe\">\n",
              "  <thead>\n",
              "    <tr style=\"text-align: right;\">\n",
              "      <th></th>\n",
              "      <th>group</th>\n",
              "      <th>Pageviews</th>\n",
              "      <th>Clicks</th>\n",
              "      <th>Enrollments</th>\n",
              "      <th>Payments</th>\n",
              "      <th>ctr</th>\n",
              "      <th>margin_error</th>\n",
              "    </tr>\n",
              "  </thead>\n",
              "  <tbody>\n",
              "    <tr>\n",
              "      <th>0</th>\n",
              "      <td>Control</td>\n",
              "      <td>345543</td>\n",
              "      <td>28378</td>\n",
              "      <td>3785.0</td>\n",
              "      <td>2033.0</td>\n",
              "      <td>0.082126</td>\n",
              "      <td>0.000915</td>\n",
              "    </tr>\n",
              "    <tr>\n",
              "      <th>1</th>\n",
              "      <td>Experiment</td>\n",
              "      <td>344660</td>\n",
              "      <td>28325</td>\n",
              "      <td>3423.0</td>\n",
              "      <td>1945.0</td>\n",
              "      <td>0.082182</td>\n",
              "      <td>0.000917</td>\n",
              "    </tr>\n",
              "  </tbody>\n",
              "</table>\n",
              "</div>"
            ],
            "text/plain": [
              "        group  Pageviews  Clicks  Enrollments  Payments       ctr  margin_error\n",
              "0     Control     345543   28378       3785.0    2033.0  0.082126      0.000915\n",
              "1  Experiment     344660   28325       3423.0    1945.0  0.082182      0.000917"
            ]
          },
          "metadata": {
            "tags": []
          },
          "execution_count": 40
        }
      ]
    },
    {
      "cell_type": "code",
      "metadata": {
        "colab": {
          "base_uri": "https://localhost:8080/",
          "height": 107
        },
        "id": "kJDIkKqWLeu1",
        "outputId": "c60e1280-8b24-4c44-a33e-2daeb2f13587"
      },
      "source": [
        "total_grouped['min_interval_ctr'] = total_grouped[['ctr','margin_error']].apply(lambda x: x[0] - x[1], axis = 1)\n",
        "total_grouped"
      ],
      "execution_count": null,
      "outputs": [
        {
          "output_type": "execute_result",
          "data": {
            "text/html": [
              "<div>\n",
              "<style scoped>\n",
              "    .dataframe tbody tr th:only-of-type {\n",
              "        vertical-align: middle;\n",
              "    }\n",
              "\n",
              "    .dataframe tbody tr th {\n",
              "        vertical-align: top;\n",
              "    }\n",
              "\n",
              "    .dataframe thead th {\n",
              "        text-align: right;\n",
              "    }\n",
              "</style>\n",
              "<table border=\"1\" class=\"dataframe\">\n",
              "  <thead>\n",
              "    <tr style=\"text-align: right;\">\n",
              "      <th></th>\n",
              "      <th>group</th>\n",
              "      <th>Pageviews</th>\n",
              "      <th>Clicks</th>\n",
              "      <th>Enrollments</th>\n",
              "      <th>Payments</th>\n",
              "      <th>ctr</th>\n",
              "      <th>margin_error</th>\n",
              "      <th>min_interval_ctr</th>\n",
              "    </tr>\n",
              "  </thead>\n",
              "  <tbody>\n",
              "    <tr>\n",
              "      <th>0</th>\n",
              "      <td>Control</td>\n",
              "      <td>345543</td>\n",
              "      <td>28378</td>\n",
              "      <td>3785.0</td>\n",
              "      <td>2033.0</td>\n",
              "      <td>0.082126</td>\n",
              "      <td>0.000915</td>\n",
              "      <td>0.081210</td>\n",
              "    </tr>\n",
              "    <tr>\n",
              "      <th>1</th>\n",
              "      <td>Experiment</td>\n",
              "      <td>344660</td>\n",
              "      <td>28325</td>\n",
              "      <td>3423.0</td>\n",
              "      <td>1945.0</td>\n",
              "      <td>0.082182</td>\n",
              "      <td>0.000917</td>\n",
              "      <td>0.081266</td>\n",
              "    </tr>\n",
              "  </tbody>\n",
              "</table>\n",
              "</div>"
            ],
            "text/plain": [
              "        group  Pageviews  Clicks  ...       ctr  margin_error  min_interval_ctr\n",
              "0     Control     345543   28378  ...  0.082126      0.000915          0.081210\n",
              "1  Experiment     344660   28325  ...  0.082182      0.000917          0.081266\n",
              "\n",
              "[2 rows x 8 columns]"
            ]
          },
          "metadata": {
            "tags": []
          },
          "execution_count": 41
        }
      ]
    },
    {
      "cell_type": "code",
      "metadata": {
        "colab": {
          "base_uri": "https://localhost:8080/",
          "height": 107
        },
        "id": "5zXTwBIqMHNF",
        "outputId": "983e84cd-01f9-4cb7-f0fd-3dbfef0d1b63"
      },
      "source": [
        "total_grouped['max_interval_ctr'] = total_grouped[['ctr','margin_error']].apply(lambda x: x[0] + x[1], axis = 1)\n",
        "total_grouped"
      ],
      "execution_count": null,
      "outputs": [
        {
          "output_type": "execute_result",
          "data": {
            "text/html": [
              "<div>\n",
              "<style scoped>\n",
              "    .dataframe tbody tr th:only-of-type {\n",
              "        vertical-align: middle;\n",
              "    }\n",
              "\n",
              "    .dataframe tbody tr th {\n",
              "        vertical-align: top;\n",
              "    }\n",
              "\n",
              "    .dataframe thead th {\n",
              "        text-align: right;\n",
              "    }\n",
              "</style>\n",
              "<table border=\"1\" class=\"dataframe\">\n",
              "  <thead>\n",
              "    <tr style=\"text-align: right;\">\n",
              "      <th></th>\n",
              "      <th>group</th>\n",
              "      <th>Pageviews</th>\n",
              "      <th>Clicks</th>\n",
              "      <th>Enrollments</th>\n",
              "      <th>Payments</th>\n",
              "      <th>ctr</th>\n",
              "      <th>margin_error</th>\n",
              "      <th>min_interval_ctr</th>\n",
              "      <th>max_interval_ctr</th>\n",
              "    </tr>\n",
              "  </thead>\n",
              "  <tbody>\n",
              "    <tr>\n",
              "      <th>0</th>\n",
              "      <td>Control</td>\n",
              "      <td>345543</td>\n",
              "      <td>28378</td>\n",
              "      <td>3785.0</td>\n",
              "      <td>2033.0</td>\n",
              "      <td>0.082126</td>\n",
              "      <td>0.000915</td>\n",
              "      <td>0.081210</td>\n",
              "      <td>0.083041</td>\n",
              "    </tr>\n",
              "    <tr>\n",
              "      <th>1</th>\n",
              "      <td>Experiment</td>\n",
              "      <td>344660</td>\n",
              "      <td>28325</td>\n",
              "      <td>3423.0</td>\n",
              "      <td>1945.0</td>\n",
              "      <td>0.082182</td>\n",
              "      <td>0.000917</td>\n",
              "      <td>0.081266</td>\n",
              "      <td>0.083099</td>\n",
              "    </tr>\n",
              "  </tbody>\n",
              "</table>\n",
              "</div>"
            ],
            "text/plain": [
              "        group  Pageviews  ...  min_interval_ctr  max_interval_ctr\n",
              "0     Control     345543  ...          0.081210          0.083041\n",
              "1  Experiment     344660  ...          0.081266          0.083099\n",
              "\n",
              "[2 rows x 9 columns]"
            ]
          },
          "metadata": {
            "tags": []
          },
          "execution_count": 42
        }
      ]
    },
    {
      "cell_type": "markdown",
      "metadata": {
        "id": "ipb2j9pJMfbi"
      },
      "source": [
        "The confidence interval signifies that the true click through rate falls between 0.0812 and 0.0830 for the control group with 95% confidence\n",
        "The true click through rate falls between 0.0813 and 0.0831 for the test/experiment group "
      ]
    },
    {
      "cell_type": "code",
      "metadata": {
        "id": "uoQ5AVA2JfN3"
      },
      "source": [
        "lcb = [total_grouped.min_interval[0], total_grouped.min_interval[1]]\n",
        "ucb = [total_grouped.max_interval[0], total_grouped.max_interval[1]]"
      ],
      "execution_count": null,
      "outputs": []
    },
    {
      "cell_type": "code",
      "metadata": {
        "id": "D9Je-gFOHzju"
      },
      "source": [
        "x = [lcb, 0, ucb]\n",
        "y = [0,0,0]\n",
        "sns.set()\n",
        "plt.figure(figsize=(8,4))\n",
        "g=sns.lineplot(x,y);\n",
        "plt.title('Confidence interval of Click through rate of the two groups')\n",
        "\n",
        "\n",
        "g.set_xlim(lcb,ucb)\n",
        "\n",
        "plt.show();"
      ],
      "execution_count": null,
      "outputs": []
    },
    {
      "cell_type": "markdown",
      "metadata": {
        "id": "NoNazt5WAJIt"
      },
      "source": [
        "# 2 sample Z-test"
      ]
    },
    {
      "cell_type": "code",
      "metadata": {
        "id": "qLrm-Ls3NGBN"
      },
      "source": [
        "def two_sample_z_test(c1, c2, n1, n2, x1 = 0, x2 = 0):\n",
        "  p1 = c1/n1\n",
        "  p2 = c2/n2\n",
        "  p = (c1 + c2)/(n1 + n2)\n",
        "  num = (p1 - p2) - (x1 - x2)\n",
        "  denum = math.sqrt((p * (1 - p)) * (1/n1 + 1/n2))\n",
        "  test_z_score = num / denum\n",
        "  print('Test z score is {}'.format(test_z_score))\n",
        "  p_value = 2 * (1 - norm.cdf(abs(test_z_score)))\n",
        "  print('P-value is {}'.format( p_value))\n",
        "  return test_z_score, p_value"
      ],
      "execution_count": null,
      "outputs": []
    },
    {
      "cell_type": "code",
      "metadata": {
        "colab": {
          "base_uri": "https://localhost:8080/"
        },
        "id": "iikRKVemMn1z",
        "outputId": "daa03e79-05b2-43b8-b54a-af5b6156a427"
      },
      "source": [
        "c2 = total_grouped['Clicks'][0]\n",
        "c1 = total_grouped['Clicks'][1]\n",
        "n2 = total_grouped['Pageviews'][0]\n",
        "n1 = total_grouped['Pageviews'][1]\n",
        "c1, c2, n1, n2 "
      ],
      "execution_count": null,
      "outputs": [
        {
          "output_type": "execute_result",
          "data": {
            "text/plain": [
              "(28325, 28378, 344660, 345543)"
            ]
          },
          "metadata": {
            "tags": []
          },
          "execution_count": 18
        }
      ]
    },
    {
      "cell_type": "code",
      "metadata": {
        "colab": {
          "base_uri": "https://localhost:8080/"
        },
        "id": "ag33I9D7KVaN",
        "outputId": "50fe3d86-6174-4585-e1b0-89212ee88fd7"
      },
      "source": [
        "z_test, z_p_val = two_sample_z_test(c1, c2, n1, n2)"
      ],
      "execution_count": null,
      "outputs": [
        {
          "output_type": "stream",
          "text": [
            "Test z score is 0.08566094109242048\n",
            "P-value is 0.9317359524473912\n"
          ],
          "name": "stdout"
        }
      ]
    },
    {
      "cell_type": "code",
      "metadata": {
        "id": "5EUL5Yw2TGYs"
      },
      "source": [
        "def sig_test(significance, p_value):\n",
        "  if p_value > significance:\n",
        "   print (\"Fail to reject the null hypothesis!\")\n",
        "  else:\n",
        "   print (\"Reject the null hypothesis - this suggests the alternative hypothesis is true\")"
      ],
      "execution_count": null,
      "outputs": []
    },
    {
      "cell_type": "code",
      "metadata": {
        "colab": {
          "base_uri": "https://localhost:8080/"
        },
        "id": "8YBpe92tT7tV",
        "outputId": "39cc5f62-1eb2-4d88-ac0f-d019e4a9b8ca"
      },
      "source": [
        "sig_test(0.05, z_p_val)"
      ],
      "execution_count": null,
      "outputs": [
        {
          "output_type": "stream",
          "text": [
            "Fail to reject the null hypothesis!\n"
          ],
          "name": "stdout"
        }
      ]
    },
    {
      "cell_type": "code",
      "metadata": {
        "id": "vIb8dCmERy0c"
      },
      "source": [
        "pageviews = np.array([total_grouped['Pageviews'][0], total_grouped['Pageviews'][1]])\n",
        "clicks = np.array([total_grouped['Clicks'][0], total_grouped['Clicks'][1]])"
      ],
      "execution_count": null,
      "outputs": []
    },
    {
      "cell_type": "code",
      "metadata": {
        "colab": {
          "base_uri": "https://localhost:8080/"
        },
        "id": "6FjdIPK1SEWh",
        "outputId": "97cd8320-3f13-41b5-e062-6aea7363c4bb"
      },
      "source": [
        "z_test_2, z_p_val_2 = proportions_ztest(count= clicks, nobs = pageviews, alternative='two-sided', prop_var=False)\n",
        "z_test_2, z_p_val_2"
      ],
      "execution_count": null,
      "outputs": [
        {
          "output_type": "execute_result",
          "data": {
            "text/plain": [
              "(-0.08566094109242048, 0.9317359524473912)"
            ]
          },
          "metadata": {
            "tags": []
          },
          "execution_count": 23
        }
      ]
    },
    {
      "cell_type": "markdown",
      "metadata": {
        "id": "tQ6hj9H6Mv25"
      },
      "source": [
        "At 95% confidence level, the result from the z-test show that we fail to reject the null hypothesis. This means that the test is not statistically significant."
      ]
    },
    {
      "cell_type": "code",
      "metadata": {
        "id": "K7KhGFexMrRV"
      },
      "source": [
        ""
      ],
      "execution_count": null,
      "outputs": []
    },
    {
      "cell_type": "markdown",
      "metadata": {
        "id": "1AUQxLfwONij"
      },
      "source": [
        "# 2 sample T-test"
      ]
    },
    {
      "cell_type": "code",
      "metadata": {
        "colab": {
          "base_uri": "https://localhost:8080/"
        },
        "id": "xMMWZMbJiWju",
        "outputId": "d7af9f19-c20d-4ed6-cff8-9e2c380c4397"
      },
      "source": [
        "t_test,t_test_pval = ttest_ind(control_df['Clicks'], experiment_df['Clicks'], equal_var=False)\n",
        "print(f't_val is {t_test}', f'p_val is {t_test_pval}')"
      ],
      "execution_count": null,
      "outputs": [
        {
          "output_type": "stream",
          "text": [
            "t_val is 0.09270642968639531 p_val is 0.9263950638615311\n"
          ],
          "name": "stdout"
        }
      ]
    },
    {
      "cell_type": "code",
      "metadata": {
        "colab": {
          "base_uri": "https://localhost:8080/"
        },
        "id": "S569US9_Ujc7",
        "outputId": "118772fd-598c-47f3-df28-28b167ddb77d"
      },
      "source": [
        "sig_test(0.05, t_test_pval)"
      ],
      "execution_count": null,
      "outputs": [
        {
          "output_type": "stream",
          "text": [
            "Fail to reject the null hypothesis!\n"
          ],
          "name": "stdout"
        }
      ]
    },
    {
      "cell_type": "markdown",
      "metadata": {
        "id": "uwzgQsFVNGaE"
      },
      "source": [
        "At 95% confidence level, the result from the z-test show that we fail to reject the null hypothesis. This means that the test is not statistically significant."
      ]
    },
    {
      "cell_type": "markdown",
      "metadata": {
        "id": "PhEMxdTtUzaX"
      },
      "source": [
        "Although the p-value for the t-test is less than that for the z-test, when compared with the significance level, the results are the same."
      ]
    },
    {
      "cell_type": "markdown",
      "metadata": {
        "id": "IEn--DAiE5U8"
      },
      "source": [
        "# New metric - Gross conversion\n",
        "\n",
        "From the udacity course, Gross conversion = payment/clicks.\n",
        "\n",
        "Here - https://classroom.udacity.com/courses/ud257/lessons/4126079196/concepts/41906885800923"
      ]
    },
    {
      "cell_type": "markdown",
      "metadata": {
        "id": "KJ7s2tEkGpjL"
      },
      "source": [
        "Using a Z-test"
      ]
    },
    {
      "cell_type": "code",
      "metadata": {
        "colab": {
          "base_uri": "https://localhost:8080/",
          "height": 107
        },
        "id": "ZkenfnGxE5Bb",
        "outputId": "87dd6309-cdf7-4626-8315-c8b300ba84ab"
      },
      "source": [
        "total_grouped"
      ],
      "execution_count": null,
      "outputs": [
        {
          "output_type": "execute_result",
          "data": {
            "text/html": [
              "<div>\n",
              "<style scoped>\n",
              "    .dataframe tbody tr th:only-of-type {\n",
              "        vertical-align: middle;\n",
              "    }\n",
              "\n",
              "    .dataframe tbody tr th {\n",
              "        vertical-align: top;\n",
              "    }\n",
              "\n",
              "    .dataframe thead th {\n",
              "        text-align: right;\n",
              "    }\n",
              "</style>\n",
              "<table border=\"1\" class=\"dataframe\">\n",
              "  <thead>\n",
              "    <tr style=\"text-align: right;\">\n",
              "      <th></th>\n",
              "      <th>group</th>\n",
              "      <th>Pageviews</th>\n",
              "      <th>Clicks</th>\n",
              "      <th>Enrollments</th>\n",
              "      <th>Payments</th>\n",
              "      <th>ctr</th>\n",
              "      <th>margin_error</th>\n",
              "      <th>min_interval_ctr</th>\n",
              "      <th>max_interval_ctr</th>\n",
              "    </tr>\n",
              "  </thead>\n",
              "  <tbody>\n",
              "    <tr>\n",
              "      <th>0</th>\n",
              "      <td>Control</td>\n",
              "      <td>345543</td>\n",
              "      <td>28378</td>\n",
              "      <td>3785.0</td>\n",
              "      <td>2033.0</td>\n",
              "      <td>0.082126</td>\n",
              "      <td>0.000915</td>\n",
              "      <td>0.081210</td>\n",
              "      <td>0.083041</td>\n",
              "    </tr>\n",
              "    <tr>\n",
              "      <th>1</th>\n",
              "      <td>Experiment</td>\n",
              "      <td>344660</td>\n",
              "      <td>28325</td>\n",
              "      <td>3423.0</td>\n",
              "      <td>1945.0</td>\n",
              "      <td>0.082182</td>\n",
              "      <td>0.000917</td>\n",
              "      <td>0.081266</td>\n",
              "      <td>0.083099</td>\n",
              "    </tr>\n",
              "  </tbody>\n",
              "</table>\n",
              "</div>"
            ],
            "text/plain": [
              "        group  Pageviews  ...  min_interval_ctr  max_interval_ctr\n",
              "0     Control     345543  ...          0.081210          0.083041\n",
              "1  Experiment     344660  ...          0.081266          0.083099\n",
              "\n",
              "[2 rows x 9 columns]"
            ]
          },
          "metadata": {
            "tags": []
          },
          "execution_count": 43
        }
      ]
    },
    {
      "cell_type": "code",
      "metadata": {
        "colab": {
          "base_uri": "https://localhost:8080/",
          "height": 107
        },
        "id": "YMyjE_HaG2CC",
        "outputId": "7b4cd769-4662-4b3d-b174-01ae64082631"
      },
      "source": [
        "total_grouped['Conv_rate'] = total_grouped['Payments']/total_grouped['Clicks']\n",
        "total_grouped"
      ],
      "execution_count": null,
      "outputs": [
        {
          "output_type": "execute_result",
          "data": {
            "text/html": [
              "<div>\n",
              "<style scoped>\n",
              "    .dataframe tbody tr th:only-of-type {\n",
              "        vertical-align: middle;\n",
              "    }\n",
              "\n",
              "    .dataframe tbody tr th {\n",
              "        vertical-align: top;\n",
              "    }\n",
              "\n",
              "    .dataframe thead th {\n",
              "        text-align: right;\n",
              "    }\n",
              "</style>\n",
              "<table border=\"1\" class=\"dataframe\">\n",
              "  <thead>\n",
              "    <tr style=\"text-align: right;\">\n",
              "      <th></th>\n",
              "      <th>group</th>\n",
              "      <th>Pageviews</th>\n",
              "      <th>Clicks</th>\n",
              "      <th>Enrollments</th>\n",
              "      <th>Payments</th>\n",
              "      <th>ctr</th>\n",
              "      <th>margin_error</th>\n",
              "      <th>min_interval_ctr</th>\n",
              "      <th>max_interval_ctr</th>\n",
              "      <th>Conv_rate</th>\n",
              "    </tr>\n",
              "  </thead>\n",
              "  <tbody>\n",
              "    <tr>\n",
              "      <th>0</th>\n",
              "      <td>Control</td>\n",
              "      <td>345543</td>\n",
              "      <td>28378</td>\n",
              "      <td>3785.0</td>\n",
              "      <td>2033.0</td>\n",
              "      <td>0.082126</td>\n",
              "      <td>0.000915</td>\n",
              "      <td>0.081210</td>\n",
              "      <td>0.083041</td>\n",
              "      <td>0.071640</td>\n",
              "    </tr>\n",
              "    <tr>\n",
              "      <th>1</th>\n",
              "      <td>Experiment</td>\n",
              "      <td>344660</td>\n",
              "      <td>28325</td>\n",
              "      <td>3423.0</td>\n",
              "      <td>1945.0</td>\n",
              "      <td>0.082182</td>\n",
              "      <td>0.000917</td>\n",
              "      <td>0.081266</td>\n",
              "      <td>0.083099</td>\n",
              "      <td>0.068667</td>\n",
              "    </tr>\n",
              "  </tbody>\n",
              "</table>\n",
              "</div>"
            ],
            "text/plain": [
              "        group  Pageviews  Clicks  ...  min_interval_ctr  max_interval_ctr  Conv_rate\n",
              "0     Control     345543   28378  ...          0.081210          0.083041   0.071640\n",
              "1  Experiment     344660   28325  ...          0.081266          0.083099   0.068667\n",
              "\n",
              "[2 rows x 10 columns]"
            ]
          },
          "metadata": {
            "tags": []
          },
          "execution_count": 44
        }
      ]
    },
    {
      "cell_type": "code",
      "metadata": {
        "colab": {
          "base_uri": "https://localhost:8080/"
        },
        "id": "UJ0FFlHyIiFH",
        "outputId": "06aa8594-ad4f-408d-fe94-4aaf983c379b"
      },
      "source": [
        "c1 = total_grouped['Payments'][0]\n",
        "c2 = total_grouped['Payments'][1]\n",
        "n1 = total_grouped['Clicks'][0]\n",
        "n2 = total_grouped['Clicks'][1]\n",
        "c1, c2, n1, n2 "
      ],
      "execution_count": null,
      "outputs": [
        {
          "output_type": "execute_result",
          "data": {
            "text/plain": [
              "(2033.0, 1945.0, 28378, 28325)"
            ]
          },
          "metadata": {
            "tags": []
          },
          "execution_count": 45
        }
      ]
    },
    {
      "cell_type": "code",
      "metadata": {
        "colab": {
          "base_uri": "https://localhost:8080/"
        },
        "id": "kmLcYa76IytT",
        "outputId": "31cdefd1-8548-429e-cce1-361b92e87896"
      },
      "source": [
        "z_test, z_p_val = two_sample_z_test(c1, c2, n1, n2)"
      ],
      "execution_count": null,
      "outputs": [
        {
          "output_type": "stream",
          "text": [
            "Test z score is 1.3857862391515965\n",
            "P-value is 0.16581218550913213\n"
          ],
          "name": "stdout"
        }
      ]
    },
    {
      "cell_type": "code",
      "metadata": {
        "colab": {
          "base_uri": "https://localhost:8080/"
        },
        "id": "Mw81tEQrJgnz",
        "outputId": "482b42bd-4861-4218-8ace-2343d8c5cce0"
      },
      "source": [
        "payments = np.array([total_grouped['Payments'][0], total_grouped['Payments'][1]])\n",
        "clicks = np.array([total_grouped['Clicks'][0], total_grouped['Clicks'][1]])\n",
        "z_test_2, z_p_val_2 = proportions_ztest(count= payments, nobs = clicks, alternative='two-sided', prop_var=False)\n",
        "z_test_2, z_p_val_2"
      ],
      "execution_count": null,
      "outputs": [
        {
          "output_type": "execute_result",
          "data": {
            "text/plain": [
              "(1.3857862391515965, 0.16581218550913213)"
            ]
          },
          "metadata": {
            "tags": []
          },
          "execution_count": 51
        }
      ]
    },
    {
      "cell_type": "code",
      "metadata": {
        "id": "i0y0svk_KVmb"
      },
      "source": [
        "def significance(confidence_level = 95):\n",
        "  significance = (100 - confidence_level)/100\n",
        "  return significance"
      ],
      "execution_count": null,
      "outputs": []
    },
    {
      "cell_type": "code",
      "metadata": {
        "colab": {
          "base_uri": "https://localhost:8080/"
        },
        "id": "ykvmauWmI4UC",
        "outputId": "4f0743d7-83a3-41bd-fee4-b35553d189b9"
      },
      "source": [
        "sig = significance(confidence_level = 60)\n",
        "sig"
      ],
      "execution_count": null,
      "outputs": [
        {
          "output_type": "execute_result",
          "data": {
            "text/plain": [
              "0.4"
            ]
          },
          "metadata": {
            "tags": []
          },
          "execution_count": 60
        }
      ]
    },
    {
      "cell_type": "code",
      "metadata": {
        "colab": {
          "base_uri": "https://localhost:8080/"
        },
        "id": "QbrIdhT3JOC7",
        "outputId": "be708b22-4698-447f-e613-148bb04455eb"
      },
      "source": [
        "sig_test(sig, z_p_val)"
      ],
      "execution_count": null,
      "outputs": [
        {
          "output_type": "stream",
          "text": [
            "Reject the null hypothesis - this suggests the alternative hypothesis is true\n"
          ],
          "name": "stdout"
        }
      ]
    },
    {
      "cell_type": "markdown",
      "metadata": {
        "id": "U0OeawbIJXJz"
      },
      "source": [
        "At 60% confidence, we can reject the null hypothesis and accept the alternative hypothesis. This means that the test is staistically significant."
      ]
    },
    {
      "cell_type": "code",
      "metadata": {
        "colab": {
          "base_uri": "https://localhost:8080/"
        },
        "id": "gQMC_ydyJ8c7",
        "outputId": "9ca97c18-3dc3-4f38-b4d0-159e7aa40a15"
      },
      "source": [
        "sig = significance(confidence_level = 90)\n",
        "sig_test(sig, z_p_val)"
      ],
      "execution_count": null,
      "outputs": [
        {
          "output_type": "stream",
          "text": [
            "Fail to reject the null hypothesis!\n"
          ],
          "name": "stdout"
        }
      ]
    },
    {
      "cell_type": "markdown",
      "metadata": {
        "id": "p_lVg-nGLY8j"
      },
      "source": [
        "At 90% confidence level and greater, the p-value is greater than the significance, so we fail to reject the null hypothesis. This means that there is no statistical significance. "
      ]
    },
    {
      "cell_type": "code",
      "metadata": {
        "colab": {
          "base_uri": "https://localhost:8080/"
        },
        "id": "5DJyFYJmLGgR",
        "outputId": "dc45a9ff-f1bf-4f95-e799-67c9def023d3"
      },
      "source": [
        "sig = significance(confidence_level = 95)\n",
        "sig_test(sig, z_p_val)"
      ],
      "execution_count": null,
      "outputs": [
        {
          "output_type": "stream",
          "text": [
            "Fail to reject the null hypothesis!\n"
          ],
          "name": "stdout"
        }
      ]
    },
    {
      "cell_type": "code",
      "metadata": {
        "colab": {
          "base_uri": "https://localhost:8080/"
        },
        "id": "h63Lur6JMGyW",
        "outputId": "45cefe32-7725-4b1d-e872-23082d52f8f4"
      },
      "source": [
        "sig = significance(confidence_level = 99)\n",
        "sig_test(sig, z_p_val)"
      ],
      "execution_count": null,
      "outputs": [
        {
          "output_type": "stream",
          "text": [
            "Fail to reject the null hypothesis!\n"
          ],
          "name": "stdout"
        }
      ]
    }
  ]
}