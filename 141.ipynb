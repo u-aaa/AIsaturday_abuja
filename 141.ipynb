{
  "nbformat": 4,
  "nbformat_minor": 0,
  "metadata": {
    "kernelspec": {
      "display_name": "Python 3",
      "language": "python",
      "name": "python3"
    },
    "language_info": {
      "codemirror_mode": {
        "name": "ipython",
        "version": 3
      },
      "file_extension": ".py",
      "mimetype": "text/x-python",
      "name": "python",
      "nbconvert_exporter": "python",
      "pygments_lexer": "ipython3",
      "version": "3.8.5"
    },
    "colab": {
      "name": "141.ipynb",
      "provenance": [],
      "include_colab_link": true
    }
  },
  "cells": [
    {
      "cell_type": "markdown",
      "metadata": {
        "id": "view-in-github",
        "colab_type": "text"
      },
      "source": [
        "<a href=\"https://colab.research.google.com/github/u-aaa/AIsaturday_abuja/blob/master/141.ipynb\" target=\"_parent\"><img src=\"https://colab.research.google.com/assets/colab-badge.svg\" alt=\"Open In Colab\"/></a>"
      ]
    },
    {
      "cell_type": "markdown",
      "metadata": {
        "id": "9KhQGVeGsJHc"
      },
      "source": [
        "# Capstone Project"
      ]
    },
    {
      "cell_type": "markdown",
      "metadata": {
        "id": "EQUixrQNsJHm"
      },
      "source": [
        "## Background"
      ]
    },
    {
      "cell_type": "markdown",
      "metadata": {
        "id": "VMftrXP3sJHo"
      },
      "source": [
        "We are glad you have successfully reached the capstone project part of \"Data Science Fundamentals\" course. You will put everything \n",
        "you have learned so far about data science to work. The outcome of this module should potentially serve as your portfolio item.\n",
        "\n",
        "Unlike with previous projects, this time you are free to choose a dataset to explore from three suggested ones. As you will have to solve a provided problem, there will not be list of predefined questions that you have to answer - be creative and explore any dimensions of data you deem worth analyzing.\n",
        "\n",
        "Although this might seem scary, this is how data science looks like in the industry. Often, it's your responsibility to not only give answers using the data, but also raise questions. The more creatively you look at this project, the better. Good luck!"
      ]
    },
    {
      "cell_type": "markdown",
      "metadata": {
        "id": "0cjCBas9sJHq"
      },
      "source": [
        "----"
      ]
    },
    {
      "cell_type": "markdown",
      "metadata": {
        "id": "x_1MzcOfsJHs"
      },
      "source": [
        "## Requirements\n",
        "\n",
        "Whichever problem you choose to analyze, general requirements are as follow:\n",
        "\n",
        "#### Exploratory Data Analysis\n",
        "* Describe the data with basic statistical parameters - mean, median, quantiles, etc. Use parameters that give you the most important statistical insights of the data.\n",
        "* Grouping the data and analyzing the groups - using Pandas aggregate methods.\n",
        "* Work with features - handle missing data if needed, use pandas date APIs.\n",
        "* Manipulate datasets - use joins in needed.\n",
        "* Visualize the data - you can use line, scatter, histogram plots, density plots, regplots, etc.\n",
        "\n",
        "#### Statistical hypothesis testing\n",
        "* Use at least one statistical significance test.\n",
        "* Report p-values.\n",
        "* Use visualizations.\n",
        "\n",
        "#### Modeling\n",
        "* Visualize data with dimensionality reduction algorithms.\n",
        "* Perform cluster analysis.\n",
        "* Use a linear model to explain relationships and predict new values.\n",
        "\n",
        "#### Presentation\n",
        "* Present the project - the data, methods and results."
      ]
    },
    {
      "cell_type": "markdown",
      "metadata": {
        "id": "-A2e_zCSsJHv"
      },
      "source": [
        "## Problems"
      ]
    },
    {
      "cell_type": "markdown",
      "metadata": {
        "id": "ZYTrwzctsJH9"
      },
      "source": [
        "#### Fatal Police Shooting in United States"
      ]
    },
    {
      "cell_type": "markdown",
      "metadata": {
        "id": "tXhsSFPOsJH-"
      },
      "source": [
        "<div><img width=\"400px\" height=\"auto\" src=\"https://images.unsplash.com/photo-1606352466047-7cef02b312bb?ixlib=rb-1.2.1&ixid=MXwxMjA3fDB8MHxwaG90by1wYWdlfHx8fGVufDB8fHw%3D&auto=format&fit=crop&w=1662&q=80\" /></div>"
      ]
    },
    {
      "cell_type": "markdown",
      "metadata": {
        "id": "J1LkAQZQsJH_"
      },
      "source": [
        "[Police brutality in the United States](https://en.wikipedia.org/wiki/Police_brutality_in_the_United_States) has been an nationwide issue since the 20th century. Public safety of U.S. citizens is a typical argument to justify the controversially high number of fatal shootings.\n",
        "\n",
        "You are a contractor to the United States Department of Justice. **You have been given a case to investigate fatal police shootings throughout the United States of America, provide a list of issues, and propose a plan on how to tackle these issues**.\n",
        "\n",
        "The department offered some tips - the public opinion indicates that there's something systematically fishy of police actions against civilians, some states differ from other, some cities are different from others, race equality is still an unanswered question, there's some talk about huge spendings on police, rumors about mental issues of those getting shot. Government is all about prioritizing - use the data to list issues with the police activity and propose a plan which issues to tackle first and how.\n",
        "\n",
        "Your are given 1 dataset to start with. Try to search for more datasets to enrich your data analysis."
      ]
    },
    {
      "cell_type": "markdown",
      "metadata": {
        "id": "Y1aHjuxesJIE"
      },
      "source": [
        "Here's the dataset:\n",
        "\n",
        "* [Fatal Police Shootings in the U.S. '15 - '17](https://www.kaggle.com/washingtonpost/police-shootings)."
      ]
    },
    {
      "cell_type": "markdown",
      "metadata": {
        "id": "ssWY5O6TsJIF"
      },
      "source": [
        "## Evaluation Criteria"
      ]
    },
    {
      "cell_type": "markdown",
      "metadata": {
        "id": "7VXXF4mesJIG"
      },
      "source": [
        "- Code quality\n",
        "- Fulfillment of the idea\n",
        "- Adherence to the requirements\n",
        "- Delivery of the presentation\n",
        "\n",
        "#### Statistical hypothesis testing\n",
        "- Correct statistical test method is used, based on the situation.\n",
        "- Reasoning on chosen statistical significance level.\n",
        "\n",
        "#### Modeling\n",
        "- Both PCA and T-SNE algorithms are used."
      ]
    },
    {
      "cell_type": "markdown",
      "metadata": {
        "id": "bMUIg0R6s2mp"
      },
      "source": [
        "# Import datasets and Libraries"
      ]
    },
    {
      "cell_type": "markdown",
      "metadata": {
        "id": "iTJvg1_tQAqD"
      },
      "source": [
        "##Libraries"
      ]
    },
    {
      "cell_type": "code",
      "metadata": {
        "id": "qCgNEyrNyAv7"
      },
      "source": [
        "import pandas as pd\n",
        "import numpy as np\n",
        "import matplotlib.pyplot as plt\n",
        "import seaborn as sns\n",
        "import datetime\n",
        "from datetime import datetime\n",
        "from statsmodels.stats.proportion import proportions_ztest\n",
        "from sklearn.model_selection import train_test_split\n",
        "from sklearn import preprocessing\n",
        "from sklearn.manifold import TSNE\n",
        "from sklearn.preprocessing import PowerTransformer\n",
        "from sklearn.decomposition import PCA\n",
        "from sklearn. linear_model import LogisticRegression\n",
        "from sklearn.metrics import accuracy_score\n",
        "from sklearn.metrics import confusion_matrix\n",
        "from sklearn.cluster import KMeans"
      ],
      "execution_count": null,
      "outputs": []
    },
    {
      "cell_type": "markdown",
      "metadata": {
        "id": "JuJI3W-bvEXY"
      },
      "source": [
        "## Importing the main dataset"
      ]
    },
    {
      "cell_type": "code",
      "metadata": {
        "id": "SOsZfHSVvDIw"
      },
      "source": [
        "gsheetkey = '1xyUXF-8kioBH51NOsMfYUSusEDeCq71VsScU54zIc-4'\n",
        "data_url = f'https://docs.google.com/spreadsheet/ccc?key={gsheetkey}&output=csv'\n",
        "data = pd.read_csv(data_url)"
      ],
      "execution_count": 2,
      "outputs": []
    },
    {
      "cell_type": "markdown",
      "metadata": {
        "id": "gakiaBJUL0IV"
      },
      "source": [
        "##Secondary data sources"
      ]
    },
    {
      "cell_type": "markdown",
      "metadata": {
        "id": "-I91YsuRwo6R"
      },
      "source": [
        "Secondary sources include:\n",
        " \n",
        "*   Population data for states for 2015 - 2017 : https://www.kff.org/other/state-indicator/distribution-by-raceethnicity/?dataView=1&currentTimeframe=4&\n",
        "*   US states and state code (2015 - 2017) - https://raw.githubusercontent.com/cmdlinetips/data/master/us_states.tsv\n",
        "*   US Gun law score card by states (2015 - 2017) - https://giffords.org/scorecard2016/"
      ]
    },
    {
      "cell_type": "code",
      "metadata": {
        "id": "Fu74IZOdEkmy"
      },
      "source": [
        "gsheetkey_15 = '1OlzAzJ_UpZy77kKl08y3p_3yR72lbvYjCykYqDjwbEU'\n",
        "data_url_15 = f'https://docs.google.com/spreadsheet/ccc?key={gsheetkey_15}&output=csv'\n",
        "pop_2015 = pd.read_csv(data_url_15)"
      ],
      "execution_count": 3,
      "outputs": []
    },
    {
      "cell_type": "code",
      "metadata": {
        "id": "lJYizCEOLKXN"
      },
      "source": [
        "gsheetkey_16 = '1ZkK3Wyxx9IuFzADL3gZDvNaNal9S-H5vdNheTbVrKC8'\n",
        "data_url_16 = f'https://docs.google.com/spreadsheet/ccc?key={gsheetkey_16}&output=csv'\n",
        "pop_2016 = pd.read_csv(data_url_16)"
      ],
      "execution_count": 4,
      "outputs": []
    },
    {
      "cell_type": "code",
      "metadata": {
        "id": "Tfo4W-N5LNV_"
      },
      "source": [
        "gsheetkey_17 = '1y2PplgjLi_2Ot7BnygR-rewJt8nHL8Cok_p5C8Zvv3c'\n",
        "data_url_17 = f'https://docs.google.com/spreadsheet/ccc?key={gsheetkey_17}&output=csv'\n",
        "pop_2017 = pd.read_csv(data_url_17)"
      ],
      "execution_count": 5,
      "outputs": []
    },
    {
      "cell_type": "code",
      "metadata": {
        "id": "jJlV4QfuLfmk"
      },
      "source": [
        "states_df = pd.read_csv(\"https://raw.githubusercontent.com/cmdlinetips/data/master/us_states.tsv\", sep=\"\\t\")"
      ],
      "execution_count": 6,
      "outputs": []
    },
    {
      "cell_type": "code",
      "metadata": {
        "id": "dJgfboTvsS4N"
      },
      "source": [
        "gsheetkey_gun = '1Wx3WZQ688ZYuu-A8rX91M57FUue_n0Wku2JaGhBY6Z4'\n",
        "data_url_gun = f'https://docs.google.com/spreadsheet/ccc?key={gsheetkey_gun}&output=csv'\n",
        "gun_control = pd.read_csv(data_url_gun)"
      ],
      "execution_count": 7,
      "outputs": []
    },
    {
      "cell_type": "markdown",
      "metadata": {
        "id": "OV5nwziHL5kI"
      },
      "source": [
        "#Exploratory data analysis"
      ]
    },
    {
      "cell_type": "markdown",
      "metadata": {
        "id": "ya4KtLGJMnUi"
      },
      "source": [
        "##Data discovery"
      ]
    },
    {
      "cell_type": "code",
      "metadata": {
        "colab": {
          "base_uri": "https://localhost:8080/",
          "height": 204
        },
        "id": "mjlgz0J3L8bl",
        "outputId": "ace61962-1dd1-42cf-8bc4-dcf6289aa626"
      },
      "source": [
        "data.head()"
      ],
      "execution_count": 8,
      "outputs": [
        {
          "output_type": "execute_result",
          "data": {
            "text/html": [
              "<div>\n",
              "<style scoped>\n",
              "    .dataframe tbody tr th:only-of-type {\n",
              "        vertical-align: middle;\n",
              "    }\n",
              "\n",
              "    .dataframe tbody tr th {\n",
              "        vertical-align: top;\n",
              "    }\n",
              "\n",
              "    .dataframe thead th {\n",
              "        text-align: right;\n",
              "    }\n",
              "</style>\n",
              "<table border=\"1\" class=\"dataframe\">\n",
              "  <thead>\n",
              "    <tr style=\"text-align: right;\">\n",
              "      <th></th>\n",
              "      <th>id</th>\n",
              "      <th>name</th>\n",
              "      <th>date</th>\n",
              "      <th>manner_of_death</th>\n",
              "      <th>armed</th>\n",
              "      <th>age</th>\n",
              "      <th>gender</th>\n",
              "      <th>race</th>\n",
              "      <th>city</th>\n",
              "      <th>state</th>\n",
              "      <th>signs_of_mental_illness</th>\n",
              "      <th>threat_level</th>\n",
              "      <th>flee</th>\n",
              "      <th>body_camera</th>\n",
              "    </tr>\n",
              "  </thead>\n",
              "  <tbody>\n",
              "    <tr>\n",
              "      <th>0</th>\n",
              "      <td>3</td>\n",
              "      <td>Tim Elliot</td>\n",
              "      <td>2015-01-02</td>\n",
              "      <td>shot</td>\n",
              "      <td>gun</td>\n",
              "      <td>53.0</td>\n",
              "      <td>M</td>\n",
              "      <td>A</td>\n",
              "      <td>Shelton</td>\n",
              "      <td>WA</td>\n",
              "      <td>True</td>\n",
              "      <td>attack</td>\n",
              "      <td>Not fleeing</td>\n",
              "      <td>False</td>\n",
              "    </tr>\n",
              "    <tr>\n",
              "      <th>1</th>\n",
              "      <td>4</td>\n",
              "      <td>Lewis Lee Lembke</td>\n",
              "      <td>2015-01-02</td>\n",
              "      <td>shot</td>\n",
              "      <td>gun</td>\n",
              "      <td>47.0</td>\n",
              "      <td>M</td>\n",
              "      <td>W</td>\n",
              "      <td>Aloha</td>\n",
              "      <td>OR</td>\n",
              "      <td>False</td>\n",
              "      <td>attack</td>\n",
              "      <td>Not fleeing</td>\n",
              "      <td>False</td>\n",
              "    </tr>\n",
              "    <tr>\n",
              "      <th>2</th>\n",
              "      <td>5</td>\n",
              "      <td>John Paul Quintero</td>\n",
              "      <td>2015-01-03</td>\n",
              "      <td>shot and Tasered</td>\n",
              "      <td>unarmed</td>\n",
              "      <td>23.0</td>\n",
              "      <td>M</td>\n",
              "      <td>H</td>\n",
              "      <td>Wichita</td>\n",
              "      <td>KS</td>\n",
              "      <td>False</td>\n",
              "      <td>other</td>\n",
              "      <td>Not fleeing</td>\n",
              "      <td>False</td>\n",
              "    </tr>\n",
              "    <tr>\n",
              "      <th>3</th>\n",
              "      <td>8</td>\n",
              "      <td>Matthew Hoffman</td>\n",
              "      <td>2015-01-04</td>\n",
              "      <td>shot</td>\n",
              "      <td>toy weapon</td>\n",
              "      <td>32.0</td>\n",
              "      <td>M</td>\n",
              "      <td>W</td>\n",
              "      <td>San Francisco</td>\n",
              "      <td>CA</td>\n",
              "      <td>True</td>\n",
              "      <td>attack</td>\n",
              "      <td>Not fleeing</td>\n",
              "      <td>False</td>\n",
              "    </tr>\n",
              "    <tr>\n",
              "      <th>4</th>\n",
              "      <td>9</td>\n",
              "      <td>Michael Rodriguez</td>\n",
              "      <td>2015-01-04</td>\n",
              "      <td>shot</td>\n",
              "      <td>nail gun</td>\n",
              "      <td>39.0</td>\n",
              "      <td>M</td>\n",
              "      <td>H</td>\n",
              "      <td>Evans</td>\n",
              "      <td>CO</td>\n",
              "      <td>False</td>\n",
              "      <td>attack</td>\n",
              "      <td>Not fleeing</td>\n",
              "      <td>False</td>\n",
              "    </tr>\n",
              "  </tbody>\n",
              "</table>\n",
              "</div>"
            ],
            "text/plain": [
              "   id                name        date  ... threat_level         flee  body_camera\n",
              "0   3          Tim Elliot  2015-01-02  ...       attack  Not fleeing        False\n",
              "1   4    Lewis Lee Lembke  2015-01-02  ...       attack  Not fleeing        False\n",
              "2   5  John Paul Quintero  2015-01-03  ...        other  Not fleeing        False\n",
              "3   8     Matthew Hoffman  2015-01-04  ...       attack  Not fleeing        False\n",
              "4   9   Michael Rodriguez  2015-01-04  ...       attack  Not fleeing        False\n",
              "\n",
              "[5 rows x 14 columns]"
            ]
          },
          "metadata": {
            "tags": []
          },
          "execution_count": 8
        }
      ]
    },
    {
      "cell_type": "code",
      "metadata": {
        "colab": {
          "base_uri": "https://localhost:8080/"
        },
        "id": "MUSGJGviMAus",
        "outputId": "342d571b-b8dd-480b-cc2c-3c1a9afd2cac"
      },
      "source": [
        "data.shape"
      ],
      "execution_count": 9,
      "outputs": [
        {
          "output_type": "execute_result",
          "data": {
            "text/plain": [
              "(2142, 14)"
            ]
          },
          "metadata": {
            "tags": []
          },
          "execution_count": 9
        }
      ]
    },
    {
      "cell_type": "markdown",
      "metadata": {
        "id": "7_ikXZZEMB3A"
      },
      "source": [
        "The data has 2142 rows and 14 columns"
      ]
    },
    {
      "cell_type": "code",
      "metadata": {
        "colab": {
          "base_uri": "https://localhost:8080/"
        },
        "id": "9xI0fkpgME8i",
        "outputId": "79c57ca5-57b2-4aa6-e5eb-c34aae54aa86"
      },
      "source": [
        "data.info()"
      ],
      "execution_count": 10,
      "outputs": [
        {
          "output_type": "stream",
          "text": [
            "<class 'pandas.core.frame.DataFrame'>\n",
            "RangeIndex: 2142 entries, 0 to 2141\n",
            "Data columns (total 14 columns):\n",
            " #   Column                   Non-Null Count  Dtype  \n",
            "---  ------                   --------------  -----  \n",
            " 0   id                       2142 non-null   int64  \n",
            " 1   name                     2123 non-null   object \n",
            " 2   date                     2142 non-null   object \n",
            " 3   manner_of_death          2142 non-null   object \n",
            " 4   armed                    2136 non-null   object \n",
            " 5   age                      2099 non-null   float64\n",
            " 6   gender                   2141 non-null   object \n",
            " 7   race                     2039 non-null   object \n",
            " 8   city                     2142 non-null   object \n",
            " 9   state                    2142 non-null   object \n",
            " 10  signs_of_mental_illness  2142 non-null   bool   \n",
            " 11  threat_level             2142 non-null   object \n",
            " 12  flee                     2106 non-null   object \n",
            " 13  body_camera              2142 non-null   bool   \n",
            "dtypes: bool(2), float64(1), int64(1), object(10)\n",
            "memory usage: 205.1+ KB\n"
          ],
          "name": "stdout"
        }
      ]
    },
    {
      "cell_type": "markdown",
      "metadata": {
        "id": "0jt1-7oGMMNj"
      },
      "source": [
        "There's no missing data for date, manner of death, state, city, signs_of_mental_illness, threat level and body camera, but there are some missing data in the other columns. The null values will be replaced to make analysis easier."
      ]
    },
    {
      "cell_type": "code",
      "metadata": {
        "colab": {
          "base_uri": "https://localhost:8080/",
          "height": 390
        },
        "id": "6fSRIMazMMBM",
        "outputId": "ddac81d1-e023-4fb8-c237-9108afc8ccb0"
      },
      "source": [
        "data.drop(['date', 'id'],1).describe(include='all')"
      ],
      "execution_count": 11,
      "outputs": [
        {
          "output_type": "execute_result",
          "data": {
            "text/html": [
              "<div>\n",
              "<style scoped>\n",
              "    .dataframe tbody tr th:only-of-type {\n",
              "        vertical-align: middle;\n",
              "    }\n",
              "\n",
              "    .dataframe tbody tr th {\n",
              "        vertical-align: top;\n",
              "    }\n",
              "\n",
              "    .dataframe thead th {\n",
              "        text-align: right;\n",
              "    }\n",
              "</style>\n",
              "<table border=\"1\" class=\"dataframe\">\n",
              "  <thead>\n",
              "    <tr style=\"text-align: right;\">\n",
              "      <th></th>\n",
              "      <th>name</th>\n",
              "      <th>manner_of_death</th>\n",
              "      <th>armed</th>\n",
              "      <th>age</th>\n",
              "      <th>gender</th>\n",
              "      <th>race</th>\n",
              "      <th>city</th>\n",
              "      <th>state</th>\n",
              "      <th>signs_of_mental_illness</th>\n",
              "      <th>threat_level</th>\n",
              "      <th>flee</th>\n",
              "      <th>body_camera</th>\n",
              "    </tr>\n",
              "  </thead>\n",
              "  <tbody>\n",
              "    <tr>\n",
              "      <th>count</th>\n",
              "      <td>2123</td>\n",
              "      <td>2142</td>\n",
              "      <td>2136</td>\n",
              "      <td>2099.000000</td>\n",
              "      <td>2141</td>\n",
              "      <td>2039</td>\n",
              "      <td>2142</td>\n",
              "      <td>2142</td>\n",
              "      <td>2142</td>\n",
              "      <td>2142</td>\n",
              "      <td>2106</td>\n",
              "      <td>2142</td>\n",
              "    </tr>\n",
              "    <tr>\n",
              "      <th>unique</th>\n",
              "      <td>2118</td>\n",
              "      <td>2</td>\n",
              "      <td>64</td>\n",
              "      <td>NaN</td>\n",
              "      <td>2</td>\n",
              "      <td>6</td>\n",
              "      <td>1247</td>\n",
              "      <td>51</td>\n",
              "      <td>2</td>\n",
              "      <td>3</td>\n",
              "      <td>4</td>\n",
              "      <td>2</td>\n",
              "    </tr>\n",
              "    <tr>\n",
              "      <th>top</th>\n",
              "      <td>Michael Johnson</td>\n",
              "      <td>shot</td>\n",
              "      <td>gun</td>\n",
              "      <td>NaN</td>\n",
              "      <td>M</td>\n",
              "      <td>W</td>\n",
              "      <td>Los Angeles</td>\n",
              "      <td>CA</td>\n",
              "      <td>False</td>\n",
              "      <td>attack</td>\n",
              "      <td>Not fleeing</td>\n",
              "      <td>False</td>\n",
              "    </tr>\n",
              "    <tr>\n",
              "      <th>freq</th>\n",
              "      <td>2</td>\n",
              "      <td>1992</td>\n",
              "      <td>1173</td>\n",
              "      <td>NaN</td>\n",
              "      <td>2052</td>\n",
              "      <td>1041</td>\n",
              "      <td>31</td>\n",
              "      <td>355</td>\n",
              "      <td>1612</td>\n",
              "      <td>1381</td>\n",
              "      <td>1453</td>\n",
              "      <td>1913</td>\n",
              "    </tr>\n",
              "    <tr>\n",
              "      <th>mean</th>\n",
              "      <td>NaN</td>\n",
              "      <td>NaN</td>\n",
              "      <td>NaN</td>\n",
              "      <td>36.484516</td>\n",
              "      <td>NaN</td>\n",
              "      <td>NaN</td>\n",
              "      <td>NaN</td>\n",
              "      <td>NaN</td>\n",
              "      <td>NaN</td>\n",
              "      <td>NaN</td>\n",
              "      <td>NaN</td>\n",
              "      <td>NaN</td>\n",
              "    </tr>\n",
              "    <tr>\n",
              "      <th>std</th>\n",
              "      <td>NaN</td>\n",
              "      <td>NaN</td>\n",
              "      <td>NaN</td>\n",
              "      <td>12.874000</td>\n",
              "      <td>NaN</td>\n",
              "      <td>NaN</td>\n",
              "      <td>NaN</td>\n",
              "      <td>NaN</td>\n",
              "      <td>NaN</td>\n",
              "      <td>NaN</td>\n",
              "      <td>NaN</td>\n",
              "      <td>NaN</td>\n",
              "    </tr>\n",
              "    <tr>\n",
              "      <th>min</th>\n",
              "      <td>NaN</td>\n",
              "      <td>NaN</td>\n",
              "      <td>NaN</td>\n",
              "      <td>6.000000</td>\n",
              "      <td>NaN</td>\n",
              "      <td>NaN</td>\n",
              "      <td>NaN</td>\n",
              "      <td>NaN</td>\n",
              "      <td>NaN</td>\n",
              "      <td>NaN</td>\n",
              "      <td>NaN</td>\n",
              "      <td>NaN</td>\n",
              "    </tr>\n",
              "    <tr>\n",
              "      <th>25%</th>\n",
              "      <td>NaN</td>\n",
              "      <td>NaN</td>\n",
              "      <td>NaN</td>\n",
              "      <td>26.000000</td>\n",
              "      <td>NaN</td>\n",
              "      <td>NaN</td>\n",
              "      <td>NaN</td>\n",
              "      <td>NaN</td>\n",
              "      <td>NaN</td>\n",
              "      <td>NaN</td>\n",
              "      <td>NaN</td>\n",
              "      <td>NaN</td>\n",
              "    </tr>\n",
              "    <tr>\n",
              "      <th>50%</th>\n",
              "      <td>NaN</td>\n",
              "      <td>NaN</td>\n",
              "      <td>NaN</td>\n",
              "      <td>34.000000</td>\n",
              "      <td>NaN</td>\n",
              "      <td>NaN</td>\n",
              "      <td>NaN</td>\n",
              "      <td>NaN</td>\n",
              "      <td>NaN</td>\n",
              "      <td>NaN</td>\n",
              "      <td>NaN</td>\n",
              "      <td>NaN</td>\n",
              "    </tr>\n",
              "    <tr>\n",
              "      <th>75%</th>\n",
              "      <td>NaN</td>\n",
              "      <td>NaN</td>\n",
              "      <td>NaN</td>\n",
              "      <td>45.000000</td>\n",
              "      <td>NaN</td>\n",
              "      <td>NaN</td>\n",
              "      <td>NaN</td>\n",
              "      <td>NaN</td>\n",
              "      <td>NaN</td>\n",
              "      <td>NaN</td>\n",
              "      <td>NaN</td>\n",
              "      <td>NaN</td>\n",
              "    </tr>\n",
              "    <tr>\n",
              "      <th>max</th>\n",
              "      <td>NaN</td>\n",
              "      <td>NaN</td>\n",
              "      <td>NaN</td>\n",
              "      <td>86.000000</td>\n",
              "      <td>NaN</td>\n",
              "      <td>NaN</td>\n",
              "      <td>NaN</td>\n",
              "      <td>NaN</td>\n",
              "      <td>NaN</td>\n",
              "      <td>NaN</td>\n",
              "      <td>NaN</td>\n",
              "      <td>NaN</td>\n",
              "    </tr>\n",
              "  </tbody>\n",
              "</table>\n",
              "</div>"
            ],
            "text/plain": [
              "                   name manner_of_death  ...         flee  body_camera\n",
              "count              2123            2142  ...         2106         2142\n",
              "unique             2118               2  ...            4            2\n",
              "top     Michael Johnson            shot  ...  Not fleeing        False\n",
              "freq                  2            1992  ...         1453         1913\n",
              "mean                NaN             NaN  ...          NaN          NaN\n",
              "std                 NaN             NaN  ...          NaN          NaN\n",
              "min                 NaN             NaN  ...          NaN          NaN\n",
              "25%                 NaN             NaN  ...          NaN          NaN\n",
              "50%                 NaN             NaN  ...          NaN          NaN\n",
              "75%                 NaN             NaN  ...          NaN          NaN\n",
              "max                 NaN             NaN  ...          NaN          NaN\n",
              "\n",
              "[11 rows x 12 columns]"
            ]
          },
          "metadata": {
            "tags": []
          },
          "execution_count": 11
        }
      ]
    },
    {
      "cell_type": "markdown",
      "metadata": {
        "id": "vxFdz_99Mzex"
      },
      "source": [
        "Observations:\n",
        "1. Not all names are unique, there are only 2,118 unique names out of 2123 names - this means that there may be some duplicates and/or people sharing the same names in the dataset. There are also some missing names in the dataset.\n",
        "2. There are only 2 manner of deaths\n",
        "3. The mean age of people killed is 36. The youngest age is 6 and the oldest is 86 years.\n",
        "4. There are 2 unique genders and there are more male than female in the dataset.\n",
        "5. There are 6 unique races. White is the most frequent in the dataset.\n",
        "6. California has the highest number of shootings of the 51 states.\n",
        "7. Most of the people shot by the police did not show any signs of mental illness.\n",
        "8. Most of the individuals were also not fleeing and did not wear a body camera."
      ]
    },
    {
      "cell_type": "markdown",
      "metadata": {
        "id": "EJiBY5_7Oi50"
      },
      "source": [
        "###Handling missing data"
      ]
    },
    {
      "cell_type": "markdown",
      "metadata": {
        "id": "gmJmSIK8PxYY"
      },
      "source": [
        "First, look for duplicated names/observations in the dataset."
      ]
    },
    {
      "cell_type": "code",
      "metadata": {
        "colab": {
          "base_uri": "https://localhost:8080/",
          "height": 948
        },
        "id": "Uf99iegXMzD6",
        "outputId": "265a4013-8082-4694-fc44-048ded8aa5bf"
      },
      "source": [
        "data[data.duplicated('name', keep= False)].sort_values(by= 'name', ascending = True)"
      ],
      "execution_count": 12,
      "outputs": [
        {
          "output_type": "execute_result",
          "data": {
            "text/html": [
              "<div>\n",
              "<style scoped>\n",
              "    .dataframe tbody tr th:only-of-type {\n",
              "        vertical-align: middle;\n",
              "    }\n",
              "\n",
              "    .dataframe tbody tr th {\n",
              "        vertical-align: top;\n",
              "    }\n",
              "\n",
              "    .dataframe thead th {\n",
              "        text-align: right;\n",
              "    }\n",
              "</style>\n",
              "<table border=\"1\" class=\"dataframe\">\n",
              "  <thead>\n",
              "    <tr style=\"text-align: right;\">\n",
              "      <th></th>\n",
              "      <th>id</th>\n",
              "      <th>name</th>\n",
              "      <th>date</th>\n",
              "      <th>manner_of_death</th>\n",
              "      <th>armed</th>\n",
              "      <th>age</th>\n",
              "      <th>gender</th>\n",
              "      <th>race</th>\n",
              "      <th>city</th>\n",
              "      <th>state</th>\n",
              "      <th>signs_of_mental_illness</th>\n",
              "      <th>threat_level</th>\n",
              "      <th>flee</th>\n",
              "      <th>body_camera</th>\n",
              "    </tr>\n",
              "  </thead>\n",
              "  <tbody>\n",
              "    <tr>\n",
              "      <th>209</th>\n",
              "      <td>229</td>\n",
              "      <td>Brandon Jones</td>\n",
              "      <td>2015-03-19</td>\n",
              "      <td>shot</td>\n",
              "      <td>unarmed</td>\n",
              "      <td>18.0</td>\n",
              "      <td>M</td>\n",
              "      <td>B</td>\n",
              "      <td>Cleveland</td>\n",
              "      <td>OH</td>\n",
              "      <td>False</td>\n",
              "      <td>attack</td>\n",
              "      <td>Not fleeing</td>\n",
              "      <td>False</td>\n",
              "    </tr>\n",
              "    <tr>\n",
              "      <th>1780</th>\n",
              "      <td>1991</td>\n",
              "      <td>Brandon Jones</td>\n",
              "      <td>2016-10-25</td>\n",
              "      <td>shot</td>\n",
              "      <td>toy weapon</td>\n",
              "      <td>25.0</td>\n",
              "      <td>M</td>\n",
              "      <td>W</td>\n",
              "      <td>Elkton</td>\n",
              "      <td>MD</td>\n",
              "      <td>True</td>\n",
              "      <td>attack</td>\n",
              "      <td>Not fleeing</td>\n",
              "      <td>False</td>\n",
              "    </tr>\n",
              "    <tr>\n",
              "      <th>976</th>\n",
              "      <td>1129</td>\n",
              "      <td>Daquan Antonio Westbrook</td>\n",
              "      <td>2015-12-24</td>\n",
              "      <td>shot</td>\n",
              "      <td>gun</td>\n",
              "      <td>18.0</td>\n",
              "      <td>M</td>\n",
              "      <td>B</td>\n",
              "      <td>Charlotte</td>\n",
              "      <td>NC</td>\n",
              "      <td>False</td>\n",
              "      <td>attack</td>\n",
              "      <td>Not fleeing</td>\n",
              "      <td>False</td>\n",
              "    </tr>\n",
              "    <tr>\n",
              "      <th>1934</th>\n",
              "      <td>2158</td>\n",
              "      <td>Daquan Antonio Westbrook</td>\n",
              "      <td>2016-12-24</td>\n",
              "      <td>shot</td>\n",
              "      <td>gun</td>\n",
              "      <td>18.0</td>\n",
              "      <td>M</td>\n",
              "      <td>B</td>\n",
              "      <td>Charlotte</td>\n",
              "      <td>NC</td>\n",
              "      <td>False</td>\n",
              "      <td>undetermined</td>\n",
              "      <td>Not fleeing</td>\n",
              "      <td>False</td>\n",
              "    </tr>\n",
              "    <tr>\n",
              "      <th>249</th>\n",
              "      <td>291</td>\n",
              "      <td>Eric Harris</td>\n",
              "      <td>2015-04-02</td>\n",
              "      <td>shot</td>\n",
              "      <td>unarmed</td>\n",
              "      <td>44.0</td>\n",
              "      <td>M</td>\n",
              "      <td>B</td>\n",
              "      <td>Tulsa</td>\n",
              "      <td>OK</td>\n",
              "      <td>False</td>\n",
              "      <td>other</td>\n",
              "      <td>Not fleeing</td>\n",
              "      <td>False</td>\n",
              "    </tr>\n",
              "    <tr>\n",
              "      <th>1093</th>\n",
              "      <td>1252</td>\n",
              "      <td>Eric Harris</td>\n",
              "      <td>2016-02-08</td>\n",
              "      <td>shot</td>\n",
              "      <td>vehicle</td>\n",
              "      <td>22.0</td>\n",
              "      <td>M</td>\n",
              "      <td>B</td>\n",
              "      <td>New Orleans</td>\n",
              "      <td>LA</td>\n",
              "      <td>False</td>\n",
              "      <td>other</td>\n",
              "      <td>Car</td>\n",
              "      <td>False</td>\n",
              "    </tr>\n",
              "    <tr>\n",
              "      <th>2049</th>\n",
              "      <td>2304</td>\n",
              "      <td>Jamake Cason Thomas</td>\n",
              "      <td>2017-02-03</td>\n",
              "      <td>shot</td>\n",
              "      <td>gun</td>\n",
              "      <td>22.0</td>\n",
              "      <td>M</td>\n",
              "      <td>B</td>\n",
              "      <td>Rowland</td>\n",
              "      <td>NC</td>\n",
              "      <td>False</td>\n",
              "      <td>attack</td>\n",
              "      <td>Car</td>\n",
              "      <td>False</td>\n",
              "    </tr>\n",
              "    <tr>\n",
              "      <th>2053</th>\n",
              "      <td>2294</td>\n",
              "      <td>Jamake Cason Thomas</td>\n",
              "      <td>2017-02-03</td>\n",
              "      <td>shot</td>\n",
              "      <td>gun</td>\n",
              "      <td>22.0</td>\n",
              "      <td>M</td>\n",
              "      <td>B</td>\n",
              "      <td>Rowland</td>\n",
              "      <td>NC</td>\n",
              "      <td>False</td>\n",
              "      <td>attack</td>\n",
              "      <td>Car</td>\n",
              "      <td>False</td>\n",
              "    </tr>\n",
              "    <tr>\n",
              "      <th>1342</th>\n",
              "      <td>1526</td>\n",
              "      <td>Michael Johnson</td>\n",
              "      <td>2016-05-09</td>\n",
              "      <td>shot</td>\n",
              "      <td>gun</td>\n",
              "      <td>26.0</td>\n",
              "      <td>M</td>\n",
              "      <td>W</td>\n",
              "      <td>Chicago</td>\n",
              "      <td>IL</td>\n",
              "      <td>False</td>\n",
              "      <td>other</td>\n",
              "      <td>Foot</td>\n",
              "      <td>False</td>\n",
              "    </tr>\n",
              "    <tr>\n",
              "      <th>1398</th>\n",
              "      <td>1586</td>\n",
              "      <td>Michael Johnson</td>\n",
              "      <td>2016-06-01</td>\n",
              "      <td>shot</td>\n",
              "      <td>gun</td>\n",
              "      <td>21.0</td>\n",
              "      <td>M</td>\n",
              "      <td>B</td>\n",
              "      <td>Newnan</td>\n",
              "      <td>GA</td>\n",
              "      <td>False</td>\n",
              "      <td>attack</td>\n",
              "      <td>Foot</td>\n",
              "      <td>True</td>\n",
              "    </tr>\n",
              "    <tr>\n",
              "      <th>928</th>\n",
              "      <td>1074</td>\n",
              "      <td>NaN</td>\n",
              "      <td>2015-12-10</td>\n",
              "      <td>shot</td>\n",
              "      <td>gun</td>\n",
              "      <td>NaN</td>\n",
              "      <td>M</td>\n",
              "      <td>NaN</td>\n",
              "      <td>Hemet</td>\n",
              "      <td>CA</td>\n",
              "      <td>False</td>\n",
              "      <td>attack</td>\n",
              "      <td>Not fleeing</td>\n",
              "      <td>False</td>\n",
              "    </tr>\n",
              "    <tr>\n",
              "      <th>1382</th>\n",
              "      <td>1570</td>\n",
              "      <td>NaN</td>\n",
              "      <td>2016-05-26</td>\n",
              "      <td>shot</td>\n",
              "      <td>gun</td>\n",
              "      <td>NaN</td>\n",
              "      <td>M</td>\n",
              "      <td>NaN</td>\n",
              "      <td>San Antonio</td>\n",
              "      <td>TX</td>\n",
              "      <td>False</td>\n",
              "      <td>other</td>\n",
              "      <td>Not fleeing</td>\n",
              "      <td>False</td>\n",
              "    </tr>\n",
              "    <tr>\n",
              "      <th>1385</th>\n",
              "      <td>1581</td>\n",
              "      <td>NaN</td>\n",
              "      <td>2016-05-26</td>\n",
              "      <td>shot</td>\n",
              "      <td>knife</td>\n",
              "      <td>NaN</td>\n",
              "      <td>F</td>\n",
              "      <td>NaN</td>\n",
              "      <td>Sneads</td>\n",
              "      <td>FL</td>\n",
              "      <td>False</td>\n",
              "      <td>other</td>\n",
              "      <td>Not fleeing</td>\n",
              "      <td>False</td>\n",
              "    </tr>\n",
              "    <tr>\n",
              "      <th>1397</th>\n",
              "      <td>1584</td>\n",
              "      <td>NaN</td>\n",
              "      <td>2016-06-01</td>\n",
              "      <td>shot</td>\n",
              "      <td>gun</td>\n",
              "      <td>NaN</td>\n",
              "      <td>M</td>\n",
              "      <td>NaN</td>\n",
              "      <td>Phoenix</td>\n",
              "      <td>AZ</td>\n",
              "      <td>False</td>\n",
              "      <td>attack</td>\n",
              "      <td>Not fleeing</td>\n",
              "      <td>False</td>\n",
              "    </tr>\n",
              "    <tr>\n",
              "      <th>1419</th>\n",
              "      <td>1615</td>\n",
              "      <td>NaN</td>\n",
              "      <td>2016-06-09</td>\n",
              "      <td>shot</td>\n",
              "      <td>baton</td>\n",
              "      <td>NaN</td>\n",
              "      <td>M</td>\n",
              "      <td>NaN</td>\n",
              "      <td>Somerton</td>\n",
              "      <td>AZ</td>\n",
              "      <td>False</td>\n",
              "      <td>attack</td>\n",
              "      <td>Not fleeing</td>\n",
              "      <td>False</td>\n",
              "    </tr>\n",
              "    <tr>\n",
              "      <th>1500</th>\n",
              "      <td>1685</td>\n",
              "      <td>NaN</td>\n",
              "      <td>2016-07-04</td>\n",
              "      <td>shot</td>\n",
              "      <td>knife</td>\n",
              "      <td>NaN</td>\n",
              "      <td>M</td>\n",
              "      <td>NaN</td>\n",
              "      <td>Rosser</td>\n",
              "      <td>TX</td>\n",
              "      <td>False</td>\n",
              "      <td>other</td>\n",
              "      <td>Not fleeing</td>\n",
              "      <td>True</td>\n",
              "    </tr>\n",
              "    <tr>\n",
              "      <th>1646</th>\n",
              "      <td>1848</td>\n",
              "      <td>NaN</td>\n",
              "      <td>2016-09-01</td>\n",
              "      <td>shot and Tasered</td>\n",
              "      <td>pipe</td>\n",
              "      <td>NaN</td>\n",
              "      <td>M</td>\n",
              "      <td>H</td>\n",
              "      <td>Huntington Park</td>\n",
              "      <td>CA</td>\n",
              "      <td>False</td>\n",
              "      <td>other</td>\n",
              "      <td>Not fleeing</td>\n",
              "      <td>False</td>\n",
              "    </tr>\n",
              "    <tr>\n",
              "      <th>1825</th>\n",
              "      <td>2037</td>\n",
              "      <td>NaN</td>\n",
              "      <td>2016-11-11</td>\n",
              "      <td>shot and Tasered</td>\n",
              "      <td>NaN</td>\n",
              "      <td>NaN</td>\n",
              "      <td>M</td>\n",
              "      <td>NaN</td>\n",
              "      <td>East Point</td>\n",
              "      <td>GA</td>\n",
              "      <td>False</td>\n",
              "      <td>undetermined</td>\n",
              "      <td>NaN</td>\n",
              "      <td>False</td>\n",
              "    </tr>\n",
              "    <tr>\n",
              "      <th>1894</th>\n",
              "      <td>2110</td>\n",
              "      <td>NaN</td>\n",
              "      <td>2016-12-08</td>\n",
              "      <td>shot</td>\n",
              "      <td>gun</td>\n",
              "      <td>NaN</td>\n",
              "      <td>M</td>\n",
              "      <td>NaN</td>\n",
              "      <td>Allen</td>\n",
              "      <td>TX</td>\n",
              "      <td>False</td>\n",
              "      <td>attack</td>\n",
              "      <td>Not fleeing</td>\n",
              "      <td>False</td>\n",
              "    </tr>\n",
              "    <tr>\n",
              "      <th>1921</th>\n",
              "      <td>2141</td>\n",
              "      <td>NaN</td>\n",
              "      <td>2016-12-20</td>\n",
              "      <td>shot</td>\n",
              "      <td>knife</td>\n",
              "      <td>NaN</td>\n",
              "      <td>M</td>\n",
              "      <td>NaN</td>\n",
              "      <td>Brawley</td>\n",
              "      <td>CA</td>\n",
              "      <td>True</td>\n",
              "      <td>other</td>\n",
              "      <td>Not fleeing</td>\n",
              "      <td>False</td>\n",
              "    </tr>\n",
              "    <tr>\n",
              "      <th>1927</th>\n",
              "      <td>2154</td>\n",
              "      <td>NaN</td>\n",
              "      <td>2016-12-21</td>\n",
              "      <td>shot</td>\n",
              "      <td>knife</td>\n",
              "      <td>NaN</td>\n",
              "      <td>M</td>\n",
              "      <td>NaN</td>\n",
              "      <td>Stockton</td>\n",
              "      <td>CA</td>\n",
              "      <td>False</td>\n",
              "      <td>undetermined</td>\n",
              "      <td>Not fleeing</td>\n",
              "      <td>False</td>\n",
              "    </tr>\n",
              "    <tr>\n",
              "      <th>1933</th>\n",
              "      <td>2168</td>\n",
              "      <td>NaN</td>\n",
              "      <td>2016-12-23</td>\n",
              "      <td>shot</td>\n",
              "      <td>vehicle</td>\n",
              "      <td>NaN</td>\n",
              "      <td>M</td>\n",
              "      <td>NaN</td>\n",
              "      <td>El Monte</td>\n",
              "      <td>CA</td>\n",
              "      <td>False</td>\n",
              "      <td>other</td>\n",
              "      <td>Car</td>\n",
              "      <td>False</td>\n",
              "    </tr>\n",
              "    <tr>\n",
              "      <th>1936</th>\n",
              "      <td>2164</td>\n",
              "      <td>NaN</td>\n",
              "      <td>2016-12-24</td>\n",
              "      <td>shot</td>\n",
              "      <td>gun</td>\n",
              "      <td>NaN</td>\n",
              "      <td>M</td>\n",
              "      <td>NaN</td>\n",
              "      <td>Gadsden</td>\n",
              "      <td>AL</td>\n",
              "      <td>False</td>\n",
              "      <td>attack</td>\n",
              "      <td>Foot</td>\n",
              "      <td>False</td>\n",
              "    </tr>\n",
              "    <tr>\n",
              "      <th>1949</th>\n",
              "      <td>2182</td>\n",
              "      <td>NaN</td>\n",
              "      <td>2016-12-30</td>\n",
              "      <td>shot</td>\n",
              "      <td>gun</td>\n",
              "      <td>NaN</td>\n",
              "      <td>M</td>\n",
              "      <td>NaN</td>\n",
              "      <td>Pensacola</td>\n",
              "      <td>FL</td>\n",
              "      <td>False</td>\n",
              "      <td>attack</td>\n",
              "      <td>Not fleeing</td>\n",
              "      <td>False</td>\n",
              "    </tr>\n",
              "    <tr>\n",
              "      <th>2003</th>\n",
              "      <td>2232</td>\n",
              "      <td>NaN</td>\n",
              "      <td>2017-01-18</td>\n",
              "      <td>shot</td>\n",
              "      <td>hatchet</td>\n",
              "      <td>NaN</td>\n",
              "      <td>M</td>\n",
              "      <td>NaN</td>\n",
              "      <td>Los Angeles</td>\n",
              "      <td>CA</td>\n",
              "      <td>False</td>\n",
              "      <td>other</td>\n",
              "      <td>Car</td>\n",
              "      <td>False</td>\n",
              "    </tr>\n",
              "    <tr>\n",
              "      <th>2044</th>\n",
              "      <td>2278</td>\n",
              "      <td>NaN</td>\n",
              "      <td>2017-01-31</td>\n",
              "      <td>shot and Tasered</td>\n",
              "      <td>knife</td>\n",
              "      <td>NaN</td>\n",
              "      <td>M</td>\n",
              "      <td>B</td>\n",
              "      <td>Hollywood</td>\n",
              "      <td>CA</td>\n",
              "      <td>True</td>\n",
              "      <td>attack</td>\n",
              "      <td>Not fleeing</td>\n",
              "      <td>False</td>\n",
              "    </tr>\n",
              "    <tr>\n",
              "      <th>2077</th>\n",
              "      <td>2319</td>\n",
              "      <td>NaN</td>\n",
              "      <td>2017-02-09</td>\n",
              "      <td>shot</td>\n",
              "      <td>undetermined</td>\n",
              "      <td>NaN</td>\n",
              "      <td>M</td>\n",
              "      <td>NaN</td>\n",
              "      <td>Crownpoint</td>\n",
              "      <td>NM</td>\n",
              "      <td>False</td>\n",
              "      <td>undetermined</td>\n",
              "      <td>NaN</td>\n",
              "      <td>False</td>\n",
              "    </tr>\n",
              "    <tr>\n",
              "      <th>2090</th>\n",
              "      <td>2328</td>\n",
              "      <td>NaN</td>\n",
              "      <td>2017-02-12</td>\n",
              "      <td>shot</td>\n",
              "      <td>vehicle</td>\n",
              "      <td>NaN</td>\n",
              "      <td>M</td>\n",
              "      <td>NaN</td>\n",
              "      <td>Terrell</td>\n",
              "      <td>TX</td>\n",
              "      <td>False</td>\n",
              "      <td>other</td>\n",
              "      <td>Other</td>\n",
              "      <td>False</td>\n",
              "    </tr>\n",
              "    <tr>\n",
              "      <th>2133</th>\n",
              "      <td>2384</td>\n",
              "      <td>NaN</td>\n",
              "      <td>2017-02-25</td>\n",
              "      <td>shot</td>\n",
              "      <td>gun</td>\n",
              "      <td>NaN</td>\n",
              "      <td>NaN</td>\n",
              "      <td>NaN</td>\n",
              "      <td>Lumpkin</td>\n",
              "      <td>GA</td>\n",
              "      <td>False</td>\n",
              "      <td>attack</td>\n",
              "      <td>Car</td>\n",
              "      <td>False</td>\n",
              "    </tr>\n",
              "  </tbody>\n",
              "</table>\n",
              "</div>"
            ],
            "text/plain": [
              "        id                      name  ...         flee body_camera\n",
              "209    229             Brandon Jones  ...  Not fleeing       False\n",
              "1780  1991             Brandon Jones  ...  Not fleeing       False\n",
              "976   1129  Daquan Antonio Westbrook  ...  Not fleeing       False\n",
              "1934  2158  Daquan Antonio Westbrook  ...  Not fleeing       False\n",
              "249    291               Eric Harris  ...  Not fleeing       False\n",
              "1093  1252               Eric Harris  ...          Car       False\n",
              "2049  2304       Jamake Cason Thomas  ...          Car       False\n",
              "2053  2294       Jamake Cason Thomas  ...          Car       False\n",
              "1342  1526           Michael Johnson  ...         Foot       False\n",
              "1398  1586           Michael Johnson  ...         Foot        True\n",
              "928   1074                       NaN  ...  Not fleeing       False\n",
              "1382  1570                       NaN  ...  Not fleeing       False\n",
              "1385  1581                       NaN  ...  Not fleeing       False\n",
              "1397  1584                       NaN  ...  Not fleeing       False\n",
              "1419  1615                       NaN  ...  Not fleeing       False\n",
              "1500  1685                       NaN  ...  Not fleeing        True\n",
              "1646  1848                       NaN  ...  Not fleeing       False\n",
              "1825  2037                       NaN  ...          NaN       False\n",
              "1894  2110                       NaN  ...  Not fleeing       False\n",
              "1921  2141                       NaN  ...  Not fleeing       False\n",
              "1927  2154                       NaN  ...  Not fleeing       False\n",
              "1933  2168                       NaN  ...          Car       False\n",
              "1936  2164                       NaN  ...         Foot       False\n",
              "1949  2182                       NaN  ...  Not fleeing       False\n",
              "2003  2232                       NaN  ...          Car       False\n",
              "2044  2278                       NaN  ...  Not fleeing       False\n",
              "2077  2319                       NaN  ...          NaN       False\n",
              "2090  2328                       NaN  ...        Other       False\n",
              "2133  2384                       NaN  ...          Car       False\n",
              "\n",
              "[29 rows x 14 columns]"
            ]
          },
          "metadata": {
            "tags": []
          },
          "execution_count": 12
        }
      ]
    },
    {
      "cell_type": "markdown",
      "metadata": {
        "id": "rv5kX9fTQOpJ"
      },
      "source": [
        "There are 4 duplicated names. It appears two of the names are duplicated observations - Daquan Antonio Westbrook and Jamake Cason Thomas. These rows will be dropped."
      ]
    },
    {
      "cell_type": "code",
      "metadata": {
        "id": "AbBYERmmQstR"
      },
      "source": [
        "data.drop(index=[1934, 2053], axis = 0, inplace= True)"
      ],
      "execution_count": 13,
      "outputs": []
    },
    {
      "cell_type": "markdown",
      "metadata": {
        "id": "IWcdWxhzQOka"
      },
      "source": [
        "Replacing null values...."
      ]
    },
    {
      "cell_type": "code",
      "metadata": {
        "id": "1gfHoMo4R3me"
      },
      "source": [
        "data['name'] = data['name'].fillna(value = 'unknown')\n",
        "data['armed'] = data['armed'].fillna(value = 'undetermined')\n",
        "data['gender'] = data['gender'].fillna(value = 'unknown')\n",
        "data['race'] = data['race'].fillna(value = 'unknown')\n",
        "data['flee'] = data['flee'].fillna(value = 'unknown')"
      ],
      "execution_count": 14,
      "outputs": []
    },
    {
      "cell_type": "markdown",
      "metadata": {
        "id": "QXAqQntcSfag"
      },
      "source": [
        "##Data Analysis"
      ]
    },
    {
      "cell_type": "markdown",
      "metadata": {
        "id": "6gE-FoZXTSNz"
      },
      "source": [
        "Analysing the period of the dataset"
      ]
    },
    {
      "cell_type": "code",
      "metadata": {
        "id": "hiHj7EVhThaQ"
      },
      "source": [
        "data['year'] = pd.DatetimeIndex(data['date']).year\n",
        "data['month'] = pd.DatetimeIndex(data['date']).strftime('%B')"
      ],
      "execution_count": 15,
      "outputs": []
    },
    {
      "cell_type": "code",
      "metadata": {
        "colab": {
          "base_uri": "https://localhost:8080/",
          "height": 173
        },
        "id": "cCm8WHTQTWaO",
        "outputId": "7da55a64-d409-4f2b-c90c-85c9bd3fdf99"
      },
      "source": [
        "grouped_year = data.groupby('year')\n",
        "grouped_year.agg(Minimum_Date=('date', np.min), Maximum_Date=('date', np.max))"
      ],
      "execution_count": 16,
      "outputs": [
        {
          "output_type": "execute_result",
          "data": {
            "text/html": [
              "<div>\n",
              "<style scoped>\n",
              "    .dataframe tbody tr th:only-of-type {\n",
              "        vertical-align: middle;\n",
              "    }\n",
              "\n",
              "    .dataframe tbody tr th {\n",
              "        vertical-align: top;\n",
              "    }\n",
              "\n",
              "    .dataframe thead th {\n",
              "        text-align: right;\n",
              "    }\n",
              "</style>\n",
              "<table border=\"1\" class=\"dataframe\">\n",
              "  <thead>\n",
              "    <tr style=\"text-align: right;\">\n",
              "      <th></th>\n",
              "      <th>Minimum_Date</th>\n",
              "      <th>Maximum_Date</th>\n",
              "    </tr>\n",
              "    <tr>\n",
              "      <th>year</th>\n",
              "      <th></th>\n",
              "      <th></th>\n",
              "    </tr>\n",
              "  </thead>\n",
              "  <tbody>\n",
              "    <tr>\n",
              "      <th>2015</th>\n",
              "      <td>2015-01-02</td>\n",
              "      <td>2015-12-31</td>\n",
              "    </tr>\n",
              "    <tr>\n",
              "      <th>2016</th>\n",
              "      <td>2016-01-01</td>\n",
              "      <td>2016-12-31</td>\n",
              "    </tr>\n",
              "    <tr>\n",
              "      <th>2017</th>\n",
              "      <td>2017-01-01</td>\n",
              "      <td>2017-02-28</td>\n",
              "    </tr>\n",
              "  </tbody>\n",
              "</table>\n",
              "</div>"
            ],
            "text/plain": [
              "     Minimum_Date Maximum_Date\n",
              "year                          \n",
              "2015   2015-01-02   2015-12-31\n",
              "2016   2016-01-01   2016-12-31\n",
              "2017   2017-01-01   2017-02-28"
            ]
          },
          "metadata": {
            "tags": []
          },
          "execution_count": 16
        }
      ]
    },
    {
      "cell_type": "markdown",
      "metadata": {
        "id": "BuxuvEajTt9W"
      },
      "source": [
        "The data is is complete for 2015 and 2016, but covers only January and February of 2017.  "
      ]
    },
    {
      "cell_type": "code",
      "metadata": {
        "colab": {
          "base_uri": "https://localhost:8080/"
        },
        "id": "US39iMbSUBm5",
        "outputId": "7eeb3979-ac27-4cf2-8ef1-fa7467547650"
      },
      "source": [
        "data.groupby('year')['id'].count()"
      ],
      "execution_count": 17,
      "outputs": [
        {
          "output_type": "execute_result",
          "data": {
            "text/plain": [
              "year\n",
              "2015    991\n",
              "2016    962\n",
              "2017    187\n",
              "Name: id, dtype: int64"
            ]
          },
          "metadata": {
            "tags": []
          },
          "execution_count": 17
        }
      ]
    },
    {
      "cell_type": "markdown",
      "metadata": {
        "id": "DWxjTs0uUGwZ"
      },
      "source": [
        "The number of deaths seemed to drop from 2015 to 2016. Since only January and February are accounted for in 2017, no conclusion can be made about 2017 from the data."
      ]
    },
    {
      "cell_type": "markdown",
      "metadata": {
        "id": "isxCqwyJSvEp"
      },
      "source": [
        "**Number of deaths based on age and gender and year.**"
      ]
    },
    {
      "cell_type": "code",
      "metadata": {
        "colab": {
          "base_uri": "https://localhost:8080/",
          "height": 385
        },
        "id": "-fFNOSEER7Nm",
        "outputId": "6e016093-c293-4506-9b56-7e3457fb7292"
      },
      "source": [
        "sns.displot(data.age, bins= 10)\n",
        "plt.title(\"Distribution of deaths by age\");"
      ],
      "execution_count": 18,
      "outputs": [
        {
          "output_type": "display_data",
          "data": {
            "image/png": "[encoded data removed]",
            "text/plain": [
              "<Figure size 360x360 with 1 Axes>"
            ]
          },
          "metadata": {
            "tags": [],
            "needs_background": "light"
          }
        }
      ]
    },
    {
      "cell_type": "code",
      "metadata": {
        "colab": {
          "base_uri": "https://localhost:8080/",
          "height": 373
        },
        "id": "KFNtxd07R-Ze",
        "outputId": "7418d09b-15b2-4698-bde0-aee33893f63e"
      },
      "source": [
        "ax = sns.displot(data = data, x = 'age', bins = 10, col = 'year')\n",
        "ax.fig.subplots_adjust(top=.8)\n",
        "ax.fig.suptitle('Distribution of deaths by age disaggregated by years');"
      ],
      "execution_count": 19,
      "outputs": [
        {
          "output_type": "display_data",
          "data": {
            "image/png": "[encoded data removed]",
            "text/plain": [
              "<Figure size 1080x360 with 3 Axes>"
            ]
          },
          "metadata": {
            "tags": [],
            "needs_background": "light"
          }
        }
      ]
    },
    {
      "cell_type": "markdown",
      "metadata": {
        "id": "tLMgZbHGYrHj"
      },
      "source": [
        "The most number of deaths due to police brutality is between the early twenties and mid-fifties. This trend is consistent for 2015, 2016 and even 2017."
      ]
    },
    {
      "cell_type": "code",
      "metadata": {
        "id": "jDOQVEvvZRm3"
      },
      "source": [
        "gender = data[data.gender != 'unknown']"
      ],
      "execution_count": 20,
      "outputs": []
    },
    {
      "cell_type": "code",
      "metadata": {
        "colab": {
          "base_uri": "https://localhost:8080/",
          "height": 373
        },
        "id": "ZlxvFzJcaBum",
        "outputId": "ebb65276-665b-4ab2-b3c4-21bfc6ec1f9c"
      },
      "source": [
        "ax = sns.displot(data = gender, x = 'age', bins = 10, col = 'gender')\n",
        "ax.fig.subplots_adjust(top=.8)\n",
        "ax.fig.suptitle('Distribution of deaths by age and gender');"
      ],
      "execution_count": 21,
      "outputs": [
        {
          "output_type": "display_data",
          "data": {
            "image/png": "[encoded data removed]",
            "text/plain": [
              "<Figure size 720x360 with 2 Axes>"
            ]
          },
          "metadata": {
            "tags": [],
            "needs_background": "light"
          }
        }
      ]
    },
    {
      "cell_type": "markdown",
      "metadata": {
        "id": "DAtgwzd6cFF5"
      },
      "source": [
        "The number of males fatally affected by police brutality is signific antly higher than the number of females. However the age distribution is similar for both genders."
      ]
    },
    {
      "cell_type": "markdown",
      "metadata": {
        "id": "bligsc_gcU4Z"
      },
      "source": [
        "**Analysing level of threat**"
      ]
    },
    {
      "cell_type": "markdown",
      "metadata": {
        "id": "FNeXdlTtd6Js"
      },
      "source": [
        "Classifying the armed column into 3 classes:\n",
        "1.   Armed - indicates that the victim was armed with some sort of implement that a police officer believed could inflict harm\n",
        "2.   Unarmed - the victim was not armed\n",
        "3.   Undetermined - it is not known whether or not the victim had a weapon\n"
      ]
    },
    {
      "cell_type": "code",
      "metadata": {
        "id": "-Ta75bE4doSd"
      },
      "source": [
        "armed_list = list(data['armed'].unique())\n",
        "armed_list.remove('unarmed')\n",
        "armed_list.remove('undetermined')"
      ],
      "execution_count": 22,
      "outputs": []
    },
    {
      "cell_type": "code",
      "metadata": {
        "id": "ixJsxqpwd1Do"
      },
      "source": [
        "data['armed_class'] = data['armed']\n",
        "data['armed_class'] = data['armed_class'].replace(armed_list, 'armed')"
      ],
      "execution_count": 23,
      "outputs": []
    },
    {
      "cell_type": "code",
      "metadata": {
        "colab": {
          "base_uri": "https://localhost:8080/",
          "height": 405
        },
        "id": "5DlNNZlfe5Gu",
        "outputId": "2c061433-de2b-4801-c21b-410316a81e00"
      },
      "source": [
        "plt.figure(figsize = (8, 6))\n",
        "sns.countplot(data = data, x = 'armed_class')\n",
        "plt.title(\"Number of individuals armed, unarmed or undetermined\");"
      ],
      "execution_count": 24,
      "outputs": [
        {
          "output_type": "display_data",
          "data": {
            "image/png": "[encoded data removed]",
            "text/plain": [
              "<Figure size 576x432 with 1 Axes>"
            ]
          },
          "metadata": {
            "tags": [],
            "needs_background": "light"
          }
        }
      ]
    },
    {
      "cell_type": "markdown",
      "metadata": {
        "id": "TQRISHAZfgu-"
      },
      "source": [
        "A more victims were armed."
      ]
    },
    {
      "cell_type": "code",
      "metadata": {
        "id": "WcefHeEtiLUN"
      },
      "source": [
        "arms = data.loc[(data['armed'] != 'unarmed') & (data['armed'] != 'undetermined')]"
      ],
      "execution_count": 25,
      "outputs": []
    },
    {
      "cell_type": "code",
      "metadata": {
        "colab": {
          "base_uri": "https://localhost:8080/",
          "height": 482
        },
        "id": "V3c_j-gGhDeT",
        "outputId": "c22f1007-54e7-46f0-f775-599231f5c517"
      },
      "source": [
        "plt.figure(figsize = (8, 6))\n",
        "sns.countplot(data = arms, x = 'armed', order= arms.armed.value_counts().iloc[:10].index)\n",
        "plt.xticks(rotation = 90)\n",
        "plt.title('Distribution of 10 most common weapons held by victims');"
      ],
      "execution_count": 26,
      "outputs": [
        {
          "output_type": "display_data",
          "data": {
            "image/png": "[encoded data removed]",
            "text/plain": [
              "<Figure size 576x432 with 1 Axes>"
            ]
          },
          "metadata": {
            "tags": [],
            "needs_background": "light"
          }
        }
      ]
    },
    {
      "cell_type": "markdown",
      "metadata": {
        "id": "YRJXAKkXhGw2"
      },
      "source": [
        "The most common weapons held by victims are guns and knives."
      ]
    },
    {
      "cell_type": "code",
      "metadata": {
        "colab": {
          "base_uri": "https://localhost:8080/",
          "height": 497
        },
        "id": "8-Xe1C_oi8Zn",
        "outputId": "d38e4aef-b18e-43f9-ed0b-f97b2f8a6c0b"
      },
      "source": [
        "plt.figure(figsize = (10, 8))\n",
        "sns.countplot(data = data, x = 'flee', hue= 'armed_class');"
      ],
      "execution_count": 27,
      "outputs": [
        {
          "output_type": "display_data",
          "data": {
            "image/png": "[encoded data removed]",
            "text/plain": [
              "<Figure size 720x576 with 1 Axes>"
            ]
          },
          "metadata": {
            "tags": [],
            "needs_background": "light"
          }
        }
      ]
    },
    {
      "cell_type": "markdown",
      "metadata": {
        "id": "LluaPwEjjBKz"
      },
      "source": [
        "It appears that most people that were armed did not flee from the police. "
      ]
    },
    {
      "cell_type": "code",
      "metadata": {
        "colab": {
          "base_uri": "https://localhost:8080/",
          "height": 279
        },
        "id": "bqciCBLHpEPo",
        "outputId": "1415d630-0d1f-4512-ada4-f89a64647274"
      },
      "source": [
        "sns.countplot(data = data[data['armed_class'] == 'unarmed'], x = 'race');"
      ],
      "execution_count": 28,
      "outputs": [
        {
          "output_type": "display_data",
          "data": {
            "image/png": "[encoded data removed]",
            "text/plain": [
              "<Figure size 432x288 with 1 Axes>"
            ]
          },
          "metadata": {
            "tags": [],
            "needs_background": "light"
          }
        }
      ]
    },
    {
      "cell_type": "markdown",
      "metadata": {
        "id": "51wmfhTBjVSG"
      },
      "source": [
        "##Merging with other datasets"
      ]
    },
    {
      "cell_type": "code",
      "metadata": {
        "colab": {
          "base_uri": "https://localhost:8080/",
          "height": 204
        },
        "id": "Mj7zosgUjeO8",
        "outputId": "96230134-bac8-4c07-a4f0-d22232abb474"
      },
      "source": [
        "pop_2015.head()"
      ],
      "execution_count": 29,
      "outputs": [
        {
          "output_type": "execute_result",
          "data": {
            "text/html": [
              "<div>\n",
              "<style scoped>\n",
              "    .dataframe tbody tr th:only-of-type {\n",
              "        vertical-align: middle;\n",
              "    }\n",
              "\n",
              "    .dataframe tbody tr th {\n",
              "        vertical-align: top;\n",
              "    }\n",
              "\n",
              "    .dataframe thead th {\n",
              "        text-align: right;\n",
              "    }\n",
              "</style>\n",
              "<table border=\"1\" class=\"dataframe\">\n",
              "  <thead>\n",
              "    <tr style=\"text-align: right;\">\n",
              "      <th></th>\n",
              "      <th>Location</th>\n",
              "      <th>White</th>\n",
              "      <th>Black</th>\n",
              "      <th>Hispanic</th>\n",
              "      <th>Asian</th>\n",
              "      <th>American Indian/Alaska Native</th>\n",
              "      <th>Native Hawaiian/Other Pacific Islander</th>\n",
              "      <th>Multiple Races</th>\n",
              "      <th>Total</th>\n",
              "    </tr>\n",
              "  </thead>\n",
              "  <tbody>\n",
              "    <tr>\n",
              "      <th>0</th>\n",
              "      <td>United States</td>\n",
              "      <td>192593600</td>\n",
              "      <td>37923800</td>\n",
              "      <td>55241300</td>\n",
              "      <td>16755300</td>\n",
              "      <td>1986900.0</td>\n",
              "      <td>466400.0</td>\n",
              "      <td>7810600</td>\n",
              "      <td>312777900</td>\n",
              "    </tr>\n",
              "    <tr>\n",
              "      <th>1</th>\n",
              "      <td>Alabama</td>\n",
              "      <td>3131400</td>\n",
              "      <td>1251500</td>\n",
              "      <td>188000</td>\n",
              "      <td>55300</td>\n",
              "      <td>16300.0</td>\n",
              "      <td>NaN</td>\n",
              "      <td>86500</td>\n",
              "      <td>4730100</td>\n",
              "    </tr>\n",
              "    <tr>\n",
              "      <th>2</th>\n",
              "      <td>Alaska</td>\n",
              "      <td>435400</td>\n",
              "      <td>22900</td>\n",
              "      <td>47600</td>\n",
              "      <td>49000</td>\n",
              "      <td>98700.0</td>\n",
              "      <td>2800.0</td>\n",
              "      <td>51000</td>\n",
              "      <td>707500</td>\n",
              "    </tr>\n",
              "    <tr>\n",
              "      <th>3</th>\n",
              "      <td>Arizona</td>\n",
              "      <td>3714900</td>\n",
              "      <td>264200</td>\n",
              "      <td>2045900</td>\n",
              "      <td>207300</td>\n",
              "      <td>270800.0</td>\n",
              "      <td>8900.0</td>\n",
              "      <td>143100</td>\n",
              "      <td>6655100</td>\n",
              "    </tr>\n",
              "    <tr>\n",
              "      <th>4</th>\n",
              "      <td>Arkansas</td>\n",
              "      <td>2106000</td>\n",
              "      <td>446400</td>\n",
              "      <td>204300</td>\n",
              "      <td>39000</td>\n",
              "      <td>18000.0</td>\n",
              "      <td>6100.0</td>\n",
              "      <td>62600</td>\n",
              "      <td>2882300</td>\n",
              "    </tr>\n",
              "  </tbody>\n",
              "</table>\n",
              "</div>"
            ],
            "text/plain": [
              "        Location      White  ...  Multiple Races      Total\n",
              "0  United States  192593600  ...         7810600  312777900\n",
              "1        Alabama    3131400  ...           86500    4730100\n",
              "2         Alaska     435400  ...           51000     707500\n",
              "3        Arizona    3714900  ...          143100    6655100\n",
              "4       Arkansas    2106000  ...           62600    2882300\n",
              "\n",
              "[5 rows x 9 columns]"
            ]
          },
          "metadata": {
            "tags": []
          },
          "execution_count": 29
        }
      ]
    },
    {
      "cell_type": "markdown",
      "metadata": {
        "id": "rlZpXamcjiol"
      },
      "source": [
        "The population data for 2015, 2016 and 2017 shows the population of each US state by race. "
      ]
    },
    {
      "cell_type": "code",
      "metadata": {
        "id": "yPZt1NuDjbKK"
      },
      "source": [
        "pop_data = pd.concat([pop_2015, pop_2016, pop_2017], keys=['2015', '2016', '2017'])"
      ],
      "execution_count": 30,
      "outputs": []
    },
    {
      "cell_type": "markdown",
      "metadata": {
        "id": "tIykiWInjw1W"
      },
      "source": [
        "Qualifying the other races not addressed in our dataset as 'other' "
      ]
    },
    {
      "cell_type": "code",
      "metadata": {
        "id": "EBl9HCpqjwFE"
      },
      "source": [
        "pop_data['Other'] = pop_data['Native Hawaiian/Other Pacific Islander'] + pop_data['Multiple Races']\n",
        "pop_data.reset_index(inplace=True)\n",
        "pop_data = pop_data.drop(['Native Hawaiian/Other Pacific Islander', 'Multiple Races', 'level_1'], axis= 1)\n",
        "pop_data = pop_data.rename(columns= {'American Indian/Alaska Native':'Native American', 'level_0':'year', 'Location':'state'})"
      ],
      "execution_count": 31,
      "outputs": []
    },
    {
      "cell_type": "markdown",
      "metadata": {
        "id": "Qw6INWL_kIcB"
      },
      "source": [
        "Restructure the dataset."
      ]
    },
    {
      "cell_type": "code",
      "metadata": {
        "id": "2oftQn6MkDNJ"
      },
      "source": [
        "pop_data_melted = pd.melt(pop_data, id_vars= ['year', 'state', 'Total'], value_vars= ['White', 'Black','Hispanic', 'Asian', 'Native American' ], var_name='race', value_name='race_pop')"
      ],
      "execution_count": 32,
      "outputs": []
    },
    {
      "cell_type": "code",
      "metadata": {
        "id": "Ill1_Uc7oKWl"
      },
      "source": [
        "pop_data_melted['year'] = pd.to_numeric(pop_data_melted['year'])"
      ],
      "execution_count": 33,
      "outputs": []
    },
    {
      "cell_type": "markdown",
      "metadata": {
        "id": "bPSd7VRkkSfL"
      },
      "source": [
        "Calculate the ratio of each race to the total population by states"
      ]
    },
    {
      "cell_type": "code",
      "metadata": {
        "id": "j2UFCXZqkaNx"
      },
      "source": [
        "pop_data_melted['race_per_pop'] = pop_data_melted['race_pop']/pop_data_melted['Total']"
      ],
      "execution_count": 34,
      "outputs": []
    },
    {
      "cell_type": "markdown",
      "metadata": {
        "id": "CGHJZ9aukZ1f"
      },
      "source": [
        "Converting the race codes to the full meaning.\n",
        "The metadata defines the race classes like this:\n",
        "1. W - White, non-hispanic\n",
        "2. B - Black, non-hispanic\n",
        "3. A - Asian\n",
        "4. N - Native American\n",
        "5. O - Other\n",
        "6. None - Unknown"
      ]
    },
    {
      "cell_type": "code",
      "metadata": {
        "id": "FaSgRlyok8mz"
      },
      "source": [
        "race_dict = {'B':'Black', 'W': 'White', 'A':'Asian', 'N':'Native American', 'H':'Hispanic', 'O':'Other', 'None': 'Unknown'}\n",
        "data['race_full'] = data['race'].replace(race_dict)"
      ],
      "execution_count": 35,
      "outputs": []
    },
    {
      "cell_type": "markdown",
      "metadata": {
        "id": "aOfHa4kglA-2"
      },
      "source": [
        "Converting the states codes too"
      ]
    },
    {
      "cell_type": "code",
      "metadata": {
        "id": "dXPvD6VQma-o"
      },
      "source": [
        "states_dict = states_df.set_index('state').to_dict()['name']\n",
        "data['state_full'] = data['state'].replace(states_dict)"
      ],
      "execution_count": 36,
      "outputs": []
    },
    {
      "cell_type": "markdown",
      "metadata": {
        "id": "Y4BLhXKBoUTI"
      },
      "source": [
        "Grouping the main data by state and race"
      ]
    },
    {
      "cell_type": "code",
      "metadata": {
        "id": "trUWWZiymmro"
      },
      "source": [
        "states_data = data.groupby(['year', 'state_full', 'race_full'])['id'].count()\n",
        "states_data = states_data.reset_index().rename(columns= {'id':'count', 'state_full':'state', 'race_full':'race'})  "
      ],
      "execution_count": 37,
      "outputs": []
    },
    {
      "cell_type": "markdown",
      "metadata": {
        "id": "oYbQYytBonB5"
      },
      "source": [
        "Join with population data"
      ]
    },
    {
      "cell_type": "code",
      "metadata": {
        "id": "74EsMciMozRI"
      },
      "source": [
        "joined_data = pd.merge(states_data, pop_data_melted, on= ['year', 'state', 'race'], how= 'left')"
      ],
      "execution_count": 38,
      "outputs": []
    },
    {
      "cell_type": "code",
      "metadata": {
        "id": "k_FqmC9Oqgnw"
      },
      "source": [
        "joined_data['deaths_by_race_pop'] = joined_data['count']/joined_data['race_per_pop']"
      ],
      "execution_count": 39,
      "outputs": []
    },
    {
      "cell_type": "code",
      "metadata": {
        "id": "rwZUjdFbqzr1"
      },
      "source": [
        "joined_data['deaths_by_race_per_hundred_thousand'] = round(joined_data['deaths_by_race_pop'] * 1000000, 2)"
      ],
      "execution_count": 40,
      "outputs": []
    },
    {
      "cell_type": "code",
      "metadata": {
        "colab": {
          "base_uri": "https://localhost:8080/",
          "height": 204
        },
        "id": "eTf_hxnJrIWo",
        "outputId": "e380aeab-c26f-47ac-dbb4-2f186111778e"
      },
      "source": [
        "joined_data.head()"
      ],
      "execution_count": 41,
      "outputs": [
        {
          "output_type": "execute_result",
          "data": {
            "text/html": [
              "<div>\n",
              "<style scoped>\n",
              "    .dataframe tbody tr th:only-of-type {\n",
              "        vertical-align: middle;\n",
              "    }\n",
              "\n",
              "    .dataframe tbody tr th {\n",
              "        vertical-align: top;\n",
              "    }\n",
              "\n",
              "    .dataframe thead th {\n",
              "        text-align: right;\n",
              "    }\n",
              "</style>\n",
              "<table border=\"1\" class=\"dataframe\">\n",
              "  <thead>\n",
              "    <tr style=\"text-align: right;\">\n",
              "      <th></th>\n",
              "      <th>year</th>\n",
              "      <th>state</th>\n",
              "      <th>race</th>\n",
              "      <th>count</th>\n",
              "      <th>Total</th>\n",
              "      <th>race_pop</th>\n",
              "      <th>race_per_pop</th>\n",
              "      <th>deaths_by_race_pop</th>\n",
              "      <th>deaths_by_race_per_hundred_thousand</th>\n",
              "    </tr>\n",
              "  </thead>\n",
              "  <tbody>\n",
              "    <tr>\n",
              "      <th>0</th>\n",
              "      <td>2015</td>\n",
              "      <td>Alabama</td>\n",
              "      <td>Black</td>\n",
              "      <td>6</td>\n",
              "      <td>4730100.0</td>\n",
              "      <td>1251500.0</td>\n",
              "      <td>0.264582</td>\n",
              "      <td>22.677267</td>\n",
              "      <td>22677267.28</td>\n",
              "    </tr>\n",
              "    <tr>\n",
              "      <th>1</th>\n",
              "      <td>2015</td>\n",
              "      <td>Alabama</td>\n",
              "      <td>White</td>\n",
              "      <td>11</td>\n",
              "      <td>4730100.0</td>\n",
              "      <td>3131400.0</td>\n",
              "      <td>0.662016</td>\n",
              "      <td>16.615923</td>\n",
              "      <td>16615922.59</td>\n",
              "    </tr>\n",
              "    <tr>\n",
              "      <th>2</th>\n",
              "      <td>2015</td>\n",
              "      <td>Alaska</td>\n",
              "      <td>Native American</td>\n",
              "      <td>2</td>\n",
              "      <td>707500.0</td>\n",
              "      <td>98700.0</td>\n",
              "      <td>0.139505</td>\n",
              "      <td>14.336373</td>\n",
              "      <td>14336372.85</td>\n",
              "    </tr>\n",
              "    <tr>\n",
              "      <th>3</th>\n",
              "      <td>2015</td>\n",
              "      <td>Alaska</td>\n",
              "      <td>White</td>\n",
              "      <td>2</td>\n",
              "      <td>707500.0</td>\n",
              "      <td>435400.0</td>\n",
              "      <td>0.615406</td>\n",
              "      <td>3.249885</td>\n",
              "      <td>3249885.16</td>\n",
              "    </tr>\n",
              "    <tr>\n",
              "      <th>4</th>\n",
              "      <td>2015</td>\n",
              "      <td>Arizona</td>\n",
              "      <td>Black</td>\n",
              "      <td>1</td>\n",
              "      <td>6655100.0</td>\n",
              "      <td>264200.0</td>\n",
              "      <td>0.039699</td>\n",
              "      <td>25.189629</td>\n",
              "      <td>25189629.07</td>\n",
              "    </tr>\n",
              "  </tbody>\n",
              "</table>\n",
              "</div>"
            ],
            "text/plain": [
              "   year    state  ... deaths_by_race_pop  deaths_by_race_per_hundred_thousand\n",
              "0  2015  Alabama  ...          22.677267                          22677267.28\n",
              "1  2015  Alabama  ...          16.615923                          16615922.59\n",
              "2  2015   Alaska  ...          14.336373                          14336372.85\n",
              "3  2015   Alaska  ...           3.249885                           3249885.16\n",
              "4  2015  Arizona  ...          25.189629                          25189629.07\n",
              "\n",
              "[5 rows x 9 columns]"
            ]
          },
          "metadata": {
            "tags": []
          },
          "execution_count": 41
        }
      ]
    },
    {
      "cell_type": "markdown",
      "metadata": {
        "id": "QSWDT9Jaiq8J"
      },
      "source": [
        "**Number of deaths by states**"
      ]
    },
    {
      "cell_type": "code",
      "metadata": {
        "colab": {
          "base_uri": "https://localhost:8080/",
          "height": 204
        },
        "id": "An39Vpw3kUJ9",
        "outputId": "7b54d363-146f-421a-8813-cf94ed3ee086"
      },
      "source": [
        "data.head()"
      ],
      "execution_count": 42,
      "outputs": [
        {
          "output_type": "execute_result",
          "data": {
            "text/html": [
              "<div>\n",
              "<style scoped>\n",
              "    .dataframe tbody tr th:only-of-type {\n",
              "        vertical-align: middle;\n",
              "    }\n",
              "\n",
              "    .dataframe tbody tr th {\n",
              "        vertical-align: top;\n",
              "    }\n",
              "\n",
              "    .dataframe thead th {\n",
              "        text-align: right;\n",
              "    }\n",
              "</style>\n",
              "<table border=\"1\" class=\"dataframe\">\n",
              "  <thead>\n",
              "    <tr style=\"text-align: right;\">\n",
              "      <th></th>\n",
              "      <th>id</th>\n",
              "      <th>name</th>\n",
              "      <th>date</th>\n",
              "      <th>manner_of_death</th>\n",
              "      <th>armed</th>\n",
              "      <th>age</th>\n",
              "      <th>gender</th>\n",
              "      <th>race</th>\n",
              "      <th>city</th>\n",
              "      <th>state</th>\n",
              "      <th>signs_of_mental_illness</th>\n",
              "      <th>threat_level</th>\n",
              "      <th>flee</th>\n",
              "      <th>body_camera</th>\n",
              "      <th>year</th>\n",
              "      <th>month</th>\n",
              "      <th>armed_class</th>\n",
              "      <th>race_full</th>\n",
              "      <th>state_full</th>\n",
              "    </tr>\n",
              "  </thead>\n",
              "  <tbody>\n",
              "    <tr>\n",
              "      <th>0</th>\n",
              "      <td>3</td>\n",
              "      <td>Tim Elliot</td>\n",
              "      <td>2015-01-02</td>\n",
              "      <td>shot</td>\n",
              "      <td>gun</td>\n",
              "      <td>53.0</td>\n",
              "      <td>M</td>\n",
              "      <td>A</td>\n",
              "      <td>Shelton</td>\n",
              "      <td>WA</td>\n",
              "      <td>True</td>\n",
              "      <td>attack</td>\n",
              "      <td>Not fleeing</td>\n",
              "      <td>False</td>\n",
              "      <td>2015</td>\n",
              "      <td>January</td>\n",
              "      <td>armed</td>\n",
              "      <td>Asian</td>\n",
              "      <td>Washington</td>\n",
              "    </tr>\n",
              "    <tr>\n",
              "      <th>1</th>\n",
              "      <td>4</td>\n",
              "      <td>Lewis Lee Lembke</td>\n",
              "      <td>2015-01-02</td>\n",
              "      <td>shot</td>\n",
              "      <td>gun</td>\n",
              "      <td>47.0</td>\n",
              "      <td>M</td>\n",
              "      <td>W</td>\n",
              "      <td>Aloha</td>\n",
              "      <td>OR</td>\n",
              "      <td>False</td>\n",
              "      <td>attack</td>\n",
              "      <td>Not fleeing</td>\n",
              "      <td>False</td>\n",
              "      <td>2015</td>\n",
              "      <td>January</td>\n",
              "      <td>armed</td>\n",
              "      <td>White</td>\n",
              "      <td>Oregon</td>\n",
              "    </tr>\n",
              "    <tr>\n",
              "      <th>2</th>\n",
              "      <td>5</td>\n",
              "      <td>John Paul Quintero</td>\n",
              "      <td>2015-01-03</td>\n",
              "      <td>shot and Tasered</td>\n",
              "      <td>unarmed</td>\n",
              "      <td>23.0</td>\n",
              "      <td>M</td>\n",
              "      <td>H</td>\n",
              "      <td>Wichita</td>\n",
              "      <td>KS</td>\n",
              "      <td>False</td>\n",
              "      <td>other</td>\n",
              "      <td>Not fleeing</td>\n",
              "      <td>False</td>\n",
              "      <td>2015</td>\n",
              "      <td>January</td>\n",
              "      <td>unarmed</td>\n",
              "      <td>Hispanic</td>\n",
              "      <td>Kansas</td>\n",
              "    </tr>\n",
              "    <tr>\n",
              "      <th>3</th>\n",
              "      <td>8</td>\n",
              "      <td>Matthew Hoffman</td>\n",
              "      <td>2015-01-04</td>\n",
              "      <td>shot</td>\n",
              "      <td>toy weapon</td>\n",
              "      <td>32.0</td>\n",
              "      <td>M</td>\n",
              "      <td>W</td>\n",
              "      <td>San Francisco</td>\n",
              "      <td>CA</td>\n",
              "      <td>True</td>\n",
              "      <td>attack</td>\n",
              "      <td>Not fleeing</td>\n",
              "      <td>False</td>\n",
              "      <td>2015</td>\n",
              "      <td>January</td>\n",
              "      <td>armed</td>\n",
              "      <td>White</td>\n",
              "      <td>California</td>\n",
              "    </tr>\n",
              "    <tr>\n",
              "      <th>4</th>\n",
              "      <td>9</td>\n",
              "      <td>Michael Rodriguez</td>\n",
              "      <td>2015-01-04</td>\n",
              "      <td>shot</td>\n",
              "      <td>nail gun</td>\n",
              "      <td>39.0</td>\n",
              "      <td>M</td>\n",
              "      <td>H</td>\n",
              "      <td>Evans</td>\n",
              "      <td>CO</td>\n",
              "      <td>False</td>\n",
              "      <td>attack</td>\n",
              "      <td>Not fleeing</td>\n",
              "      <td>False</td>\n",
              "      <td>2015</td>\n",
              "      <td>January</td>\n",
              "      <td>armed</td>\n",
              "      <td>Hispanic</td>\n",
              "      <td>Colorado</td>\n",
              "    </tr>\n",
              "  </tbody>\n",
              "</table>\n",
              "</div>"
            ],
            "text/plain": [
              "   id                name        date  ... armed_class race_full  state_full\n",
              "0   3          Tim Elliot  2015-01-02  ...       armed     Asian  Washington\n",
              "1   4    Lewis Lee Lembke  2015-01-02  ...       armed     White      Oregon\n",
              "2   5  John Paul Quintero  2015-01-03  ...     unarmed  Hispanic      Kansas\n",
              "3   8     Matthew Hoffman  2015-01-04  ...       armed     White  California\n",
              "4   9   Michael Rodriguez  2015-01-04  ...       armed  Hispanic    Colorado\n",
              "\n",
              "[5 rows x 19 columns]"
            ]
          },
          "metadata": {
            "tags": []
          },
          "execution_count": 42
        }
      ]
    },
    {
      "cell_type": "code",
      "metadata": {
        "id": "uH46G882ivMU"
      },
      "source": [
        "states_count = data.groupby(['year','state_full'])['id'].count().reset_index()\n",
        "states_count.rename(columns={'state_full':'state', 'id':'number_of_deaths'} , inplace=True)"
      ],
      "execution_count": 43,
      "outputs": []
    },
    {
      "cell_type": "code",
      "metadata": {
        "colab": {
          "base_uri": "https://localhost:8080/",
          "height": 493
        },
        "id": "8ighhj62lGEn",
        "outputId": "e9f54edd-d673-461e-f7de-58e4d36ee7ec"
      },
      "source": [
        "plt.figure(figsize = (12, 6))\n",
        "sns.barplot(y='number_of_deaths', x= 'state', data = states_count.sort_values(by = ['number_of_deaths'], ascending = False))\n",
        "plt.xticks(rotation = 90)\n",
        "plt.title('Total number of deaths by states');"
      ],
      "execution_count": 106,
      "outputs": [
        {
          "output_type": "display_data",
          "data": {
            "image/png": "[encoded data removed]",
            "text/plain": [
              "<Figure size 864x432 with 1 Axes>"
            ]
          },
          "metadata": {
            "tags": [],
            "needs_background": "light"
          }
        }
      ]
    },
    {
      "cell_type": "code",
      "metadata": {
        "colab": {
          "base_uri": "https://localhost:8080/",
          "height": 488
        },
        "id": "eXb0_os3itrf",
        "outputId": "ab452c13-4842-4e1a-e378-c8385e18d19b"
      },
      "source": [
        "sns.catplot(y='number_of_deaths', x= 'state', kind='bar',  aspect=4/1.5, data = states_count[states_count['year']==2015].sort_values(by = ['number_of_deaths'], ascending = False))\n",
        "plt.xticks(rotation = 90)\n",
        "plt.title('Total number of deaths by states 2015');"
      ],
      "execution_count": 45,
      "outputs": [
        {
          "output_type": "display_data",
          "data": {
            "image/png": "[encoded data removed]",
            "text/plain": [
              "<Figure size 960x360 with 1 Axes>"
            ]
          },
          "metadata": {
            "tags": [],
            "needs_background": "light"
          }
        }
      ]
    },
    {
      "cell_type": "code",
      "metadata": {
        "colab": {
          "base_uri": "https://localhost:8080/",
          "height": 488
        },
        "id": "VIOe7iUsmytC",
        "outputId": "78c0487a-cc08-46ab-ad55-7838e6d95fb1"
      },
      "source": [
        "sns.catplot(y='number_of_deaths', x= 'state', kind='bar',  aspect=4/1.5, data = states_count[states_count['year']==2016].sort_values(by = ['number_of_deaths'], ascending = False))\n",
        "plt.xticks(rotation = 90)\n",
        "plt.title('Total number of deaths by states 2016');"
      ],
      "execution_count": 46,
      "outputs": [
        {
          "output_type": "display_data",
          "data": {
            "image/png": "[encoded data removed]",
            "text/plain": [
              "<Figure size 960x360 with 1 Axes>"
            ]
          },
          "metadata": {
            "tags": [],
            "needs_background": "light"
          }
        }
      ]
    },
    {
      "cell_type": "code",
      "metadata": {
        "colab": {
          "base_uri": "https://localhost:8080/",
          "height": 488
        },
        "id": "LPT-ndwdmzhR",
        "outputId": "ad04e3f9-a23a-4fa0-ed96-be7f51d27939"
      },
      "source": [
        "sns.catplot(y='number_of_deaths', x= 'state', kind='bar',  aspect=4/1.5, data = states_count[states_count['year']==2017].sort_values(by = ['number_of_deaths'], ascending = False))\n",
        "plt.xticks(rotation = 90)\n",
        "plt.title('Total number of deaths by states 2017');"
      ],
      "execution_count": 47,
      "outputs": [
        {
          "output_type": "display_data",
          "data": {
            "image/png": "[encoded data removed]",
            "text/plain": [
              "<Figure size 960x360 with 1 Axes>"
            ]
          },
          "metadata": {
            "tags": [],
            "needs_background": "light"
          }
        }
      ]
    },
    {
      "cell_type": "markdown",
      "metadata": {
        "id": "E9EkSMt5oDo1"
      },
      "source": [
        "For 2015, 2016 and 2017, California, Texas and Florida consistently reported the highest number of deaths due to police brutality. "
      ]
    },
    {
      "cell_type": "code",
      "metadata": {
        "colab": {
          "base_uri": "https://localhost:8080/",
          "height": 445
        },
        "id": "qSBSQzAYrT7U",
        "outputId": "b3ac5bb9-4bc8-42cb-9a50-ee792c40e8a5"
      },
      "source": [
        "sns.catplot(y='deaths_by_race_per_hundred_thousand', x= 'state', hue='race', kind='bar', orient= 'v', edgecolor=\".6\",palette=\"pastel\",\n",
        "            data= joined_data.loc[joined_data['year'] == 2015], aspect=50/10)\n",
        "plt.xticks(rotation = 90)\n",
        "plt.title('Ratio of deaths by race for states in the US 2015');"
      ],
      "execution_count": 48,
      "outputs": [
        {
          "output_type": "display_data",
          "data": {
            "image/png": "[encoded data removed]",
            "text/plain": [
              "<Figure size 1919.12x360 with 1 Axes>"
            ]
          },
          "metadata": {
            "tags": [],
            "needs_background": "light"
          }
        }
      ]
    },
    {
      "cell_type": "markdown",
      "metadata": {
        "id": "fvxMPzGMtGuK"
      },
      "source": [
        "When comparing the number of deaths to the population by race, it is obvious that black race is the most affected in most states. In states like Colorado, Washington, and North and South Dakota, and Wyoming, the Native Americans are most affected.\n"
      ]
    },
    {
      "cell_type": "code",
      "metadata": {
        "colab": {
          "base_uri": "https://localhost:8080/",
          "height": 446
        },
        "id": "JrJQQzFvs9hE",
        "outputId": "7d5e089f-cd7c-4477-8ef8-94d6d02a5a32"
      },
      "source": [
        "sns.catplot(y='deaths_by_race_per_hundred_thousand', x= 'state', hue='race', kind='bar', orient= 'v', edgecolor=\".6\",palette=\"pastel\",\n",
        "            data= joined_data.loc[joined_data['year'] == 2016], aspect=50/10)\n",
        "plt.xticks(rotation = 90)\n",
        "plt.title('Ratio of deaths by race for states in the US 2016');"
      ],
      "execution_count": 49,
      "outputs": [
        {
          "output_type": "display_data",
          "data": {
            "image/png": "[encoded data removed]",
            "text/plain": [
              "<Figure size 1919.12x360 with 1 Axes>"
            ]
          },
          "metadata": {
            "tags": [],
            "needs_background": "light"
          }
        }
      ]
    },
    {
      "cell_type": "markdown",
      "metadata": {
        "id": "1x4LCKTSunkO"
      },
      "source": [
        "Just like 2015, Black people seem to be disporportionatley affected by police brutality in most states. Native americans are affected in states like Texas, Vermont, Washington, and Arizona."
      ]
    },
    {
      "cell_type": "markdown",
      "metadata": {
        "id": "Lu6gHIHCgrs_"
      },
      "source": [
        "Calculating the probability of other races being suject to police brutality compared to whites"
      ]
    },
    {
      "cell_type": "code",
      "metadata": {
        "id": "vO84MsxDbBYA"
      },
      "source": [
        "race_agg = joined_data.groupby('race').agg({'count':'sum','race_pop':'sum'})\n",
        "race_agg.drop(index=['unknown', 'Other'], axis=0, inplace=True)"
      ],
      "execution_count": 50,
      "outputs": []
    },
    {
      "cell_type": "code",
      "metadata": {
        "id": "NuTzVdOVcPY8"
      },
      "source": [
        "race_agg['death_by_race'] = race_agg['count']/ race_agg['race_pop']"
      ],
      "execution_count": 51,
      "outputs": []
    },
    {
      "cell_type": "code",
      "metadata": {
        "id": "A4kmEvG9c9bu"
      },
      "source": [
        "white = race_agg.death_by_race[race_agg.index == 'White'][0]\n",
        "race_agg['ratio_to_white'] = round(race_agg['death_by_race'] / white , 2)"
      ],
      "execution_count": 52,
      "outputs": []
    },
    {
      "cell_type": "code",
      "metadata": {
        "colab": {
          "base_uri": "https://localhost:8080/",
          "height": 235
        },
        "id": "Pa6oaarJca-7",
        "outputId": "52aa1ff8-984b-41f4-a109-15116753a7e7"
      },
      "source": [
        "race_agg"
      ],
      "execution_count": 53,
      "outputs": [
        {
          "output_type": "execute_result",
          "data": {
            "text/html": [
              "<div>\n",
              "<style scoped>\n",
              "    .dataframe tbody tr th:only-of-type {\n",
              "        vertical-align: middle;\n",
              "    }\n",
              "\n",
              "    .dataframe tbody tr th {\n",
              "        vertical-align: top;\n",
              "    }\n",
              "\n",
              "    .dataframe thead th {\n",
              "        text-align: right;\n",
              "    }\n",
              "</style>\n",
              "<table border=\"1\" class=\"dataframe\">\n",
              "  <thead>\n",
              "    <tr style=\"text-align: right;\">\n",
              "      <th></th>\n",
              "      <th>count</th>\n",
              "      <th>race_pop</th>\n",
              "      <th>death_by_race</th>\n",
              "      <th>ratio_to_white</th>\n",
              "    </tr>\n",
              "    <tr>\n",
              "      <th>race</th>\n",
              "      <th></th>\n",
              "      <th></th>\n",
              "      <th></th>\n",
              "      <th></th>\n",
              "    </tr>\n",
              "  </thead>\n",
              "  <tbody>\n",
              "    <tr>\n",
              "      <th>Asian</th>\n",
              "      <td>33</td>\n",
              "      <td>26179100.0</td>\n",
              "      <td>0.000001</td>\n",
              "      <td>0.64</td>\n",
              "    </tr>\n",
              "    <tr>\n",
              "      <th>Black</th>\n",
              "      <td>540</td>\n",
              "      <td>105278200.0</td>\n",
              "      <td>0.000005</td>\n",
              "      <td>2.61</td>\n",
              "    </tr>\n",
              "    <tr>\n",
              "      <th>Hispanic</th>\n",
              "      <td>367</td>\n",
              "      <td>137412300.0</td>\n",
              "      <td>0.000003</td>\n",
              "      <td>1.36</td>\n",
              "    </tr>\n",
              "    <tr>\n",
              "      <th>Native American</th>\n",
              "      <td>28</td>\n",
              "      <td>1718000.0</td>\n",
              "      <td>0.000016</td>\n",
              "      <td>8.29</td>\n",
              "    </tr>\n",
              "    <tr>\n",
              "      <th>White</th>\n",
              "      <td>1041</td>\n",
              "      <td>529251600.0</td>\n",
              "      <td>0.000002</td>\n",
              "      <td>1.00</td>\n",
              "    </tr>\n",
              "  </tbody>\n",
              "</table>\n",
              "</div>"
            ],
            "text/plain": [
              "                 count     race_pop  death_by_race  ratio_to_white\n",
              "race                                                              \n",
              "Asian               33   26179100.0       0.000001            0.64\n",
              "Black              540  105278200.0       0.000005            2.61\n",
              "Hispanic           367  137412300.0       0.000003            1.36\n",
              "Native American     28    1718000.0       0.000016            8.29\n",
              "White             1041  529251600.0       0.000002            1.00"
            ]
          },
          "metadata": {
            "tags": []
          },
          "execution_count": 53
        }
      ]
    },
    {
      "cell_type": "markdown",
      "metadata": {
        "id": "vFI_0nTbhES3"
      },
      "source": [
        "Native americans are 8 times more likely to be subject to fatal police shootings than a white person. Blacks are 2.6 times more likely and Hispanics are 1.36 times more likely. Asians are 0.64 times less likely to be subject to police brutality than whites."
      ]
    },
    {
      "cell_type": "markdown",
      "metadata": {
        "id": "xWDiRTm4zs1r"
      },
      "source": [
        "**Relationship between gun control grades by state and number of victims in possession of guns**"
      ]
    },
    {
      "cell_type": "code",
      "metadata": {
        "id": "VoFeLf4qtFqS"
      },
      "source": [
        "joined_gun_data = pd.merge(data, gun_control,left_on= ['year', 'state_full'], right_on=['year', 'state'])\n",
        "joined_gun_data.drop(columns=['state_y'], axis = 1, inplace = True)"
      ],
      "execution_count": 54,
      "outputs": []
    },
    {
      "cell_type": "code",
      "metadata": {
        "id": "MeXR0nSRtbdX"
      },
      "source": [
        "joined_gun_data = joined_gun_data[joined_gun_data['armed']== 'gun']\n",
        "joined_gun_data = joined_gun_data.groupby(['year','state_full', 'grade'])['id'].count().reset_index()\n",
        "joined_gun_data.rename(columns={'id':'count', 'state_full':'state'},inplace=True )"
      ],
      "execution_count": 55,
      "outputs": []
    },
    {
      "cell_type": "code",
      "metadata": {
        "id": "ua7i7vYWxm0K"
      },
      "source": [
        "hue_order = ['A', 'B', 'C', 'D', 'E','F']\n",
        "xlabels = joined_gun_data['state'].unique()"
      ],
      "execution_count": 56,
      "outputs": []
    },
    {
      "cell_type": "code",
      "metadata": {
        "colab": {
          "base_uri": "https://localhost:8080/",
          "height": 439
        },
        "id": "HkMkxTm9wsOQ",
        "outputId": "de0f1020-e322-49b6-ee9e-044c820ae34a"
      },
      "source": [
        "fig, axes = plt.subplots(1, 3, figsize=(30, 5))\n",
        "sns.scatterplot(ax=axes[0], data = joined_gun_data[joined_gun_data['year']== 2015], x= 'state', y= 'count', hue= 'grade', hue_order= hue_order )\n",
        "axes[0].set_xticklabels( xlabels, rotation= 90 )\n",
        "axes[0].set_title( '2015' )\n",
        "\n",
        "sns.scatterplot(ax=axes[1], data = joined_gun_data[joined_gun_data['year']== 2016], x= 'state', y= 'count', hue= 'grade', hue_order= hue_order )\n",
        "axes[1].set_xticklabels( xlabels, rotation= 90 )\n",
        "axes[1].set_title( '2016' )\n",
        "\n",
        "\n",
        "sns.scatterplot(ax=axes[2], data = joined_gun_data[joined_gun_data['year']== 2017], x= 'state', y= 'count', hue= 'grade', hue_order= hue_order )\n",
        "axes[2].set_xticklabels( xlabels, rotation= 90 )\n",
        "axes[2].set_title( '2017' );\n",
        "fig.subplots_adjust(top=.8)\n",
        "plt.suptitle(\"Relationship between gun control grades by state and number of victims in possession of guns\");"
      ],
      "execution_count": 57,
      "outputs": [
        {
          "output_type": "display_data",
          "data": {
            "image/png": "[encoded data removed]",
            "text/plain": [
              "<Figure size 2160x360 with 3 Axes>"
            ]
          },
          "metadata": {
            "tags": [],
            "needs_background": "light"
          }
        }
      ]
    },
    {
      "cell_type": "markdown",
      "metadata": {
        "id": "Lve2LeUm0Hyo"
      },
      "source": [
        "There appears to be no relationship between number of gun control grades by state and number of victims in possession of guns.\n"
      ]
    },
    {
      "cell_type": "markdown",
      "metadata": {
        "id": "l1FYLVy7wFlz"
      },
      "source": [
        "# Hypothesis Testing"
      ]
    },
    {
      "cell_type": "markdown",
      "metadata": {
        "id": "Ypyd3aDJwSJO"
      },
      "source": [
        "In 2015, certain measures where implemented by President Barack Obama to reduce police brutality rate in the US. Read more about it here - https://en.wikipedia.org/wiki/President%27s_Task_Force_on_21st_Century_Policing.\n",
        "\n",
        "The hypothesis testing is done to check if the reduction in the number of deaths due to police shooting is statistically significant.\n",
        "\n",
        "*  Null hypothesis, Ho: There is no significant difference between the number of deaths due to police shooting in 2015 to that of 2016.\n",
        "*  Alternate hypothesis, Ha: There is a significant difference between the number of deaths due to police shooting in 2015 and 2016.\n",
        "\n",
        "A two-sample proportions z-test will be used with a signifance of 95%."
      ]
    },
    {
      "cell_type": "code",
      "metadata": {
        "id": "YBQSjiF4y9cu"
      },
      "source": [
        "year_agg = joined_data.groupby('year').agg({'count':'sum', 'race_pop':'sum'})\n"
      ],
      "execution_count": 58,
      "outputs": []
    },
    {
      "cell_type": "code",
      "metadata": {
        "colab": {
          "base_uri": "https://localhost:8080/",
          "height": 142
        },
        "id": "qOC0i5kRzakH",
        "outputId": "e144d31f-f731-4fbf-8180-eacc2fcd582e"
      },
      "source": [
        "year_agg.drop(index=2017, axis = 0, inplace=True)\n",
        "year_agg"
      ],
      "execution_count": 59,
      "outputs": [
        {
          "output_type": "execute_result",
          "data": {
            "text/html": [
              "<div>\n",
              "<style scoped>\n",
              "    .dataframe tbody tr th:only-of-type {\n",
              "        vertical-align: middle;\n",
              "    }\n",
              "\n",
              "    .dataframe tbody tr th {\n",
              "        vertical-align: top;\n",
              "    }\n",
              "\n",
              "    .dataframe thead th {\n",
              "        text-align: right;\n",
              "    }\n",
              "</style>\n",
              "<table border=\"1\" class=\"dataframe\">\n",
              "  <thead>\n",
              "    <tr style=\"text-align: right;\">\n",
              "      <th></th>\n",
              "      <th>count</th>\n",
              "      <th>race_pop</th>\n",
              "    </tr>\n",
              "    <tr>\n",
              "      <th>year</th>\n",
              "      <th></th>\n",
              "      <th></th>\n",
              "    </tr>\n",
              "  </thead>\n",
              "  <tbody>\n",
              "    <tr>\n",
              "      <th>2015</th>\n",
              "      <td>991</td>\n",
              "      <td>281596900.0</td>\n",
              "    </tr>\n",
              "    <tr>\n",
              "      <th>2016</th>\n",
              "      <td>962</td>\n",
              "      <td>287624300.0</td>\n",
              "    </tr>\n",
              "  </tbody>\n",
              "</table>\n",
              "</div>"
            ],
            "text/plain": [
              "      count     race_pop\n",
              "year                    \n",
              "2015    991  281596900.0\n",
              "2016    962  287624300.0"
            ]
          },
          "metadata": {
            "tags": []
          },
          "execution_count": 59
        }
      ]
    },
    {
      "cell_type": "code",
      "metadata": {
        "id": "c-xwsUZdsbFa"
      },
      "source": [
        "def sig_test(significance, p_value):\n",
        "  if p_value > significance:\n",
        "   print (\"Fail to reject the null hypothesis!\")\n",
        "  else:\n",
        "   print (\"Reject the null hypothesis - this suggests the alternative hypothesis is true\")"
      ],
      "execution_count": 60,
      "outputs": []
    },
    {
      "cell_type": "code",
      "metadata": {
        "colab": {
          "base_uri": "https://localhost:8080/"
        },
        "id": "9hEKOIpxzp_0",
        "outputId": "200c8c1c-763a-4e69-95ee-47b5867b13d5"
      },
      "source": [
        "z_test,z_test_pval = proportions_ztest(year_agg['count'], year_agg['race_pop'])\n",
        "print(f'z_val is {z_test}', f'p_val is {z_test_pval}')"
      ],
      "execution_count": 61,
      "outputs": [
        {
          "output_type": "stream",
          "text": [
            "z_val is 1.1242317141726141 p_val is 0.26091473862615966\n"
          ],
          "name": "stdout"
        }
      ]
    },
    {
      "cell_type": "code",
      "metadata": {
        "colab": {
          "base_uri": "https://localhost:8080/"
        },
        "id": "q1chXdQ_zyZn",
        "outputId": "3bc9a8e7-f0ce-4c3e-ec99-a8abd5d67d69"
      },
      "source": [
        "sig_test(0.05, z_test_pval)"
      ],
      "execution_count": 62,
      "outputs": [
        {
          "output_type": "stream",
          "text": [
            "Fail to reject the null hypothesis!\n"
          ],
          "name": "stdout"
        }
      ]
    },
    {
      "cell_type": "markdown",
      "metadata": {
        "id": "p7hsrrsx0MQZ"
      },
      "source": [
        "The stest shows that the change is not statistic all significant."
      ]
    },
    {
      "cell_type": "markdown",
      "metadata": {
        "id": "FQTXPfUL0UsD"
      },
      "source": [
        "# Dimensionality Reduction"
      ]
    },
    {
      "cell_type": "markdown",
      "metadata": {
        "id": "0rddHjef0fty"
      },
      "source": [
        "##Data preparation for reduction and regression"
      ]
    },
    {
      "cell_type": "code",
      "metadata": {
        "id": "tMeV4-E70pl2"
      },
      "source": [
        "reg_data = pd.merge(data, joined_data, left_on= ['year', 'state_full', 'race_full'], right_on=['year', 'state', 'race'])"
      ],
      "execution_count": 63,
      "outputs": []
    },
    {
      "cell_type": "code",
      "metadata": {
        "id": "c0H_gN4N0t0u"
      },
      "source": [
        "reg_data.dropna(inplace = True)\n",
        "reg_data.drop(columns=['race_x', 'state_x', 'armed', 'month', 'year', 'date', 'state_full', 'race_full', 'count', 'race_pop', 'deaths_by_race_per_hundred_thousand', 'name', 'deaths_by_race_pop', 'Total', 'id'], axis= 1, inplace=True)\n",
        "reg_data.rename(columns= {'state_y': 'state', 'race_y':'race'}, inplace=True)"
      ],
      "execution_count": 64,
      "outputs": []
    },
    {
      "cell_type": "markdown",
      "metadata": {
        "id": "v_gTN6dq2BYP"
      },
      "source": [
        "##Data encoding"
      ]
    },
    {
      "cell_type": "markdown",
      "metadata": {
        "id": "F8BfmTxx1qg1"
      },
      "source": [
        "Using label encoder for the y-axis for modelling (logistic regression)"
      ]
    },
    {
      "cell_type": "code",
      "metadata": {
        "id": "N2rVks7_1VhM"
      },
      "source": [
        "label_encoder = preprocessing.LabelEncoder()\n",
        "label_encoder.fit(reg_data['race'])\n",
        "reg_data['race_encoded'] = label_encoder.transform(reg_data['race'])"
      ],
      "execution_count": 65,
      "outputs": []
    },
    {
      "cell_type": "code",
      "metadata": {
        "id": "xvrnVwZl18NK"
      },
      "source": [
        "x = reg_data.drop(columns=['race', 'race_encoded'], axis= 1)\n",
        "y = reg_data['race_encoded']"
      ],
      "execution_count": 66,
      "outputs": []
    },
    {
      "cell_type": "markdown",
      "metadata": {
        "id": "Qt8tdYCF2Fq-"
      },
      "source": [
        "Using get_dummies to encode categorical data"
      ]
    },
    {
      "cell_type": "code",
      "metadata": {
        "id": "EGsLnX4f2IP5"
      },
      "source": [
        "categorical = x.select_dtypes(exclude='float')\n",
        "x_categorical = pd.get_dummies(categorical)"
      ],
      "execution_count": 67,
      "outputs": []
    },
    {
      "cell_type": "code",
      "metadata": {
        "id": "-rlsjGFy23jD"
      },
      "source": [
        "x_numerical = x.select_dtypes(include='float')\n",
        "x = pd.concat([x_categorical, x_numerical], axis= 1)"
      ],
      "execution_count": 68,
      "outputs": []
    },
    {
      "cell_type": "markdown",
      "metadata": {
        "id": "BkTU40iC3AK0"
      },
      "source": [
        "Splitting the data into test and train datasets"
      ]
    },
    {
      "cell_type": "code",
      "metadata": {
        "id": "uqlb14zv3D7H"
      },
      "source": [
        "x_train, x_test, y_train, y_test = train_test_split(x, y, test_size = 0.2, random_state = 2, stratify=y)"
      ],
      "execution_count": 69,
      "outputs": []
    },
    {
      "cell_type": "code",
      "metadata": {
        "id": "Hl0Z2P_l3IkC"
      },
      "source": [
        "x_train_numerical = x_train.select_dtypes(include='float')\n",
        "x_test_numerical = x_test.select_dtypes(include='float')"
      ],
      "execution_count": 70,
      "outputs": []
    },
    {
      "cell_type": "markdown",
      "metadata": {
        "id": "A1HPVy0k3MVN"
      },
      "source": [
        "Using power transformer to normalize the numerical fields."
      ]
    },
    {
      "cell_type": "code",
      "metadata": {
        "id": "-a_Df0Ra3ewA",
        "outputId": "7cdfb19b-7c84-480b-d013-ce492cc1d0dc",
        "colab": {
          "base_uri": "https://localhost:8080/"
        }
      },
      "source": [
        "for c in x_numerical.columns:\n",
        "    pt = PowerTransformer()\n",
        "    x_numerical.loc[:, c] = pt.fit_transform(np.array(x_numerical[c]).reshape(-1, 1))\n",
        "    x_train_numerical.loc[:, c] = pt.fit_transform(np.array(x_train_numerical[c]).reshape(-1, 1))\n",
        "    x_test_numerical.loc[:, c] = pt.fit_transform(np.array(x_test_numerical[c]).reshape(-1, 1))"
      ],
      "execution_count": 71,
      "outputs": [
        {
          "output_type": "stream",
          "text": [
            "/usr/local/lib/python3.7/dist-packages/pandas/core/indexing.py:1781: SettingWithCopyWarning: \n",
            "A value is trying to be set on a copy of a slice from a DataFrame.\n",
            "Try using .loc[row_indexer,col_indexer] = value instead\n",
            "\n",
            "See the caveats in the documentation: https://pandas.pydata.org/pandas-docs/stable/user_guide/indexing.html#returning-a-view-versus-a-copy\n",
            "  self.obj[item_labels[indexer[info_axis]]] = value\n",
            "/usr/local/lib/python3.7/dist-packages/pandas/core/indexing.py:1781: SettingWithCopyWarning: \n",
            "A value is trying to be set on a copy of a slice from a DataFrame.\n",
            "Try using .loc[row_indexer,col_indexer] = value instead\n",
            "\n",
            "See the caveats in the documentation: https://pandas.pydata.org/pandas-docs/stable/user_guide/indexing.html#returning-a-view-versus-a-copy\n",
            "  self.obj[item_labels[indexer[info_axis]]] = value\n",
            "/usr/local/lib/python3.7/dist-packages/pandas/core/indexing.py:1781: SettingWithCopyWarning: \n",
            "A value is trying to be set on a copy of a slice from a DataFrame.\n",
            "Try using .loc[row_indexer,col_indexer] = value instead\n",
            "\n",
            "See the caveats in the documentation: https://pandas.pydata.org/pandas-docs/stable/user_guide/indexing.html#returning-a-view-versus-a-copy\n",
            "  self.obj[item_labels[indexer[info_axis]]] = value\n",
            "/usr/local/lib/python3.7/dist-packages/pandas/core/indexing.py:1781: SettingWithCopyWarning: \n",
            "A value is trying to be set on a copy of a slice from a DataFrame.\n",
            "Try using .loc[row_indexer,col_indexer] = value instead\n",
            "\n",
            "See the caveats in the documentation: https://pandas.pydata.org/pandas-docs/stable/user_guide/indexing.html#returning-a-view-versus-a-copy\n",
            "  self.obj[item_labels[indexer[info_axis]]] = value\n"
          ],
          "name": "stderr"
        }
      ]
    },
    {
      "cell_type": "code",
      "metadata": {
        "id": "ceUVJ6bB3hYh"
      },
      "source": [
        "x_train_categorical = x_train.select_dtypes(exclude='float')\n",
        "x_test_categorical = x_test.select_dtypes(exclude='float')"
      ],
      "execution_count": 72,
      "outputs": []
    },
    {
      "cell_type": "code",
      "metadata": {
        "id": "uhij1nHH3kL1"
      },
      "source": [
        "x_train = pd.concat([x_train_categorical, x_train_numerical], axis= 1)\n",
        "x_test = pd.concat([x_test_categorical, x_test_numerical], axis= 1)\n",
        "x_data = pd.concat([x_categorical, x_numerical], axis= 1)"
      ],
      "execution_count": 73,
      "outputs": []
    },
    {
      "cell_type": "markdown",
      "metadata": {
        "id": "8o8gkH9_3mnp"
      },
      "source": [
        "##PCA"
      ]
    },
    {
      "cell_type": "code",
      "metadata": {
        "id": "GQsfkWur3qET"
      },
      "source": [
        "pca = PCA()\n",
        "pc = pca.fit_transform(x_data)"
      ],
      "execution_count": 74,
      "outputs": []
    },
    {
      "cell_type": "code",
      "metadata": {
        "id": "ij4maZb83uLB"
      },
      "source": [
        "pvr = pca.explained_variance_ratio_.cumsum()"
      ],
      "execution_count": 75,
      "outputs": []
    },
    {
      "cell_type": "code",
      "metadata": {
        "colab": {
          "base_uri": "https://localhost:8080/"
        },
        "id": "6Ad53gZ93v_s",
        "outputId": "c4d6f5d3-7bfe-4671-9e24-0d9980dc9979"
      },
      "source": [
        "len(pvr)"
      ],
      "execution_count": 76,
      "outputs": [
        {
          "output_type": "execute_result",
          "data": {
            "text/plain": [
              "1234"
            ]
          },
          "metadata": {
            "tags": []
          },
          "execution_count": 76
        }
      ]
    },
    {
      "cell_type": "markdown",
      "metadata": {
        "id": "zfdg24T63ybs"
      },
      "source": [
        "There are 1,293 pca components.To choose the optimal number of components to use, I will select the number of components at which the cumulative sum of the explained variance is 0.90."
      ]
    },
    {
      "cell_type": "code",
      "metadata": {
        "colab": {
          "base_uri": "https://localhost:8080/",
          "height": 513
        },
        "id": "zPE20Mh-4P40",
        "outputId": "1d723c23-d9d9-4375-91ac-ee432fed865b"
      },
      "source": [
        "num_components=len(pca.explained_variance_ratio_)\n",
        "ind= np.arange(len(pca.explained_variance_ratio_))\n",
        "vals=pca.explained_variance_ratio_\n",
        "cumvals= pca.explained_variance_ratio_.cumsum()\n",
        "\n",
        "plt.figure(figsize=(12,8))\n",
        "ax = plt.subplot(111)\n",
        "\n",
        "ax.plot( ind , cumvals);\n",
        "\n",
        "\n",
        "plt.xlabel('number of components')\n",
        "plt.ylabel('cumulative explained variance')\n",
        "plt.title('Explained Variance Per Principal Component');"
      ],
      "execution_count": 77,
      "outputs": [
        {
          "output_type": "display_data",
          "data": {
            "image/png": "[encoded data removed]",
            "text/plain": [
              "<Figure size 864x576 with 1 Axes>"
            ]
          },
          "metadata": {
            "tags": [],
            "needs_background": "light"
          }
        }
      ]
    },
    {
      "cell_type": "markdown",
      "metadata": {
        "id": "awD5DVpc4ajY"
      },
      "source": [
        "200 components will be used for the modelling."
      ]
    },
    {
      "cell_type": "markdown",
      "metadata": {
        "id": "_uxe_Lng4pTn"
      },
      "source": [
        "Plotting the first 2 PCA components by race."
      ]
    },
    {
      "cell_type": "code",
      "metadata": {
        "colab": {
          "base_uri": "https://localhost:8080/",
          "height": 295
        },
        "id": "kFe1V6194xP-",
        "outputId": "4d6845fb-fc65-4459-8077-1d6fa3c86193"
      },
      "source": [
        "reg_data['PC1']= pc[:, 0]\n",
        "reg_data['PC2'] = pc[:, 1]\n",
        "\n",
        "plt.figure(figsize= (8,4));\n",
        "sns.scatterplot(x= 'PC1', y= 'PC2', hue= 'race', data= reg_data);\n",
        "plt.legend(bbox_to_anchor=(1.05, 1), loc=2, borderaxespad=0.);\n",
        "plt.title('PCA by race');"
      ],
      "execution_count": 78,
      "outputs": [
        {
          "output_type": "display_data",
          "data": {
            "image/png": "[encoded data removed]",
            "text/plain": [
              "<Figure size 576x288 with 1 Axes>"
            ]
          },
          "metadata": {
            "tags": [],
            "needs_background": "light"
          }
        }
      ]
    },
    {
      "cell_type": "markdown",
      "metadata": {
        "id": "YmakEPA-41lj"
      },
      "source": [
        "##T-SNE"
      ]
    },
    {
      "cell_type": "code",
      "metadata": {
        "id": "yefo2_5x44Vl"
      },
      "source": [
        "tsne = TSNE(learning_rate = 50)\n",
        "tsne_features = tsne.fit_transform(x_data)"
      ],
      "execution_count": 79,
      "outputs": []
    },
    {
      "cell_type": "code",
      "metadata": {
        "id": "NVf3WZ3M5KhQ"
      },
      "source": [
        "reg_data['tsne_x'] = tsne_features[:,0]\n",
        "reg_data['tsne_y'] = tsne_features[:,1]"
      ],
      "execution_count": 80,
      "outputs": []
    },
    {
      "cell_type": "code",
      "metadata": {
        "colab": {
          "base_uri": "https://localhost:8080/",
          "height": 296
        },
        "id": "9090AsqP5MTJ",
        "outputId": "f36ace24-0b8d-4425-981e-690c5f4feb77"
      },
      "source": [
        "sns.scatterplot(x = \"tsne_x\", y = \"tsne_y\", hue = \"race\", data =reg_data);\n",
        "plt.legend(bbox_to_anchor=(1.05, 1), loc=2, borderaxespad=0.);\n",
        "plt.title('TSNE by race');"
      ],
      "execution_count": 81,
      "outputs": [
        {
          "output_type": "display_data",
          "data": {
            "image/png": "[encoded data removed]",
            "text/plain": [
              "<Figure size 432x288 with 1 Axes>"
            ]
          },
          "metadata": {
            "tags": [],
            "needs_background": "light"
          }
        }
      ]
    },
    {
      "cell_type": "markdown",
      "metadata": {
        "id": "VZ61-tWt5d-j"
      },
      "source": [
        "#Modelling - Logistic Regression"
      ]
    },
    {
      "cell_type": "code",
      "metadata": {
        "id": "Y-p0jWip6pUN"
      },
      "source": [
        "pca = PCA(n_components= 200)"
      ],
      "execution_count": 82,
      "outputs": []
    },
    {
      "cell_type": "code",
      "metadata": {
        "id": "tAb0_dsu6qyM"
      },
      "source": [
        "pca_x_train = pca.fit(x_train)\n",
        "pca_x_train = pca.transform(x_train)\n",
        "pca_x_test = pca.transform(x_test)"
      ],
      "execution_count": 83,
      "outputs": []
    },
    {
      "cell_type": "code",
      "metadata": {
        "id": "_84AimRd64yr"
      },
      "source": [
        "logisticRegr = LogisticRegression()"
      ],
      "execution_count": 84,
      "outputs": []
    },
    {
      "cell_type": "code",
      "metadata": {
        "colab": {
          "base_uri": "https://localhost:8080/"
        },
        "id": "_RsAMtLh66Tr",
        "outputId": "f733ce59-3df1-45ba-f3fc-66d86956d363"
      },
      "source": [
        "logisticRegr.fit(pca_x_train, y_train)"
      ],
      "execution_count": 85,
      "outputs": [
        {
          "output_type": "execute_result",
          "data": {
            "text/plain": [
              "LogisticRegression(C=1.0, class_weight=None, dual=False, fit_intercept=True,\n",
              "                   intercept_scaling=1, l1_ratio=None, max_iter=100,\n",
              "                   multi_class='auto', n_jobs=None, penalty='l2',\n",
              "                   random_state=None, solver='lbfgs', tol=0.0001, verbose=0,\n",
              "                   warm_start=False)"
            ]
          },
          "metadata": {
            "tags": []
          },
          "execution_count": 85
        }
      ]
    },
    {
      "cell_type": "code",
      "metadata": {
        "id": "0_EtfPfm68ko"
      },
      "source": [
        "y_predict = logisticRegr.predict(pca_x_test)"
      ],
      "execution_count": 86,
      "outputs": []
    },
    {
      "cell_type": "code",
      "metadata": {
        "colab": {
          "base_uri": "https://localhost:8080/"
        },
        "id": "RhtccQzI6-qA",
        "outputId": "f1602af0-5900-4959-cabc-66b3ca5e03b1"
      },
      "source": [
        "accuracy = accuracy_score(y_test, y_predict)\n",
        "accuracy"
      ],
      "execution_count": 87,
      "outputs": [
        {
          "output_type": "execute_result",
          "data": {
            "text/plain": [
              "0.8618090452261307"
            ]
          },
          "metadata": {
            "tags": []
          },
          "execution_count": 87
        }
      ]
    },
    {
      "cell_type": "markdown",
      "metadata": {
        "id": "XtrpqqeG7Bvp"
      },
      "source": [
        "The accuracy of the logistic model is 0.86"
      ]
    },
    {
      "cell_type": "markdown",
      "metadata": {
        "id": "_39ZpM3v7HCv"
      },
      "source": [
        "**Visualizing the confusion matrix of the logistic regression**"
      ]
    },
    {
      "cell_type": "markdown",
      "metadata": {
        "id": "3Z1-Ymfk7Q-R"
      },
      "source": [
        "Reversing the y-axis encoding "
      ]
    },
    {
      "cell_type": "code",
      "metadata": {
        "id": "_yk9xZm67BEI"
      },
      "source": [
        "reversed_pca = list(label_encoder.inverse_transform(y_predict))\n",
        "reversed_test = list(label_encoder.inverse_transform(y_test))"
      ],
      "execution_count": 88,
      "outputs": []
    },
    {
      "cell_type": "code",
      "metadata": {
        "id": "wreBHEWT7WUB"
      },
      "source": [
        "unique_label = np.unique([reversed_test, reversed_pca])\n",
        "confusion_mtrx = pd.DataFrame(\n",
        "    confusion_matrix(reversed_test, reversed_pca, labels=unique_label), \n",
        "    index=['true:{:}'.format(x) for x in unique_label], \n",
        "    columns=['pred:{:}'.format(x) for x in unique_label]\n",
        ")"
      ],
      "execution_count": 89,
      "outputs": []
    },
    {
      "cell_type": "code",
      "metadata": {
        "colab": {
          "base_uri": "https://localhost:8080/",
          "height": 569
        },
        "id": "Lz0Kmob87aCd",
        "outputId": "a9e37e62-3a81-4b9d-e64a-3ecb2592b4ff"
      },
      "source": [
        "plt.figure(figsize=(12,9))\n",
        "sns.heatmap(confusion_mtrx , annot=True, fmt=\".3f\", linewidths=.5, cmap = 'BrBG');\n",
        "plt.ylabel('Actual label');\n",
        "plt.xlabel('Predicted label');\n",
        "all_sample_title = 'Accuracy Score: {0}'.format(accuracy)\n",
        "plt.title(all_sample_title, size = 15);"
      ],
      "execution_count": 90,
      "outputs": [
        {
          "output_type": "display_data",
          "data": {
            "image/png": "[encoded data removed]",
            "text/plain": [
              "<Figure size 864x648 with 2 Axes>"
            ]
          },
          "metadata": {
            "tags": [],
            "needs_background": "light"
          }
        }
      ]
    },
    {
      "cell_type": "markdown",
      "metadata": {
        "id": "VFVpHng38FTZ"
      },
      "source": [
        "The model was ale to adequately predict the race of police shooting cases with an accuracy of 86%. It predominantly predicted cases for white and blacks correctly."
      ]
    },
    {
      "cell_type": "markdown",
      "metadata": {
        "id": "5KC9RAvW8ilL"
      },
      "source": [
        "#Modelling- Clustering"
      ]
    },
    {
      "cell_type": "code",
      "metadata": {
        "id": "sX00HW5iN_Jz"
      },
      "source": [
        "pc_data = pc[:, :200]"
      ],
      "execution_count": 91,
      "outputs": []
    },
    {
      "cell_type": "markdown",
      "metadata": {
        "id": "DFmpFebs_IEk"
      },
      "source": [
        "**Elbow method to determine the optimal number of clusters**"
      ]
    },
    {
      "cell_type": "code",
      "metadata": {
        "id": "yeuNkdhG_F48"
      },
      "source": [
        "n_clusters = range(1, 10) #number of clusters to test\n",
        "sum_squared_distances = []\n",
        "for i in n_clusters:\n",
        "  k_means = KMeans(n_clusters = i)\n",
        "  k_means = k_means.fit(pc_data)\n",
        "  sum_squared_distances.append(k_means.inertia_)"
      ],
      "execution_count": 92,
      "outputs": []
    },
    {
      "cell_type": "code",
      "metadata": {
        "colab": {
          "base_uri": "https://localhost:8080/",
          "height": 296
        },
        "id": "aI1bjhWR_VYg",
        "outputId": "7b657a55-1845-4e41-b01e-323532f4d7a5"
      },
      "source": [
        "plt.plot(n_clusters, sum_squared_distances, 'bx-')\n",
        "plt.xlabel('n_clusters')\n",
        "plt.ylabel('Sum_of_squared_distances')\n",
        "plt.title('Elbow Method For Optimal k_means')\n",
        "plt.show()"
      ],
      "execution_count": 93,
      "outputs": [
        {
          "output_type": "display_data",
          "data": {
            "image/png": "[encoded data removed]",
            "text/plain": [
              "<Figure size 432x288 with 1 Axes>"
            ]
          },
          "metadata": {
            "tags": [],
            "needs_background": "light"
          }
        }
      ]
    },
    {
      "cell_type": "markdown",
      "metadata": {
        "id": "24tG2c6v_ZVV"
      },
      "source": [
        "From the elbow plot, the optimal number of clusters to use is 4."
      ]
    },
    {
      "cell_type": "markdown",
      "metadata": {
        "id": "k_Vbhqer_zwd"
      },
      "source": [
        "**Visualizing the clusters**"
      ]
    },
    {
      "cell_type": "code",
      "metadata": {
        "id": "lCgsBxX5Nh43"
      },
      "source": [
        "kmeans = KMeans(n_clusters= 4)"
      ],
      "execution_count": 94,
      "outputs": []
    },
    {
      "cell_type": "code",
      "metadata": {
        "id": "eTBMKmjLNsBM"
      },
      "source": [
        "label = kmeans.fit_predict(pc_data)"
      ],
      "execution_count": 95,
      "outputs": []
    },
    {
      "cell_type": "code",
      "metadata": {
        "id": "O5Jc2tFxQxb-"
      },
      "source": [
        "centroids = kmeans.cluster_centers_"
      ],
      "execution_count": 96,
      "outputs": []
    },
    {
      "cell_type": "markdown",
      "metadata": {
        "id": "PnqJf7yaX8yR"
      },
      "source": [
        "**Visualizing the clusters**"
      ]
    },
    {
      "cell_type": "code",
      "metadata": {
        "colab": {
          "base_uri": "https://localhost:8080/",
          "height": 267
        },
        "id": "TTZmwfypQhTw",
        "outputId": "a2ad1357-0e7d-41f5-a6ea-34226f59a397"
      },
      "source": [
        "#Getting unique labels\n",
        "u_labels = np.unique(label)\n",
        "\n",
        "#plotting the results:\n",
        "for i in u_labels:\n",
        "    plt.scatter(pc_data[label == i , 0] , pc_data[label == i , 1] , label = i)\n",
        "plt.scatter(centroids[:,0] , centroids[:,1] , s = 80, color = 'k')\n",
        "plt.legend()\n",
        "plt.show()"
      ],
      "execution_count": 97,
      "outputs": [
        {
          "output_type": "display_data",
          "data": {
            "image/png": "[encoded data removed]",
            "text/plain": [
              "<Figure size 432x288 with 1 Axes>"
            ]
          },
          "metadata": {
            "tags": [],
            "needs_background": "light"
          }
        }
      ]
    },
    {
      "cell_type": "code",
      "metadata": {
        "id": "17NWh2zYSe70"
      },
      "source": [
        "reg_data['clustered'] = label"
      ],
      "execution_count": 98,
      "outputs": []
    },
    {
      "cell_type": "code",
      "metadata": {
        "id": "87gecYAvWrLV"
      },
      "source": [
        "cluster0 = reg_data[reg_data['clustered'] == 0]\n",
        "cluster1 = reg_data[reg_data['clustered'] == 1]\n",
        "cluster2 = reg_data[reg_data['clustered'] == 2]\n",
        "cluster3 = reg_data[reg_data['clustered'] == 3]"
      ],
      "execution_count": 99,
      "outputs": []
    },
    {
      "cell_type": "code",
      "metadata": {
        "colab": {
          "base_uri": "https://localhost:8080/",
          "height": 292
        },
        "id": "tHbEO0tlXp4M",
        "outputId": "b39f9a22-793a-4ee1-ab57-1640d3c6a1c5"
      },
      "source": [
        "cluster0.head()"
      ],
      "execution_count": 100,
      "outputs": [
        {
          "output_type": "execute_result",
          "data": {
            "text/html": [
              "<div>\n",
              "<style scoped>\n",
              "    .dataframe tbody tr th:only-of-type {\n",
              "        vertical-align: middle;\n",
              "    }\n",
              "\n",
              "    .dataframe tbody tr th {\n",
              "        vertical-align: top;\n",
              "    }\n",
              "\n",
              "    .dataframe thead th {\n",
              "        text-align: right;\n",
              "    }\n",
              "</style>\n",
              "<table border=\"1\" class=\"dataframe\">\n",
              "  <thead>\n",
              "    <tr style=\"text-align: right;\">\n",
              "      <th></th>\n",
              "      <th>manner_of_death</th>\n",
              "      <th>age</th>\n",
              "      <th>gender</th>\n",
              "      <th>city</th>\n",
              "      <th>signs_of_mental_illness</th>\n",
              "      <th>threat_level</th>\n",
              "      <th>flee</th>\n",
              "      <th>body_camera</th>\n",
              "      <th>armed_class</th>\n",
              "      <th>state</th>\n",
              "      <th>race</th>\n",
              "      <th>race_per_pop</th>\n",
              "      <th>race_encoded</th>\n",
              "      <th>PC1</th>\n",
              "      <th>PC2</th>\n",
              "      <th>tsne_x</th>\n",
              "      <th>tsne_y</th>\n",
              "      <th>clustered</th>\n",
              "    </tr>\n",
              "  </thead>\n",
              "  <tbody>\n",
              "    <tr>\n",
              "      <th>0</th>\n",
              "      <td>shot</td>\n",
              "      <td>53.0</td>\n",
              "      <td>M</td>\n",
              "      <td>Shelton</td>\n",
              "      <td>True</td>\n",
              "      <td>attack</td>\n",
              "      <td>Not fleeing</td>\n",
              "      <td>False</td>\n",
              "      <td>armed</td>\n",
              "      <td>Washington</td>\n",
              "      <td>Asian</td>\n",
              "      <td>0.079197</td>\n",
              "      <td>0</td>\n",
              "      <td>0.035427</td>\n",
              "      <td>-1.933135</td>\n",
              "      <td>-1.918691</td>\n",
              "      <td>39.668274</td>\n",
              "      <td>0</td>\n",
              "    </tr>\n",
              "    <tr>\n",
              "      <th>16</th>\n",
              "      <td>shot</td>\n",
              "      <td>32.0</td>\n",
              "      <td>M</td>\n",
              "      <td>San Francisco</td>\n",
              "      <td>True</td>\n",
              "      <td>attack</td>\n",
              "      <td>Not fleeing</td>\n",
              "      <td>False</td>\n",
              "      <td>armed</td>\n",
              "      <td>California</td>\n",
              "      <td>White</td>\n",
              "      <td>0.378436</td>\n",
              "      <td>4</td>\n",
              "      <td>-0.187793</td>\n",
              "      <td>-0.079823</td>\n",
              "      <td>-1.930946</td>\n",
              "      <td>5.736576</td>\n",
              "      <td>0</td>\n",
              "    </tr>\n",
              "    <tr>\n",
              "      <th>18</th>\n",
              "      <td>shot</td>\n",
              "      <td>36.0</td>\n",
              "      <td>M</td>\n",
              "      <td>Hemet</td>\n",
              "      <td>False</td>\n",
              "      <td>attack</td>\n",
              "      <td>Not fleeing</td>\n",
              "      <td>False</td>\n",
              "      <td>armed</td>\n",
              "      <td>California</td>\n",
              "      <td>White</td>\n",
              "      <td>0.378436</td>\n",
              "      <td>4</td>\n",
              "      <td>-0.018226</td>\n",
              "      <td>-0.312281</td>\n",
              "      <td>2.619966</td>\n",
              "      <td>7.947299</td>\n",
              "      <td>0</td>\n",
              "    </tr>\n",
              "    <tr>\n",
              "      <th>19</th>\n",
              "      <td>shot</td>\n",
              "      <td>42.0</td>\n",
              "      <td>M</td>\n",
              "      <td>Apple Valley</td>\n",
              "      <td>True</td>\n",
              "      <td>attack</td>\n",
              "      <td>Not fleeing</td>\n",
              "      <td>False</td>\n",
              "      <td>armed</td>\n",
              "      <td>California</td>\n",
              "      <td>White</td>\n",
              "      <td>0.378436</td>\n",
              "      <td>4</td>\n",
              "      <td>0.364254</td>\n",
              "      <td>-0.623069</td>\n",
              "      <td>0.974254</td>\n",
              "      <td>1.616403</td>\n",
              "      <td>0</td>\n",
              "    </tr>\n",
              "    <tr>\n",
              "      <th>20</th>\n",
              "      <td>shot</td>\n",
              "      <td>59.0</td>\n",
              "      <td>M</td>\n",
              "      <td>Chino</td>\n",
              "      <td>False</td>\n",
              "      <td>other</td>\n",
              "      <td>Car</td>\n",
              "      <td>False</td>\n",
              "      <td>armed</td>\n",
              "      <td>California</td>\n",
              "      <td>White</td>\n",
              "      <td>0.378436</td>\n",
              "      <td>4</td>\n",
              "      <td>0.837099</td>\n",
              "      <td>-1.185740</td>\n",
              "      <td>5.304334</td>\n",
              "      <td>19.787857</td>\n",
              "      <td>0</td>\n",
              "    </tr>\n",
              "  </tbody>\n",
              "</table>\n",
              "</div>"
            ],
            "text/plain": [
              "   manner_of_death   age gender  ...    tsne_x     tsne_y clustered\n",
              "0             shot  53.0      M  ... -1.918691  39.668274         0\n",
              "16            shot  32.0      M  ... -1.930946   5.736576         0\n",
              "18            shot  36.0      M  ...  2.619966   7.947299         0\n",
              "19            shot  42.0      M  ...  0.974254   1.616403         0\n",
              "20            shot  59.0      M  ...  5.304334  19.787857         0\n",
              "\n",
              "[5 rows x 18 columns]"
            ]
          },
          "metadata": {
            "tags": []
          },
          "execution_count": 100
        }
      ]
    },
    {
      "cell_type": "code",
      "metadata": {
        "colab": {
          "base_uri": "https://localhost:8080/",
          "height": 309
        },
        "id": "cGaC2f7HXuav",
        "outputId": "093e716b-a524-4ed6-8f3f-0b61a91f28d4"
      },
      "source": [
        "cluster1.head()"
      ],
      "execution_count": 101,
      "outputs": [
        {
          "output_type": "execute_result",
          "data": {
            "text/html": [
              "<div>\n",
              "<style scoped>\n",
              "    .dataframe tbody tr th:only-of-type {\n",
              "        vertical-align: middle;\n",
              "    }\n",
              "\n",
              "    .dataframe tbody tr th {\n",
              "        vertical-align: top;\n",
              "    }\n",
              "\n",
              "    .dataframe thead th {\n",
              "        text-align: right;\n",
              "    }\n",
              "</style>\n",
              "<table border=\"1\" class=\"dataframe\">\n",
              "  <thead>\n",
              "    <tr style=\"text-align: right;\">\n",
              "      <th></th>\n",
              "      <th>manner_of_death</th>\n",
              "      <th>age</th>\n",
              "      <th>gender</th>\n",
              "      <th>city</th>\n",
              "      <th>signs_of_mental_illness</th>\n",
              "      <th>threat_level</th>\n",
              "      <th>flee</th>\n",
              "      <th>body_camera</th>\n",
              "      <th>armed_class</th>\n",
              "      <th>state</th>\n",
              "      <th>race</th>\n",
              "      <th>race_per_pop</th>\n",
              "      <th>race_encoded</th>\n",
              "      <th>PC1</th>\n",
              "      <th>PC2</th>\n",
              "      <th>tsne_x</th>\n",
              "      <th>tsne_y</th>\n",
              "      <th>clustered</th>\n",
              "    </tr>\n",
              "  </thead>\n",
              "  <tbody>\n",
              "    <tr>\n",
              "      <th>14</th>\n",
              "      <td>shot and Tasered</td>\n",
              "      <td>23.0</td>\n",
              "      <td>M</td>\n",
              "      <td>Wichita</td>\n",
              "      <td>False</td>\n",
              "      <td>other</td>\n",
              "      <td>Not fleeing</td>\n",
              "      <td>False</td>\n",
              "      <td>unarmed</td>\n",
              "      <td>Kansas</td>\n",
              "      <td>Hispanic</td>\n",
              "      <td>0.115742</td>\n",
              "      <td>2</td>\n",
              "      <td>-1.697893</td>\n",
              "      <td>-0.090069</td>\n",
              "      <td>-22.611397</td>\n",
              "      <td>23.008131</td>\n",
              "      <td>1</td>\n",
              "    </tr>\n",
              "    <tr>\n",
              "      <th>15</th>\n",
              "      <td>shot</td>\n",
              "      <td>21.0</td>\n",
              "      <td>M</td>\n",
              "      <td>Kansas City</td>\n",
              "      <td>False</td>\n",
              "      <td>attack</td>\n",
              "      <td>Car</td>\n",
              "      <td>False</td>\n",
              "      <td>armed</td>\n",
              "      <td>Kansas</td>\n",
              "      <td>Hispanic</td>\n",
              "      <td>0.115742</td>\n",
              "      <td>2</td>\n",
              "      <td>-1.907997</td>\n",
              "      <td>0.144142</td>\n",
              "      <td>28.220253</td>\n",
              "      <td>38.393410</td>\n",
              "      <td>1</td>\n",
              "    </tr>\n",
              "    <tr>\n",
              "      <th>17</th>\n",
              "      <td>shot and Tasered</td>\n",
              "      <td>25.0</td>\n",
              "      <td>M</td>\n",
              "      <td>Stockton</td>\n",
              "      <td>False</td>\n",
              "      <td>attack</td>\n",
              "      <td>Not fleeing</td>\n",
              "      <td>False</td>\n",
              "      <td>armed</td>\n",
              "      <td>California</td>\n",
              "      <td>White</td>\n",
              "      <td>0.378436</td>\n",
              "      <td>4</td>\n",
              "      <td>-0.737959</td>\n",
              "      <td>0.401019</td>\n",
              "      <td>-5.937037</td>\n",
              "      <td>5.349278</td>\n",
              "      <td>1</td>\n",
              "    </tr>\n",
              "    <tr>\n",
              "      <th>21</th>\n",
              "      <td>shot</td>\n",
              "      <td>26.0</td>\n",
              "      <td>M</td>\n",
              "      <td>Calimesa</td>\n",
              "      <td>False</td>\n",
              "      <td>attack</td>\n",
              "      <td>Not fleeing</td>\n",
              "      <td>False</td>\n",
              "      <td>armed</td>\n",
              "      <td>California</td>\n",
              "      <td>White</td>\n",
              "      <td>0.378436</td>\n",
              "      <td>4</td>\n",
              "      <td>-0.666069</td>\n",
              "      <td>0.328264</td>\n",
              "      <td>-1.333064</td>\n",
              "      <td>8.976912</td>\n",
              "      <td>1</td>\n",
              "    </tr>\n",
              "    <tr>\n",
              "      <th>22</th>\n",
              "      <td>shot</td>\n",
              "      <td>23.0</td>\n",
              "      <td>M</td>\n",
              "      <td>San Bernardino</td>\n",
              "      <td>False</td>\n",
              "      <td>attack</td>\n",
              "      <td>Car</td>\n",
              "      <td>False</td>\n",
              "      <td>armed</td>\n",
              "      <td>California</td>\n",
              "      <td>White</td>\n",
              "      <td>0.378436</td>\n",
              "      <td>4</td>\n",
              "      <td>-1.036393</td>\n",
              "      <td>0.682483</td>\n",
              "      <td>12.946326</td>\n",
              "      <td>15.002964</td>\n",
              "      <td>1</td>\n",
              "    </tr>\n",
              "  </tbody>\n",
              "</table>\n",
              "</div>"
            ],
            "text/plain": [
              "     manner_of_death   age gender  ...     tsne_x     tsne_y clustered\n",
              "14  shot and Tasered  23.0      M  ... -22.611397  23.008131         1\n",
              "15              shot  21.0      M  ...  28.220253  38.393410         1\n",
              "17  shot and Tasered  25.0      M  ...  -5.937037   5.349278         1\n",
              "21              shot  26.0      M  ...  -1.333064   8.976912         1\n",
              "22              shot  23.0      M  ...  12.946326  15.002964         1\n",
              "\n",
              "[5 rows x 18 columns]"
            ]
          },
          "metadata": {
            "tags": []
          },
          "execution_count": 101
        }
      ]
    },
    {
      "cell_type": "code",
      "metadata": {
        "colab": {
          "base_uri": "https://localhost:8080/",
          "height": 204
        },
        "id": "Sqk17kziXybz",
        "outputId": "58b71fb7-4fb0-4a02-dce9-6697d1bd1a2d"
      },
      "source": [
        "cluster2.head()"
      ],
      "execution_count": 102,
      "outputs": [
        {
          "output_type": "execute_result",
          "data": {
            "text/html": [
              "<div>\n",
              "<style scoped>\n",
              "    .dataframe tbody tr th:only-of-type {\n",
              "        vertical-align: middle;\n",
              "    }\n",
              "\n",
              "    .dataframe tbody tr th {\n",
              "        vertical-align: top;\n",
              "    }\n",
              "\n",
              "    .dataframe thead th {\n",
              "        text-align: right;\n",
              "    }\n",
              "</style>\n",
              "<table border=\"1\" class=\"dataframe\">\n",
              "  <thead>\n",
              "    <tr style=\"text-align: right;\">\n",
              "      <th></th>\n",
              "      <th>manner_of_death</th>\n",
              "      <th>age</th>\n",
              "      <th>gender</th>\n",
              "      <th>city</th>\n",
              "      <th>signs_of_mental_illness</th>\n",
              "      <th>threat_level</th>\n",
              "      <th>flee</th>\n",
              "      <th>body_camera</th>\n",
              "      <th>armed_class</th>\n",
              "      <th>state</th>\n",
              "      <th>race</th>\n",
              "      <th>race_per_pop</th>\n",
              "      <th>race_encoded</th>\n",
              "      <th>PC1</th>\n",
              "      <th>PC2</th>\n",
              "      <th>tsne_x</th>\n",
              "      <th>tsne_y</th>\n",
              "      <th>clustered</th>\n",
              "    </tr>\n",
              "  </thead>\n",
              "  <tbody>\n",
              "    <tr>\n",
              "      <th>1</th>\n",
              "      <td>shot</td>\n",
              "      <td>47.0</td>\n",
              "      <td>M</td>\n",
              "      <td>Aloha</td>\n",
              "      <td>False</td>\n",
              "      <td>attack</td>\n",
              "      <td>Not fleeing</td>\n",
              "      <td>False</td>\n",
              "      <td>armed</td>\n",
              "      <td>Oregon</td>\n",
              "      <td>White</td>\n",
              "      <td>0.767113</td>\n",
              "      <td>4</td>\n",
              "      <td>1.591639</td>\n",
              "      <td>0.237493</td>\n",
              "      <td>-5.086979</td>\n",
              "      <td>-64.517914</td>\n",
              "      <td>2</td>\n",
              "    </tr>\n",
              "    <tr>\n",
              "      <th>3</th>\n",
              "      <td>shot</td>\n",
              "      <td>49.0</td>\n",
              "      <td>M</td>\n",
              "      <td>Medford</td>\n",
              "      <td>True</td>\n",
              "      <td>attack</td>\n",
              "      <td>Not fleeing</td>\n",
              "      <td>False</td>\n",
              "      <td>armed</td>\n",
              "      <td>Oregon</td>\n",
              "      <td>White</td>\n",
              "      <td>0.767113</td>\n",
              "      <td>4</td>\n",
              "      <td>1.745990</td>\n",
              "      <td>0.152309</td>\n",
              "      <td>-3.447875</td>\n",
              "      <td>-63.640636</td>\n",
              "      <td>2</td>\n",
              "    </tr>\n",
              "    <tr>\n",
              "      <th>5</th>\n",
              "      <td>shot</td>\n",
              "      <td>49.0</td>\n",
              "      <td>M</td>\n",
              "      <td>Eugene</td>\n",
              "      <td>True</td>\n",
              "      <td>attack</td>\n",
              "      <td>Not fleeing</td>\n",
              "      <td>False</td>\n",
              "      <td>armed</td>\n",
              "      <td>Oregon</td>\n",
              "      <td>White</td>\n",
              "      <td>0.767113</td>\n",
              "      <td>4</td>\n",
              "      <td>1.746542</td>\n",
              "      <td>0.151454</td>\n",
              "      <td>-3.792925</td>\n",
              "      <td>-64.283531</td>\n",
              "      <td>2</td>\n",
              "    </tr>\n",
              "    <tr>\n",
              "      <th>6</th>\n",
              "      <td>shot</td>\n",
              "      <td>49.0</td>\n",
              "      <td>M</td>\n",
              "      <td>Eugene</td>\n",
              "      <td>False</td>\n",
              "      <td>attack</td>\n",
              "      <td>Not fleeing</td>\n",
              "      <td>False</td>\n",
              "      <td>armed</td>\n",
              "      <td>Oregon</td>\n",
              "      <td>White</td>\n",
              "      <td>0.767113</td>\n",
              "      <td>4</td>\n",
              "      <td>1.677412</td>\n",
              "      <td>0.152787</td>\n",
              "      <td>-4.404403</td>\n",
              "      <td>-64.552773</td>\n",
              "      <td>2</td>\n",
              "    </tr>\n",
              "    <tr>\n",
              "      <th>7</th>\n",
              "      <td>shot</td>\n",
              "      <td>55.0</td>\n",
              "      <td>M</td>\n",
              "      <td>Wilderville</td>\n",
              "      <td>False</td>\n",
              "      <td>attack</td>\n",
              "      <td>Not fleeing</td>\n",
              "      <td>False</td>\n",
              "      <td>armed</td>\n",
              "      <td>Oregon</td>\n",
              "      <td>White</td>\n",
              "      <td>0.767113</td>\n",
              "      <td>4</td>\n",
              "      <td>1.915993</td>\n",
              "      <td>-0.083804</td>\n",
              "      <td>-5.632182</td>\n",
              "      <td>-64.466568</td>\n",
              "      <td>2</td>\n",
              "    </tr>\n",
              "  </tbody>\n",
              "</table>\n",
              "</div>"
            ],
            "text/plain": [
              "  manner_of_death   age gender  ...    tsne_x     tsne_y clustered\n",
              "1            shot  47.0      M  ... -5.086979 -64.517914         2\n",
              "3            shot  49.0      M  ... -3.447875 -63.640636         2\n",
              "5            shot  49.0      M  ... -3.792925 -64.283531         2\n",
              "6            shot  49.0      M  ... -4.404403 -64.552773         2\n",
              "7            shot  55.0      M  ... -5.632182 -64.466568         2\n",
              "\n",
              "[5 rows x 18 columns]"
            ]
          },
          "metadata": {
            "tags": []
          },
          "execution_count": 102
        }
      ]
    },
    {
      "cell_type": "code",
      "metadata": {
        "colab": {
          "base_uri": "https://localhost:8080/",
          "height": 204
        },
        "id": "1gnAKmjKX1rO",
        "outputId": "1164e583-a21d-4a95-fb1d-b4e519e3dfe6"
      },
      "source": [
        "cluster3.head()"
      ],
      "execution_count": 103,
      "outputs": [
        {
          "output_type": "execute_result",
          "data": {
            "text/html": [
              "<div>\n",
              "<style scoped>\n",
              "    .dataframe tbody tr th:only-of-type {\n",
              "        vertical-align: middle;\n",
              "    }\n",
              "\n",
              "    .dataframe tbody tr th {\n",
              "        vertical-align: top;\n",
              "    }\n",
              "\n",
              "    .dataframe thead th {\n",
              "        text-align: right;\n",
              "    }\n",
              "</style>\n",
              "<table border=\"1\" class=\"dataframe\">\n",
              "  <thead>\n",
              "    <tr style=\"text-align: right;\">\n",
              "      <th></th>\n",
              "      <th>manner_of_death</th>\n",
              "      <th>age</th>\n",
              "      <th>gender</th>\n",
              "      <th>city</th>\n",
              "      <th>signs_of_mental_illness</th>\n",
              "      <th>threat_level</th>\n",
              "      <th>flee</th>\n",
              "      <th>body_camera</th>\n",
              "      <th>armed_class</th>\n",
              "      <th>state</th>\n",
              "      <th>race</th>\n",
              "      <th>race_per_pop</th>\n",
              "      <th>race_encoded</th>\n",
              "      <th>PC1</th>\n",
              "      <th>PC2</th>\n",
              "      <th>tsne_x</th>\n",
              "      <th>tsne_y</th>\n",
              "      <th>clustered</th>\n",
              "    </tr>\n",
              "  </thead>\n",
              "  <tbody>\n",
              "    <tr>\n",
              "      <th>2</th>\n",
              "      <td>shot</td>\n",
              "      <td>34.0</td>\n",
              "      <td>M</td>\n",
              "      <td>Colton</td>\n",
              "      <td>True</td>\n",
              "      <td>other</td>\n",
              "      <td>Not fleeing</td>\n",
              "      <td>False</td>\n",
              "      <td>armed</td>\n",
              "      <td>Oregon</td>\n",
              "      <td>White</td>\n",
              "      <td>0.767113</td>\n",
              "      <td>4</td>\n",
              "      <td>0.972127</td>\n",
              "      <td>0.899790</td>\n",
              "      <td>15.466223</td>\n",
              "      <td>-40.670120</td>\n",
              "      <td>3</td>\n",
              "    </tr>\n",
              "    <tr>\n",
              "      <th>4</th>\n",
              "      <td>shot and Tasered</td>\n",
              "      <td>36.0</td>\n",
              "      <td>M</td>\n",
              "      <td>Portland</td>\n",
              "      <td>True</td>\n",
              "      <td>other</td>\n",
              "      <td>Foot</td>\n",
              "      <td>False</td>\n",
              "      <td>armed</td>\n",
              "      <td>Oregon</td>\n",
              "      <td>White</td>\n",
              "      <td>0.767113</td>\n",
              "      <td>4</td>\n",
              "      <td>0.935993</td>\n",
              "      <td>0.889053</td>\n",
              "      <td>32.063011</td>\n",
              "      <td>-44.712967</td>\n",
              "      <td>3</td>\n",
              "    </tr>\n",
              "    <tr>\n",
              "      <th>8</th>\n",
              "      <td>shot</td>\n",
              "      <td>29.0</td>\n",
              "      <td>M</td>\n",
              "      <td>Portland</td>\n",
              "      <td>False</td>\n",
              "      <td>attack</td>\n",
              "      <td>Not fleeing</td>\n",
              "      <td>False</td>\n",
              "      <td>armed</td>\n",
              "      <td>Oregon</td>\n",
              "      <td>White</td>\n",
              "      <td>0.767113</td>\n",
              "      <td>4</td>\n",
              "      <td>0.614813</td>\n",
              "      <td>1.202755</td>\n",
              "      <td>-20.661356</td>\n",
              "      <td>-48.906147</td>\n",
              "      <td>3</td>\n",
              "    </tr>\n",
              "    <tr>\n",
              "      <th>9</th>\n",
              "      <td>shot</td>\n",
              "      <td>32.0</td>\n",
              "      <td>M</td>\n",
              "      <td>Josephine County</td>\n",
              "      <td>False</td>\n",
              "      <td>attack</td>\n",
              "      <td>Car</td>\n",
              "      <td>False</td>\n",
              "      <td>armed</td>\n",
              "      <td>Oregon</td>\n",
              "      <td>White</td>\n",
              "      <td>0.767113</td>\n",
              "      <td>4</td>\n",
              "      <td>0.680695</td>\n",
              "      <td>1.126359</td>\n",
              "      <td>-16.257357</td>\n",
              "      <td>-35.654819</td>\n",
              "      <td>3</td>\n",
              "    </tr>\n",
              "    <tr>\n",
              "      <th>12</th>\n",
              "      <td>shot</td>\n",
              "      <td>35.0</td>\n",
              "      <td>M</td>\n",
              "      <td>Salem</td>\n",
              "      <td>False</td>\n",
              "      <td>attack</td>\n",
              "      <td>Car</td>\n",
              "      <td>False</td>\n",
              "      <td>armed</td>\n",
              "      <td>Oregon</td>\n",
              "      <td>White</td>\n",
              "      <td>0.767113</td>\n",
              "      <td>4</td>\n",
              "      <td>0.860673</td>\n",
              "      <td>0.949518</td>\n",
              "      <td>-16.189472</td>\n",
              "      <td>-35.654438</td>\n",
              "      <td>3</td>\n",
              "    </tr>\n",
              "  </tbody>\n",
              "</table>\n",
              "</div>"
            ],
            "text/plain": [
              "     manner_of_death   age gender  ...     tsne_x     tsne_y clustered\n",
              "2               shot  34.0      M  ...  15.466223 -40.670120         3\n",
              "4   shot and Tasered  36.0      M  ...  32.063011 -44.712967         3\n",
              "8               shot  29.0      M  ... -20.661356 -48.906147         3\n",
              "9               shot  32.0      M  ... -16.257357 -35.654819         3\n",
              "12              shot  35.0      M  ... -16.189472 -35.654438         3\n",
              "\n",
              "[5 rows x 18 columns]"
            ]
          },
          "metadata": {
            "tags": []
          },
          "execution_count": 103
        }
      ]
    },
    {
      "cell_type": "markdown",
      "metadata": {
        "id": "i7Uab6ROYJiH"
      },
      "source": [
        "# Conclusion and Recommendation"
      ]
    },
    {
      "cell_type": "markdown",
      "metadata": {
        "id": "OEuRiXpBYQxo"
      },
      "source": [
        "**List of issues**\n",
        "\n",
        "\n",
        "1.   There is evidence of racial inequality in police profiling\n",
        "2.   States such as California, Texas and Florida reportedly report high numbers of deaths due to police shootings.\n",
        "3.   Sufficient data not availale to find any relationship between signs of mental illness and death by police shooting. \n",
        "\n"
      ]
    },
    {
      "cell_type": "markdown",
      "metadata": {
        "id": "bkNDgEIA3rOd"
      },
      "source": [
        "**Recommendations**\n",
        "\n",
        "\n",
        "1.   More socio-economic and biodemographic data of victims need to be collected \n",
        "2.   Efforts should be made to build trust between racial communities and Law enforcement.\n",
        "3.   Law enforcement agencies should have comprehensive policies on the use of force especially for unarmed individuals.\n",
        "\n"
      ]
    }
  ]
}