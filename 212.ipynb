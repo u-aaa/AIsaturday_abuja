{
  "nbformat": 4,
  "nbformat_minor": 0,
  "metadata": {
    "kernelspec": {
      "display_name": "Python 3",
      "language": "python",
      "name": "python3"
    },
    "language_info": {
      "codemirror_mode": {
        "name": "ipython",
        "version": 3
      },
      "file_extension": ".py",
      "mimetype": "text/x-python",
      "name": "python",
      "nbconvert_exporter": "python",
      "pygments_lexer": "ipython3",
      "version": "3.7.6"
    },
    "colab": {
      "name": "212.ipynb",
      "provenance": [],
      "include_colab_link": true
    }
  },
  "cells": [
    {
      "cell_type": "markdown",
      "metadata": {
        "id": "view-in-github",
        "colab_type": "text"
      },
      "source": [
        "<a href=\"https://colab.research.google.com/github/u-aaa/AIsaturday_abuja/blob/master/212.ipynb\" target=\"_parent\"><img src=\"https://colab.research.google.com/assets/colab-badge.svg\" alt=\"Open In Colab\"/></a>"
      ]
    },
    {
      "cell_type": "markdown",
      "metadata": {
        "id": "W2sJuaG3h23m"
      },
      "source": [
        "# Module 2: Data Engineering\n",
        "## Sprint 1: Software Engineering and Reproducible Research\n",
        "## Subproject 2: Software Testing, Documentation, and Licensing"
      ]
    },
    {
      "cell_type": "markdown",
      "metadata": {
        "id": "1erEJEsyh23r"
      },
      "source": [
        "Welcome to the second lesson of this sprint. In this lesson, we will be talking about writing unit tests. We will be discussing why we need to test our code and will talk about the best testing practices. We will also cover more in-depth comments, documentation and software licensing."
      ]
    },
    {
      "cell_type": "markdown",
      "metadata": {
        "id": "7Nmjzbwmh23s"
      },
      "source": [
        "---"
      ]
    },
    {
      "cell_type": "markdown",
      "metadata": {
        "id": "B9fx3Eibh23u"
      },
      "source": [
        "## Learning outcomes\n",
        "- You will learn about different software test types\n",
        "- You will know how to do unit tests\n",
        "- You will know how to write good comments\n",
        "- You will able to understand and apply different types of licenses"
      ]
    },
    {
      "cell_type": "markdown",
      "metadata": {
        "id": "DzlAOK8ah23v"
      },
      "source": [
        "## Why we need to test code?\n",
        "As an engineer, you will be writing a lot of code. You will also be reading even more code that your colleagues have written. How can you be sure that one simple line of code that you added to a codebase will not break anything? Well, tests should take care of this problem and tell you if the code does not work anymore. One of the main ideas that you need to remember is **tests should take care** of the mentioned problem. This is because tests are as good as you or your colleagues write them. So let's talk about how to write good tests."
      ]
    },
    {
      "cell_type": "markdown",
      "metadata": {
        "id": "zNZYXDOVh23w"
      },
      "source": [
        "### Different types of software tests\n",
        "There are multiple types of tests in the testing world. Different types serve different purposes:"
      ]
    },
    {
      "cell_type": "markdown",
      "metadata": {
        "id": "oG8AQp-Bh23w"
      },
      "source": [
        "#### Unit tests\n",
        "As a future data scientist, you will likely work with unit tests most of your testing time. Unit tests are very low level, close to the source of your application. They consist of testing individual methods and functions of the classes, components, or modules used by your software. They ensure that changes in one part of the system will not break the rest of it. These tests are usually run before every code merge to ensure everything still works. In this lesson, you will learn how to write them."
      ]
    },
    {
      "cell_type": "markdown",
      "metadata": {
        "id": "50qnqhllh23y"
      },
      "source": [
        "#### Integration tests \n",
        "Integration tests verify that different modules or services used by your application work well together. For example, it can be testing the interaction with the database or making sure that microservices work together as expected. These types of tests are more expensive to run as they require multiple parts of the application to be up and running. These tests are usually run in more complex systems. You might need to write them but it is very unlikely as a data scientist your development environment will usually be a closed one."
      ]
    },
    {
      "cell_type": "markdown",
      "metadata": {
        "id": "9ikB61rgh23z"
      },
      "source": [
        "#### Functional tests\n",
        "Functional tests focus on the business requirements of an application. They only verify the output of an action and do not check the intermediate states of the system when performing that action. There is sometimes confusion between integration tests and functional tests as they both require multiple components to interact with each other. The difference is that an integration test may simply verify that you can query the database while a functional test would expect to get a specific value from the database as defined by the product requirements. Usually functional and integration tests merge into one. You might see integration tests handled as functional and functional as integration ones."
      ]
    },
    {
      "cell_type": "markdown",
      "metadata": {
        "id": "rWB9hNURh231"
      },
      "source": [
        "#### End-to-end tests\n",
        "End-to-end testing replicates a user behavior with the software in a complete application environment. It verifies that various user flows work as expected and can be as simple as loading a web page or logging in or much more complex scenarios verifying email notifications, online payments. End-to-end tests are very useful, but they're expensive to perform and can be hard to maintain when they're automated. It is recommended to have a few key end-to-end tests and rely more on lower-level types of testing (unit and integration tests) to be able to quickly identify breaking changes. These tests can also be made by QA. They are really liked by mobile or web developers where user input and interactions with UI is commonly used."
      ]
    },
    {
      "cell_type": "markdown",
      "metadata": {
        "id": "ZsmvBZAHh232"
      },
      "source": [
        "#### Acceptance testing\n",
        "Acceptance tests are formal tests executed to verify if a system satisfies its business requirements. They require the entire application to be up and running and focus on replicating user behaviors. But they can also go further and measure the performance of the system and reject changes if certain goals are not met. These tests are quite rare in modern software development. They are mostly used when working with strict project requirements. There is a big chance that you will not encounter this type of test in a really long time."
      ]
    },
    {
      "cell_type": "markdown",
      "metadata": {
        "id": "cd42YOjnh233"
      },
      "source": [
        "#### Performance testing\n",
        "Performance tests check the behaviors of the system when it is under significant load. These tests are non-functional and can have various forms to understand the reliability, stability, and availability of the platform. For instance, it can be observing response times when executing a high number of requests or seeing how the system behaves with a significant of data. Performance tests are by their nature quite costly to implement and run, but they can help you understand if new changes are going to degrade your system. These tests are really important if you want to make sure that your deployed application will work as expected. As you will learn to deploy your trained models to production, you will need to not forget to test the performance of the service."
      ]
    },
    {
      "cell_type": "markdown",
      "metadata": {
        "id": "3wooPrHxh234"
      },
      "source": [
        "To read more about different types of software tests you can go to [this](https://www.atlassian.com/continuous-delivery/software-testing/types-of-software-testing) page."
      ]
    },
    {
      "cell_type": "markdown",
      "metadata": {
        "id": "wpk9uhdSh235"
      },
      "source": [
        "## Unit tests\n",
        "As mentioned earlier unit tests are the type of software tests you will encounter most. You can have as many unit tests as you believe is needed. Unit tests are cheap (time and resources wise) to run but can bring you a lot of value: they can catch problems before running the whole application, they can check if deployed code will work as expected. There is only one downside of these types of tests - they are only as good as you write them. Unit tests are only a part of your codebase, they act as you wrote them to. If the test that you wrote will not cover some specific edge case, you will not be protected from failures in the production. Let's see what can and what should you test:"
      ]
    },
    {
      "cell_type": "markdown",
      "metadata": {
        "id": "NmRC43kbh236"
      },
      "source": [
        "### Basic functions\n",
        "Imagine that you need to create a function that adds to numbers provided (`a: int, b: int)`:"
      ]
    },
    {
      "cell_type": "code",
      "metadata": {
        "id": "qCqw18fMh237"
      },
      "source": [
        "def sum(a: int, b: int) -> int:\n",
        "    return a + b"
      ],
      "execution_count": null,
      "outputs": []
    },
    {
      "cell_type": "markdown",
      "metadata": {
        "id": "7kegl5sCh238"
      },
      "source": [
        "You might write test to this function using `assert`:"
      ]
    },
    {
      "cell_type": "code",
      "metadata": {
        "id": "eijQjLJ4h238"
      },
      "source": [
        "assert sum(1, 2) == 3"
      ],
      "execution_count": null,
      "outputs": []
    },
    {
      "cell_type": "markdown",
      "metadata": {
        "id": "VX3vq_9ah239"
      },
      "source": [
        "This test is correct but not really beneficial. The function that you are testing is not that complex and there is a small chance that it will fail. You could even go as far as ignoring writing the test to the `sum` function. On the other hand, imagine that you need to write a function that sums all values in a list and it uses `sum` function above:"
      ]
    },
    {
      "cell_type": "code",
      "metadata": {
        "id": "Ux2L2bl2h239"
      },
      "source": [
        "def sum_list(a: list) -> int:\n",
        "    result = 0\n",
        "    for value in a:\n",
        "        result = sum(result, value)\n",
        "\n",
        "    return result"
      ],
      "execution_count": null,
      "outputs": []
    },
    {
      "cell_type": "code",
      "metadata": {
        "id": "8Ta-Q1-Mh239"
      },
      "source": [
        "assert sum_list([1, 2]) == 3"
      ],
      "execution_count": null,
      "outputs": []
    },
    {
      "cell_type": "markdown",
      "metadata": {
        "id": "Bst2WyDoh23-"
      },
      "source": [
        "This is where tests comes in handy: imagine that somewhere in the codebase you use `sum_list` function to calculate students in the school (value in list is number of children in the individual class)."
      ]
    },
    {
      "cell_type": "code",
      "metadata": {
        "id": "XVzgUODWh23-"
      },
      "source": [
        "students_count = sum_list([10, 24, 31, 25])"
      ],
      "execution_count": null,
      "outputs": []
    },
    {
      "cell_type": "markdown",
      "metadata": {
        "id": "1ci7ADkih23_"
      },
      "source": [
        "One day you notice that number of students in the schools is quite low. It was actually decreasing for the past sprint. Oddly school is still full and no reports on missing students were made, so you decide to check your code:"
      ]
    },
    {
      "cell_type": "code",
      "metadata": {
        "id": "pylNKSHNh24C"
      },
      "source": [
        "def sum(a: int, b: int) -> int:\n",
        "    return b\n",
        "\n",
        "def sum_list(a: list) -> int:\n",
        "    result = 0\n",
        "    for value in a:\n",
        "        result = sum(result, value)\n",
        "    return result"
      ],
      "execution_count": null,
      "outputs": []
    },
    {
      "cell_type": "code",
      "metadata": {
        "id": "Ax6nNu7ah24C",
        "outputId": "dbe79a46-95da-4c63-a8bc-b6b0df89c987"
      },
      "source": [
        "print(sum_list([10, 20, 31]))"
      ],
      "execution_count": null,
      "outputs": [
        {
          "output_type": "stream",
          "text": [
            "31\n"
          ],
          "name": "stdout"
        }
      ]
    },
    {
      "cell_type": "markdown",
      "metadata": {
        "id": "JJAoKA0qh24E"
      },
      "source": [
        "You go and check your `sum` function and notice that it looks different:"
      ]
    },
    {
      "cell_type": "code",
      "metadata": {
        "id": "sVVeu1Bah24E"
      },
      "source": [
        "def sum(a: int, b: int) -> int:\n",
        "    return b"
      ],
      "execution_count": null,
      "outputs": []
    },
    {
      "cell_type": "markdown",
      "metadata": {
        "id": "pIv-mLRRh24F"
      },
      "source": [
        "Someone removed `a +` by accident and no one noticed it! What you could have done is wrote test that checks if `sum_list` returns expected value:"
      ]
    },
    {
      "cell_type": "code",
      "metadata": {
        "id": "pMcZA3e7h24F",
        "outputId": "a9d0bc76-35a5-445e-f14d-dbb8355099fd"
      },
      "source": [
        "assert sum_list([1, 2]) == 3"
      ],
      "execution_count": null,
      "outputs": [
        {
          "output_type": "error",
          "ename": "AssertionError",
          "evalue": "",
          "traceback": [
            "\u001b[0;31m---------------------------------------------------------------------------\u001b[0m",
            "\u001b[0;31mAssertionError\u001b[0m                            Traceback (most recent call last)",
            "\u001b[0;32m<ipython-input-50-559c05dce90a>\u001b[0m in \u001b[0;36m<module>\u001b[0;34m\u001b[0m\n\u001b[0;32m----> 1\u001b[0;31m \u001b[0;32massert\u001b[0m \u001b[0msum_list\u001b[0m\u001b[0;34m(\u001b[0m\u001b[0;34m[\u001b[0m\u001b[0;36m1\u001b[0m\u001b[0;34m,\u001b[0m \u001b[0;36m2\u001b[0m\u001b[0;34m]\u001b[0m\u001b[0;34m)\u001b[0m \u001b[0;34m==\u001b[0m \u001b[0;36m3\u001b[0m\u001b[0;34m\u001b[0m\u001b[0;34m\u001b[0m\u001b[0m\n\u001b[0m",
            "\u001b[0;31mAssertionError\u001b[0m: "
          ]
        }
      ]
    },
    {
      "cell_type": "markdown",
      "metadata": {
        "id": "mXa-dD5Wh24G"
      },
      "source": [
        "A short run of tests would have shown you that mistake was made. Even keeping the `sum` test would have been a good thing. This is a really funny and simple example but believe me, it actually happens. These days simple tests costs almost nothing (they run fast and do not require huge computing resources) and they should be run as frequently as possible. You might not even know that the change that you made broke something that your colleague wrote. Tests are here to solve this problem. You should read [this](https://www.toptal.com/qa/how-to-write-testable-code-and-why-it-matters) blog post on how to write good tests. Code examples are written in `C#` but are straight forward and easily understandable.\n",
        "\n",
        "Now that you know why and how you need to write tests, you need to watch [this](https://www.youtube.com/watch?v=etosV2IWBF0&ab_channel=MattLayman) video that will show you Python-specific code testing examples."
      ]
    },
    {
      "cell_type": "markdown",
      "metadata": {
        "id": "EyvfK_ECh24G"
      },
      "source": [
        "### Testing tools\n",
        "In the video \"Python Testing 101 with pytest\" you saw a Python tool called `pytest`. This is a commonly used tool in the Python ecosystem for code testing. Alternatively, you can use the tool `unittest`. The latter is also loved by Python users but the suggestion is to stick with `pytest` as it has more support from software giants (Google, Facebook) so you will see this tool more often. You can read the discussion on [pytest vs unittest](https://stackoverflow.com/questions/27954702/unittest-vs-pytest) and see other arguments made on this topic. Now you will have to use `pytest` to complete the exercises below."
      ]
    },
    {
      "cell_type": "markdown",
      "metadata": {
        "id": "nPdcL7-0h24G"
      },
      "source": [
        "## Exercises\n",
        "Now you will need to check your understanding by writing some unit tests using `pytest` tool. First, you will need to install the package using pip:"
      ]
    },
    {
      "cell_type": "code",
      "metadata": {
        "id": "nPsy-1Q3h24H",
        "outputId": "93c58394-06c2-4d8d-f328-093a506e9a90",
        "colab": {
          "base_uri": "https://localhost:8080/"
        }
      },
      "source": [
        "# Installing pytest using pip\n",
        "!pip install pytest ipython_pytest"
      ],
      "execution_count": 1,
      "outputs": [
        {
          "output_type": "stream",
          "text": [
            "Requirement already satisfied: pytest in /usr/local/lib/python3.7/dist-packages (3.6.4)\n",
            "Collecting ipython_pytest\n",
            "  Downloading https://files.pythonhosted.org/packages/de/41/27fd955cca43bbbb546959b77bd5757495ffb2ca3cb08fc6b0cce6c366c8/ipython_pytest-0.0.1.tar.gz\n",
            "Requirement already satisfied: setuptools in /usr/local/lib/python3.7/dist-packages (from pytest) (57.0.0)\n",
            "Requirement already satisfied: atomicwrites>=1.0 in /usr/local/lib/python3.7/dist-packages (from pytest) (1.4.0)\n",
            "Requirement already satisfied: six>=1.10.0 in /usr/local/lib/python3.7/dist-packages (from pytest) (1.15.0)\n",
            "Requirement already satisfied: more-itertools>=4.0.0 in /usr/local/lib/python3.7/dist-packages (from pytest) (8.8.0)\n",
            "Requirement already satisfied: pluggy<0.8,>=0.5 in /usr/local/lib/python3.7/dist-packages (from pytest) (0.7.1)\n",
            "Requirement already satisfied: py>=1.5.0 in /usr/local/lib/python3.7/dist-packages (from pytest) (1.10.0)\n",
            "Requirement already satisfied: attrs>=17.4.0 in /usr/local/lib/python3.7/dist-packages (from pytest) (21.2.0)\n",
            "Building wheels for collected packages: ipython-pytest\n",
            "  Building wheel for ipython-pytest (setup.py) ... \u001b[?25l\u001b[?25hdone\n",
            "  Created wheel for ipython-pytest: filename=ipython_pytest-0.0.1-cp37-none-any.whl size=3636 sha256=86f4d88af7f9868cbc4354bccb71e528e9110a665db94d66c8eed623fd25bab5\n",
            "  Stored in directory: /root/.cache/pip/wheels/94/ea/8f/93a1085080699af835b096bf31b0db14030408fb125dd3e424\n",
            "Successfully built ipython-pytest\n",
            "Installing collected packages: ipython-pytest\n",
            "Successfully installed ipython-pytest-0.0.1\n"
          ],
          "name": "stdout"
        }
      ]
    },
    {
      "cell_type": "markdown",
      "metadata": {
        "id": "YbXD_3rfh24I"
      },
      "source": [
        "As you are working in the notebooks, you also installed a tool called `ipython_pytest`. This tool is designed to run pytest inside notebooks. To configure it you will need to run `%load_ext ipython_pytest` one time in the notebook and you will also need to add `%%pytest` at every cell that contains test."
      ]
    },
    {
      "cell_type": "code",
      "metadata": {
        "id": "nbiPbmcVh24I"
      },
      "source": [
        "import ipython_pytest"
      ],
      "execution_count": 2,
      "outputs": []
    },
    {
      "cell_type": "code",
      "metadata": {
        "id": "wVE1QWS2h24J"
      },
      "source": [
        "%load_ext ipython_pytest"
      ],
      "execution_count": 3,
      "outputs": []
    },
    {
      "cell_type": "markdown",
      "metadata": {
        "id": "pSBldWF6h24J"
      },
      "source": [
        "Here is a `class` of school class that has multiple attributes and functions inside:"
      ]
    },
    {
      "cell_type": "code",
      "metadata": {
        "id": "y1PxdohSh24J"
      },
      "source": [
        "class Class:\n",
        "    def __init__(self, students_list: list, teacher_name: str) -> None:\n",
        "        self.__students_list = students_list\n",
        "        self.__teacher_name = teacher_name\n",
        "        \n",
        "    def __str__(self) -> str:\n",
        "        return f\"Teacher of this class is {self.__teacher_name}. There are {len(self.__students_list)} students in the class.\"\n",
        "    \n",
        "    @property\n",
        "    def students_count(self) -> int:\n",
        "        return len(self.__students_list)\n",
        "    \n",
        "    def add_student(self, student_name: str) -> None:\n",
        "        if student_name in self.__students_list:\n",
        "            raise ValueError(f\"Student {student_name} is allready in the class!\")\n",
        "        self.__students_list.append(student_name)\n",
        "        \n",
        "    def remove_student(self, student_name) -> None:\n",
        "        self.__students_list.remove(student_name)"
      ],
      "execution_count": 4,
      "outputs": []
    },
    {
      "cell_type": "markdown",
      "metadata": {
        "id": "sZO9kZVQh24K"
      },
      "source": [
        "Now you will need to write tests to this class using `pytest`"
      ]
    },
    {
      "cell_type": "code",
      "metadata": {
        "id": "DucieCgrh24K",
        "outputId": "27025fa0-96a8-4fba-f351-4c54ab577170",
        "colab": {
          "base_uri": "https://localhost:8080/"
        }
      },
      "source": [
        "%%pytest\n",
        "\n",
        "def students_count_is_correct():\n",
        "    # CHECK IF STUDENTS COUNT IS CORRECT\n",
        "    class_test = Class(['Marie', 'Jacob', 'Phil', 'Racheal', 'Joseph'], 'June')\n",
        "    assert class_test == 5\n",
        "    \n",
        "def can_add_student():\n",
        "    # CHECK IF YOU CAN ADD STUDENT\n",
        "    class_test = Class(['Marie', 'Jacob', 'Phil', 'Racheal', 'Joseph'], 'June')\n",
        "    class_test.add_student('Bumble')\n",
        "    assert class_test.students_count == 6\n",
        "\n",
        "def can_remove_student():\n",
        "    # CHECK IF YOU CAN REMOVE STUDENT\n",
        "    class_test = Class(['Marie', 'Jacob', 'Phil', 'Racheal', 'Joseph'], 'June')\n",
        "    class_test.remove_student('Phil')\n",
        "    assert class_test.students_count == 4\n",
        "\n",
        "def can_not_add_duplicate_student():\n",
        "    # CHECK IF CAN NOT ADD DUPLICATE STUDENT\n",
        "    class_test = Class(['Marie', 'Jacob', 'Phil', 'Racheal', 'Joseph'], 'June')\n",
        "    class_test.add_student('Marie')\n",
        "    assert class_test.students_count == 5"
      ],
      "execution_count": 9,
      "outputs": [
        {
          "output_type": "stream",
          "text": [
            "============================= test session starts ==============================\n",
            "platform linux -- Python 3.7.10, pytest-3.6.4, py-1.10.0, pluggy-0.7.1\n",
            "rootdir: /tmp/tmpgajyc9qk, inifile:\n",
            "plugins: typeguard-2.7.1\n",
            "collected 0 items\n",
            "\n",
            "=============================== warnings summary ===============================\n",
            "<undetermined location>\n",
            "  Module already imported so cannot be rewritten: typeguard\n",
            "\n",
            "-- Docs: http://doc.pytest.org/en/latest/warnings.html\n",
            "========================== 1 warnings in 0.06 seconds ==========================\n"
          ],
          "name": "stdout"
        }
      ]
    },
    {
      "cell_type": "markdown",
      "metadata": {
        "id": "orewvVh8h24K"
      },
      "source": [
        "You successfully wrote tests! Good job! Now you have a basic understanding of how to write `pytest` tests. You might ask: why I need to use this tool if I only write `asserts`? Well, `pytest` has a lot more in his [sleeves](https://docs.pytest.org/en/stable/contents.html). In the documentation, you can find tons of cool stuff that can help you to write *better programs*. Writing tests is a skill that improves with practice, so do not be afraid to write them."
      ]
    },
    {
      "cell_type": "markdown",
      "metadata": {
        "id": "_-b_3JGih24L"
      },
      "source": [
        "## Comments and documentation\n",
        "As mentioned in the first lesson of this sprint, writing good and beneficial comments is a part of writing clean and easily readable code. Actually, tests are a type of documentation too. Think about it: tests tell you how parts of code should behave. Tests provide information about expected outputs and interactions between different parts of the codebase. This is another pro of writing tests - you need to write less comments. However, sometimes you can not avoid writing comments so you need to know why and how to do it. Writing comments and documentation is a really opinionated topic so take provided information with a grain of salt."
      ]
    },
    {
      "cell_type": "markdown",
      "metadata": {
        "id": "7X_si2pJh24L"
      },
      "source": [
        "### Different types of information\n",
        "#### Comments\n",
        "There are many schools on how and when you should write comments but almost all of them agree that writing comments should also be kept to a minimum. Your code should be self-explanatory:"
      ]
    },
    {
      "cell_type": "markdown",
      "metadata": {
        "id": "hawu2buZh24L"
      },
      "source": [
        "```python\n",
        "### BAD EXAMPLE\n",
        "\n",
        "def person_information(person: Person):\n",
        "    # checks if the person is male and over 18 years old\n",
        "    return Person.age > 18 and Person.sex == \"male\"\n",
        "\n",
        "### GOOD EXAMPLE\n",
        "\n",
        "def person_is_adult_male(person: Person) -> bool:\n",
        "    return Person.age > 18 and Person.sex == \"male\"\n",
        "```"
      ]
    },
    {
      "cell_type": "markdown",
      "metadata": {
        "id": "U-HmACHgh24M"
      },
      "source": [
        "It is really hard to illustrate why, how, and when you should write comments in one notebook cell, so you should revisit chapter 4 of \"Clean Code\" book and read it once more. Writing good comments is a skill that also comes with practice so you should not be discouraged when a senior developer tells you to improve the comment that you wrote. If you keep things simple and write clean code, you will need less `#` type comments."
      ]
    },
    {
      "cell_type": "markdown",
      "metadata": {
        "id": "nmmDXoK_h24M"
      },
      "source": [
        "#### Docstrings\n",
        "You should only write comments where it is hard to express meaning with code itself. Docstrings are a bit different story. Datacamp.com has a great description of docstring: *Python documentation string or commonly known as docstring, is a string literal, and it is used in the class, module, function, or method definition. Docstrings are accessible from the doc attribute `(__doc__)` for any of the Python objects and also with the built-in `help()` function.* You should not use docstrings as the main source of documentation but it can really help to explain difficult functions in a huge library.\n",
        "Best example of docstring usage might be `fast.ai` library. Fast.ai lets users to read an in-depth explanation of code using notebooks. It is really convenient for data scientists and all other developers who use Jupyter as the main dev tool. [Here](https://www.programiz.com/python-programming/docstrings) is a page that has a really in-depth explanation of the differences between comments and docstrings. The reach of docstrings is usually made by the mentioned functions above or by using `Pydoc`. Pydoc is a tool that lets developers to easily access and create code documentation. [Here](https://www.youtube.com/watch?v=URBSvqib0xw) is a video that covers the basics of Pydoc (just do not be annoyed by the strange talking lady :D)\n",
        "\n",
        "It is highly suggested to read [freecodecamp article](https://www.freecodecamp.org/news/code-comments-the-good-the-bad-and-the-ugly-be9cc65fbf83/) about commenting in general. As mentioned earlier code style and commenting are really opinionated topics but there still are main ideas and concepts that most developers agree on."
      ]
    },
    {
      "cell_type": "markdown",
      "metadata": {
        "id": "ybMVsCoOh24M"
      },
      "source": [
        "#### Type hints\n",
        "You might have noticed strange parts of code in the provided examples. For example: `def sum(a: int, b: int) -> int:`. **a: int**, **->int:** are the type hints. You should always use them as they not only help to prevent unexpected types of inputs and outputs but they also provide information about your code. See the example below:\n",
        "```python\n",
        "def sum_list(a):\n",
        "    # TAKES LIST AND RETURNS INT TYPE SUM OF LIST\n",
        "    return int(sum(a))\n",
        "```\n",
        "If you know about type hints, you can rewrite this function like this:\n",
        "```python\n",
        "def sum(a: list) -> int:\n",
        "    return int(sum(a))\n",
        "```"
      ]
    },
    {
      "cell_type": "markdown",
      "metadata": {
        "id": "Nz16J4EFh24M"
      },
      "source": [
        "The information that was in the name of the function and in the comment now is in the function itself: there is no need to write `sum_list` as the type of argument shows that the input will be a list. There is no need to write a comment that tells that the returned value's type will be int, type hints shows you. In [this](https://florimond.dev/blog/articles/2018/07/why-i-started-using-python-type-annotations-and-why-you-should-too/) blog post you can find more examples that illustrates why you should use type hints."
      ]
    },
    {
      "cell_type": "markdown",
      "metadata": {
        "id": "f5sr0187h24N"
      },
      "source": [
        "#### README.md PLEASE!\n",
        "`README.md` file is the core of your project. This documentation file can decide if your project is successful or not. This is an even more serious case if the main place that your project is accessible from is a page like GitHub. Good readme files commonly share these attributes:\n",
        "* Have structure\n",
        "* Have instructions on how to use your project\n",
        "* Frequently updated\n",
        "* Easy to read and follow\n",
        "\n",
        "Here is a cool blog post that explains structure really well: [link](https://bulldogjob.com/news/449-how-to-write-a-good-readme-for-your-github-project). You should always have well written `README` file in your project as it not only shows the quality of your work but also provides information that is easy to read and access."
      ]
    },
    {
      "cell_type": "markdown",
      "metadata": {
        "id": "8RLF9Fqhh24N"
      },
      "source": [
        "## Licenses\n",
        "The last topic of this lesson is licenses. Every code line has its own author. This comes with idea that every author has his own opinion and ideas on how his code should be used or distributed. Licensing is pretty common in our technological world. There are many different types of legal documents that you can use to protect your code. Mainly there are five different types of Software Licenses:\n",
        "1. Public Domain\n",
        "2. GNU/LGPL – GNU Lesser General Public\n",
        "3. Permissive\n",
        "4. Copyleft\n",
        "5. Proprietary\n",
        "\n",
        "In the open-source world of code, most of the code is protected by Public Domain and GNU type licenses. You can read more about these different types [here](https://snyk.io/learn/what-is-a-software-license/). Sometimes it is required that your project contains a license (creating Python package) but it is always a good practice to have one. The one thing that you must do is not to breach provided licenses. You can get into serious legal trouble by avoiding provided usage terms of software or code. Even datasets have licenses: some are available for commercial usage some are not. If you want to avoid unexpected legal charges you need to learn how to protect your project with license and how to understand and follow provided legal documents when using software or other types of digital medium."
      ]
    },
    {
      "cell_type": "markdown",
      "metadata": {
        "id": "6qHk_lIVh24N"
      },
      "source": [
        "## Exercise\n",
        "In this lesson's final exercise you will need to port the Tesla factory code from notebook cell to a `.py` file and write tests to it. You will also need to complete initialization of project by creating `README` file. You will also need to generate and add MIT license to your project.\n",
        "1. Create a GitHub repository. [Here](https://guides.github.com/activities/hello-world/) is a tutorial on how to do it\n",
        "2. Copy Tesla Fabric code you wrote last lesson and apply two unit tests to it\n",
        "3. Add Docstrings to selected three functions of `Tesla` class\n",
        "4. Write clear README file. Follow structure mentioned earlier in the lesson\n",
        "5. Add Open Source MIT license to your repository https://opensource.org/licenses/MIT"
      ]
    },
    {
      "cell_type": "markdown",
      "metadata": {
        "id": "JftyylWJh24O"
      },
      "source": [
        "---"
      ]
    },
    {
      "cell_type": "markdown",
      "metadata": {
        "id": "Wji8q4Jqh24O"
      },
      "source": [
        "## Summary\n",
        "You did a great job this lesson! You learned about software testing, gained knowledge of documentation and legal parts of software development. Now you not only know how to write code but also how to maintain it and represent it to other developers. Tomorrow we will talk about Python environments and you will learn how to create your own Python package!"
      ]
    },
    {
      "cell_type": "markdown",
      "metadata": {
        "id": "rz6XhAi5h24O"
      },
      "source": [
        "## Further research\n",
        "Reviewing code is a really important part of daily developer's workflow but good developers should also know how to write informative [Pull Requests](https://docs.github.com/en/free-pro-team@latest/github/collaborating-with-issues-and-pull-requests/about-pull-requests). You can start diving into this topic by reading [this](https://www.atlassian.com/blog/git/written-unwritten-guide-pull-requests) source. Also [here](https://medium.com/better-programming/how-to-make-a-perfect-pull-request-3578fb4c112) is also a pretty good TLDR on how to write good PRs."
      ]
    },
    {
      "cell_type": "markdown",
      "metadata": {
        "id": "ZWY2J8s8h24O"
      },
      "source": [
        "---"
      ]
    },
    {
      "cell_type": "code",
      "metadata": {
        "id": "-6SryNEZh24P"
      },
      "source": [
        ""
      ],
      "execution_count": null,
      "outputs": []
    }
  ]
}